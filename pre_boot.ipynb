{
  "nbformat": 4,
  "nbformat_minor": 0,
  "metadata": {
    "colab": {
      "provenance": []
    },
    "kernelspec": {
      "name": "python3",
      "display_name": "Python 3"
    },
    "language_info": {
      "name": "python"
    }
  },
  "cells": [
    {
      "cell_type": "markdown",
      "source": [
        "ex 55 are o problema\n",
        "ex 75 are problema\n",
        "dupa 75 trebuie de schimbat ca nu e de la pre boot camp\n",
        "> Add blockquote\n",
        "\n"
      ],
      "metadata": {
        "id": "4JU-65l1WHCv"
      }
    },
    {
      "cell_type": "code",
      "source": [
        "pip install sigmoid_check"
      ],
      "metadata": {
        "colab": {
          "base_uri": "https://localhost:8080/"
        },
        "id": "jr8wHC9GR4P3",
        "outputId": "03aa3c54-d016-4d9f-b361-4cf558600eaa"
      },
      "execution_count": null,
      "outputs": [
        {
          "output_type": "stream",
          "name": "stdout",
          "text": [
            "Collecting sigmoid_check\n",
            "  Downloading sigmoid_check-0.1.5-py3-none-any.whl.metadata (3.1 kB)\n",
            "Collecting numpy>=2.0.0 (from sigmoid_check)\n",
            "  Downloading numpy-2.1.3-cp310-cp310-manylinux_2_17_x86_64.manylinux2014_x86_64.whl.metadata (62 kB)\n",
            "\u001b[2K     \u001b[90m━━━━━━━━━━━━━━━━━━━━━━━━━━━━━━━━━━━━━━━━\u001b[0m \u001b[32m62.0/62.0 kB\u001b[0m \u001b[31m3.1 MB/s\u001b[0m eta \u001b[36m0:00:00\u001b[0m\n",
            "\u001b[?25hDownloading sigmoid_check-0.1.5-py3-none-any.whl (87 kB)\n",
            "\u001b[2K   \u001b[90m━━━━━━━━━━━━━━━━━━━━━━━━━━━━━━━━━━━━━━━━\u001b[0m \u001b[32m87.3/87.3 kB\u001b[0m \u001b[31m3.8 MB/s\u001b[0m eta \u001b[36m0:00:00\u001b[0m\n",
            "\u001b[?25hDownloading numpy-2.1.3-cp310-cp310-manylinux_2_17_x86_64.manylinux2014_x86_64.whl (16.3 MB)\n",
            "\u001b[2K   \u001b[90m━━━━━━━━━━━━━━━━━━━━━━━━━━━━━━━━━━━━━━━━\u001b[0m \u001b[32m16.3/16.3 MB\u001b[0m \u001b[31m50.9 MB/s\u001b[0m eta \u001b[36m0:00:00\u001b[0m\n",
            "\u001b[?25hInstalling collected packages: numpy, sigmoid_check\n",
            "  Attempting uninstall: numpy\n",
            "    Found existing installation: numpy 1.26.4\n",
            "    Uninstalling numpy-1.26.4:\n",
            "      Successfully uninstalled numpy-1.26.4\n",
            "\u001b[31mERROR: pip's dependency resolver does not currently take into account all the packages that are installed. This behaviour is the source of the following dependency conflicts.\n",
            "cupy-cuda12x 12.2.0 requires numpy<1.27,>=1.20, but you have numpy 2.1.3 which is incompatible.\n",
            "gensim 4.3.3 requires numpy<2.0,>=1.18.5, but you have numpy 2.1.3 which is incompatible.\n",
            "langchain 0.3.7 requires numpy<2,>=1; python_version < \"3.12\", but you have numpy 2.1.3 which is incompatible.\n",
            "matplotlib 3.8.0 requires numpy<2,>=1.21, but you have numpy 2.1.3 which is incompatible.\n",
            "numba 0.60.0 requires numpy<2.1,>=1.22, but you have numpy 2.1.3 which is incompatible.\n",
            "pytensor 2.25.5 requires numpy<2,>=1.17.0, but you have numpy 2.1.3 which is incompatible.\n",
            "tensorflow 2.17.1 requires numpy<2.0.0,>=1.23.5; python_version <= \"3.11\", but you have numpy 2.1.3 which is incompatible.\n",
            "thinc 8.2.5 requires numpy<2.0.0,>=1.19.0; python_version >= \"3.9\", but you have numpy 2.1.3 which is incompatible.\u001b[0m\u001b[31m\n",
            "\u001b[0mSuccessfully installed numpy-2.1.3 sigmoid_check-0.1.5\n"
          ]
        }
      ]
    },
    {
      "cell_type": "code",
      "execution_count": null,
      "metadata": {
        "id": "gJTL1B9zv3k1"
      },
      "outputs": [],
      "source": [
        "#Asigurațivă că ați rulat comanda `pip install sigmoid_check` în terminal înainte de a rula acest script.\n",
        "from sigmoid_check.python_warmup import *"
      ]
    },
    {
      "cell_type": "code",
      "source": [
        "@check_exercise_1\n",
        "def exercise_1():\n",
        "    # This line is mandatory and should not be removed\n",
        "    ex_stat_init = True\n",
        "\n",
        "    # print the text \"Hello, World!\" to the console;\n",
        "    # BELOW GOES YOUR CODE\n",
        "    print (\"Hello, World!\")\n",
        "    # ABOVE GOES YOUR CODE\n",
        "\n",
        "exercise_1()"
      ],
      "metadata": {
        "colab": {
          "base_uri": "https://localhost:8080/"
        },
        "id": "pKvSarQEQxp8",
        "outputId": "443cea34-b150-4f5b-e982-0f84c00abe86"
      },
      "execution_count": null,
      "outputs": [
        {
          "output_type": "stream",
          "name": "stdout",
          "text": [
            "✅ Great job! Exercise completed successfully.\n"
          ]
        }
      ]
    },
    {
      "cell_type": "code",
      "source": [
        "@check_exercise_2\n",
        "def exercise_2():\n",
        "    # This line is mandatory and should not be removed\n",
        "    ex_stat_init = True\n",
        "\n",
        "    # print the result of 3 + 5;\n",
        "    # BELOW GOES YOUR CODE\n",
        "    print (3+5)\n",
        "    # ABOVE GOES YOUR CODE\n",
        "\n",
        "# Run the exercise\n",
        "exercise_2()"
      ],
      "metadata": {
        "colab": {
          "base_uri": "https://localhost:8080/"
        },
        "id": "SOEppcHBSGYe",
        "outputId": "13158e14-c7a8-42fb-9932-e3bdd8629878"
      },
      "execution_count": null,
      "outputs": [
        {
          "output_type": "stream",
          "name": "stdout",
          "text": [
            "✅ Great job! Exercise completed successfully.\n"
          ]
        }
      ]
    },
    {
      "cell_type": "code",
      "source": [
        "@check_exercise_3\n",
        "def exercise_3():\n",
        "    # This line is mandatory and should not be removed\n",
        "    ex_stat_init = True\n",
        "\n",
        "    # create a variable called \"name\" and assign it the value \"John\";\n",
        "    # BELOW GOES YOUR CODE\n",
        "    name = \"John\"\n",
        "    # ABOVE GOES YOUR CODE\n",
        "\n",
        "    # Return the variables you want to check\n",
        "    return {\"name\": name}\n",
        "\n",
        "# Run the exercise\n",
        "exercise_3()"
      ],
      "metadata": {
        "colab": {
          "base_uri": "https://localhost:8080/"
        },
        "id": "AJ3jdfKDSh2F",
        "outputId": "f67fabad-0713-4535-aab5-76f9a9756fe8"
      },
      "execution_count": null,
      "outputs": [
        {
          "output_type": "stream",
          "name": "stdout",
          "text": [
            "✅ Great job! Exercise completed successfully.\n"
          ]
        }
      ]
    },
    {
      "cell_type": "code",
      "source": [
        "@check_exercise_4\n",
        "def exercise_4(name):\n",
        "    # This line is mandatory and should not be removed\n",
        "    ex_stat_init = True\n",
        "\n",
        "    # print the text \"Hello, John!\" to the console using the variable `name`;\n",
        "    # BELOW GOES YOUR CODE\n",
        "    name = \"John\"\n",
        "    print(f\"Hello, {name}!\")\n",
        "    # ABOVE GOES YOUR CODE\n",
        "\n",
        "# Run the exercise\n",
        "exercise_4()\n"
      ],
      "metadata": {
        "colab": {
          "base_uri": "https://localhost:8080/"
        },
        "id": "ULNTSRTUSkMG",
        "outputId": "864dae5a-7c65-42a9-834a-0224de6b521f"
      },
      "execution_count": null,
      "outputs": [
        {
          "output_type": "stream",
          "name": "stdout",
          "text": [
            "❗ The implementation is incorrect or the exercise was not implemented.\n"
          ]
        }
      ]
    },
    {
      "cell_type": "code",
      "source": [
        "@check_exercise_5\n",
        "def exercise_5():\n",
        "    # This line is mandatory and should not be removed\n",
        "    ex_stat_init = True\n",
        "\n",
        "    # create a variable called \"age\" and assign it the value 25;\n",
        "    # BELOW GOES YOUR CODE\n",
        "    age = 25\n",
        "    # ABOVE GOES YOUR CODE\n",
        "    return {\"age\": age}\n",
        "\n",
        "# Run the exercise\n",
        "exercise_5()"
      ],
      "metadata": {
        "id": "nmeK5obvSmdO",
        "colab": {
          "base_uri": "https://localhost:8080/"
        },
        "outputId": "c42c7100-c1fe-47e6-f98a-d9e1a152877a"
      },
      "execution_count": null,
      "outputs": [
        {
          "output_type": "stream",
          "name": "stdout",
          "text": [
            "✅ Great job! Exercise completed successfully.\n"
          ]
        }
      ]
    },
    {
      "cell_type": "code",
      "source": [
        "@check_exercise_6\n",
        "def exercise_6(name, age):\n",
        "    # This line is mandatory and should not be removed\n",
        "    ex_stat_init = True\n",
        "\n",
        "    # print the text \"John is 25 years old\" to the console using the variables `name` and `age`;\n",
        "    # BELOW GOES YOUR CODE\n",
        "    print(f\"{name} is {age} years old\")\n",
        "    # ABOVE GOES YOUR CODE\n",
        "\n",
        "# Run the exercise\n",
        "exercise_6()"
      ],
      "metadata": {
        "id": "9m4qz8-GSphd",
        "colab": {
          "base_uri": "https://localhost:8080/"
        },
        "outputId": "696c2ba6-0ef2-4269-a54f-a32cd5d6fccd"
      },
      "execution_count": null,
      "outputs": [
        {
          "output_type": "stream",
          "name": "stdout",
          "text": [
            "✅ Great job! Exercise completed successfully.\n"
          ]
        }
      ]
    },
    {
      "cell_type": "code",
      "source": [
        "@check_exercise_7\n",
        "def exercise_7():\n",
        "    # This line is mandatory and should not be removed\n",
        "    ex_stat_init = True\n",
        "\n",
        "    # create a variable called \"is_old\" and assign it the value True;\n",
        "    # BELOW GOES YOUR CODE\n",
        "    is_old =True\n",
        "    # ABOVE GOES YOUR CODE\n",
        "    return {\"is_old\": is_old}\n",
        "\n",
        "# Run the exercise\n",
        "exercise_7()"
      ],
      "metadata": {
        "id": "W9Md9lfKSsmR",
        "colab": {
          "base_uri": "https://localhost:8080/"
        },
        "outputId": "6f1a4a34-8902-4744-e477-60954e1cef69"
      },
      "execution_count": null,
      "outputs": [
        {
          "output_type": "stream",
          "name": "stdout",
          "text": [
            "✅ Great job! Exercise completed successfully.\n"
          ]
        }
      ]
    },
    {
      "cell_type": "code",
      "source": [
        "@check_exercise_8\n",
        "def exercise_8(is_old):\n",
        "    # This line is mandatory and should not be removed\n",
        "    ex_stat_init = True\n",
        "\n",
        "    # print the text \"John is old\" to the console if `is_old` is True;\n",
        "    # BELOW GOES YOUR CODE\n",
        "    if is_old == True :\n",
        "       print(\"John is old\")\n",
        "    # ABOVE GOES YOUR CODE\n",
        "\n",
        "# Run the exercise\n",
        "exercise_8()"
      ],
      "metadata": {
        "id": "Eei93yOySvQu",
        "colab": {
          "base_uri": "https://localhost:8080/"
        },
        "outputId": "b2e1c27e-1d5f-4021-a44f-e9945f4efe14"
      },
      "execution_count": null,
      "outputs": [
        {
          "output_type": "stream",
          "name": "stdout",
          "text": [
            "✅ Great job! Exercise completed successfully.\n"
          ]
        }
      ]
    },
    {
      "cell_type": "code",
      "source": [
        "@check_exercise_9\n",
        "def exercise_9(name, age):\n",
        "    # This line is mandatory and should not be removed\n",
        "    ex_stat_init = True\n",
        "\n",
        "    # swap the values of the variables `name` and `age` using a third variable;\n",
        "    # BELOW GOES YOUR CODE\n",
        "    swap =name\n",
        "    name= age\n",
        "    age = swap\n",
        "    # ABOVE GOES YOUR CODE\n",
        "    return {\"name\": name, \"age\": age}\n",
        "\n",
        "# Run the exercise\n",
        "exercise_9()"
      ],
      "metadata": {
        "id": "RR_5gh0HSw7M",
        "colab": {
          "base_uri": "https://localhost:8080/"
        },
        "outputId": "cc815f93-4a90-44b2-fd59-4a4ffa8b22fc"
      },
      "execution_count": null,
      "outputs": [
        {
          "output_type": "stream",
          "name": "stdout",
          "text": [
            "✅ Great job! Exercise completed successfully.\n"
          ]
        }
      ]
    },
    {
      "cell_type": "code",
      "source": [
        "@check_exercise_10\n",
        "def exercise_10(name, age):\n",
        "    # This line is mandatory and should not be removed\n",
        "    ex_stat_init = True\n",
        "\n",
        "    # swap the values of the variables `name` and `age` using only two variables;\n",
        "    # BELOW GOES YOUR CODE\n",
        "    age ,name = name, age\n",
        "    # ABOVE GOES YOUR CODE\n",
        "    return {\"name\": name, \"age\": age}\n",
        "\n",
        "# Run the exercise\n",
        "exercise_10()"
      ],
      "metadata": {
        "id": "TF_aJXPgSyh6",
        "colab": {
          "base_uri": "https://localhost:8080/"
        },
        "outputId": "08153325-85fc-4b07-edc6-b9db93344be6"
      },
      "execution_count": null,
      "outputs": [
        {
          "output_type": "stream",
          "name": "stdout",
          "text": [
            "✅ Great job! Exercise completed successfully.\n"
          ]
        }
      ]
    },
    {
      "cell_type": "code",
      "source": [
        "@check_exercise_11\n",
        "def exercise_11():\n",
        "    # This line is mandatory and should not be removed\n",
        "    ex_stat_init = True\n",
        "\n",
        "    # create a variable called \"height\" and assign it the value 1.75;\n",
        "    # BELOW GOES YOUR CODE\n",
        "    height = 1.75\n",
        "    # ABOVE GOES YOUR CODE\n",
        "    return {\"height\": height}\n",
        "\n",
        "# Run the exercise\n",
        "exercise_11()"
      ],
      "metadata": {
        "id": "tON_8Yj8Sz3u",
        "colab": {
          "base_uri": "https://localhost:8080/"
        },
        "outputId": "e219dc50-e81f-43eb-e0f1-b1f0054ea1b5"
      },
      "execution_count": null,
      "outputs": [
        {
          "output_type": "stream",
          "name": "stdout",
          "text": [
            "✅ Great job! Exercise completed successfully.\n"
          ]
        }
      ]
    },
    {
      "cell_type": "code",
      "source": [
        "@check_exercise_12\n",
        "def exercise_12(name, age, height):\n",
        "    # This line is mandatory and should not be removed\n",
        "    ex_stat_init = True\n",
        "\n",
        "    # print the text \"John is 25 years old and is 1.75m tall\" to the console using the variables `name`, `age` and `height`;\n",
        "    # BELOW GOES YOUR CODE\n",
        "    print(f\"{name} is {age} years old and is {height}m tall\")\n",
        "    # ABOVE GOES YOUR CODE\n",
        "\n",
        "# Run the exercise\n",
        "exercise_12()"
      ],
      "metadata": {
        "id": "jqB_qPd9S2Im",
        "colab": {
          "base_uri": "https://localhost:8080/"
        },
        "outputId": "c4215ae5-91cb-42c2-b0a9-1d141233b83e"
      },
      "execution_count": null,
      "outputs": [
        {
          "output_type": "stream",
          "name": "stdout",
          "text": [
            "✅ Great job! Exercise completed successfully.\n"
          ]
        }
      ]
    },
    {
      "cell_type": "code",
      "source": [
        "@check_exercise_13\n",
        "def exercise_13():\n",
        "    # This line is mandatory and should not be removed\n",
        "    ex_stat_init = True\n",
        "\n",
        "    # create a variable called \"is_tall\" and a variable called \"is_old\" and assign them the values True and False, respectively;\n",
        "    # BELOW GOES YOUR CODE\n",
        "    is_tall = True\n",
        "    is_old = False\n",
        "    # ABOVE GOES YOUR CODE\n",
        "    return {\"is_tall\": is_tall, \"is_old\": is_old}\n",
        "\n",
        "# Run the exercise\n",
        "exercise_13()"
      ],
      "metadata": {
        "id": "xGZVohoLS4ZQ",
        "colab": {
          "base_uri": "https://localhost:8080/"
        },
        "outputId": "628eac64-252c-40ee-9d89-bfadc5e548fa"
      },
      "execution_count": null,
      "outputs": [
        {
          "output_type": "stream",
          "name": "stdout",
          "text": [
            "✅ Great job! Exercise completed successfully.\n"
          ]
        }
      ]
    },
    {
      "cell_type": "code",
      "source": [
        "@check_exercise_14\n",
        "def exercise_14(is_tall, is_old):\n",
        "    # This line is mandatory and should not be removed\n",
        "    ex_stat_init = True\n",
        "\n",
        "    # print the text \"John is tall and old\" to the console if `is_tall` and `is_old` are True;\n",
        "    # BELOW GOES YOUR CODE\n",
        "    if is_tall == True & is_old ==True :\n",
        "      print(\"John is tall and old\")\n",
        "    # ABOVE GOES YOUR CODE\n",
        "\n",
        "# Run the exercise\n",
        "exercise_14()"
      ],
      "metadata": {
        "id": "35sfyEHmTLUa",
        "colab": {
          "base_uri": "https://localhost:8080/"
        },
        "outputId": "8dbaaede-e071-433d-b978-0c7654b686e0"
      },
      "execution_count": null,
      "outputs": [
        {
          "output_type": "stream",
          "name": "stdout",
          "text": [
            "✅ Great job! Exercise completed successfully.\n"
          ]
        }
      ]
    },
    {
      "cell_type": "code",
      "source": [
        "@check_exercise_15\n",
        "def exercise_15(is_tall, is_old):\n",
        "    # This line is mandatory and should not be removed\n",
        "    ex_stat_init = True\n",
        "\n",
        "    # print the text \"John is tall or old\" to the console if `is_tall` or `is_old` are True;\n",
        "    # BELOW GOES YOUR CODE\n",
        "    if is_tall == True or is_old ==True :\n",
        "      print(\"John is tall or old\")\n",
        "    # ABOVE GOES YOUR CODE\n",
        "\n",
        "# Run the exercise\n",
        "exercise_15()"
      ],
      "metadata": {
        "colab": {
          "base_uri": "https://localhost:8080/"
        },
        "id": "xMnqrA4UPUNx",
        "outputId": "48cbbfeb-aaeb-4bd3-fbce-d7c297e6b1df"
      },
      "execution_count": null,
      "outputs": [
        {
          "output_type": "stream",
          "name": "stdout",
          "text": [
            "✅ Great job! Exercise completed successfully.\n"
          ]
        }
      ]
    },
    {
      "cell_type": "code",
      "source": [
        "@check_exercise_16\n",
        "def exercise_16(is_tall):\n",
        "    # This line is mandatory and should not be removed\n",
        "    ex_stat_init = True\n",
        "\n",
        "    # print the text \"John is not tall\" to the console if `is_tall` is False;\n",
        "    # BELOW GOES YOUR CODE\n",
        "    if is_tall == False:\n",
        "      print(\"John is not tall\")\n",
        "    # ABOVE GOES YOUR CODE\n",
        "\n",
        "# Run the exercise\n",
        "exercise_16()"
      ],
      "metadata": {
        "colab": {
          "base_uri": "https://localhost:8080/"
        },
        "id": "8SsMdGkpPWQA",
        "outputId": "9069fe0e-369d-4142-ebd9-71d018d793cb"
      },
      "execution_count": null,
      "outputs": [
        {
          "output_type": "stream",
          "name": "stdout",
          "text": [
            "✅ Great job! Exercise completed successfully.\n"
          ]
        }
      ]
    },
    {
      "cell_type": "code",
      "source": [
        "@check_exercise_17\n",
        "def exercise_17(is_old):\n",
        "    # This line is mandatory and should not be removed\n",
        "    ex_stat_init = True\n",
        "\n",
        "    # print the text \"John is not old\" to the console if `is_old` is False;\n",
        "    # BELOW GOES YOUR CODE\n",
        "    if is_old == False:\n",
        "      print(\"John is not old\")\n",
        "    # ABOVE GOES YOUR CODE\n",
        "\n",
        "# Run the exercise\n",
        "exercise_17()"
      ],
      "metadata": {
        "colab": {
          "base_uri": "https://localhost:8080/"
        },
        "id": "sYJFORibPX6K",
        "outputId": "3a5ee705-8ac0-4e8a-b5ac-74dd806e0520"
      },
      "execution_count": null,
      "outputs": [
        {
          "output_type": "stream",
          "name": "stdout",
          "text": [
            "✅ Great job! Exercise completed successfully.\n"
          ]
        }
      ]
    },
    {
      "cell_type": "code",
      "source": [
        "@check_exercise_18\n",
        "def exercise_18(is_tall, is_old):\n",
        "    # This line is mandatory and should not be removed\n",
        "    ex_stat_init = True\n",
        "\n",
        "    # print the text \"John is tall and not old\" to the console if `is_tall` is True and `is_old` is False;\n",
        "    # BELOW GOES YOUR CODE\n",
        "    if is_tall == True and is_old == False :\n",
        "      print(\"John is tall and not old\")\n",
        "    # ABOVE GOES YOUR CODE\n",
        "\n",
        "# Run the exercise\n",
        "exercise_18()"
      ],
      "metadata": {
        "colab": {
          "base_uri": "https://localhost:8080/"
        },
        "id": "0Z4yVDh9PjXK",
        "outputId": "058c4301-9dd8-42b0-80bd-843dc4111c62"
      },
      "execution_count": null,
      "outputs": [
        {
          "output_type": "stream",
          "name": "stdout",
          "text": [
            "✅ Great job! Exercise completed successfully.\n"
          ]
        }
      ]
    },
    {
      "cell_type": "code",
      "source": [
        "@check_exercise_19\n",
        "def exercise_19(is_tall, is_old):\n",
        "    # This line is mandatory and should not be removed\n",
        "    ex_stat_init = True\n",
        "\n",
        "    # print the text \"John is not tall and old\" to the console if `is_tall` is False and `is_old` is True;\n",
        "    # BELOW GOES YOUR CODE\n",
        "    if is_tall == False and is_old == True :\n",
        "      print(\"John is not tall and old\")\n",
        "    # ABOVE GOES YOUR CODE\n",
        "\n",
        "# Run the exercise\n",
        "exercise_19()"
      ],
      "metadata": {
        "colab": {
          "base_uri": "https://localhost:8080/"
        },
        "id": "OYSbayM0Pk1K",
        "outputId": "362bebd7-7600-49ea-aeaf-0325a6991f4c"
      },
      "execution_count": null,
      "outputs": [
        {
          "output_type": "stream",
          "name": "stdout",
          "text": [
            "✅ Great job! Exercise completed successfully.\n"
          ]
        }
      ]
    },
    {
      "cell_type": "code",
      "source": [
        "@check_exercise_20\n",
        "def exercise_20(age):\n",
        "    # This line is mandatory and should not be removed\n",
        "    ex_stat_init = True\n",
        "\n",
        "    # print the text \"John is older than 30\" to the console if `age` is greater than 30;\n",
        "    # BELOW GOES YOUR CODE\n",
        "    if age > 30 :\n",
        "      print(\"John is older than 30\")\n",
        "    # ABOVE GOES YOUR CODE\n",
        "\n",
        "# Run the exercise\n",
        "exercise_20()"
      ],
      "metadata": {
        "colab": {
          "base_uri": "https://localhost:8080/"
        },
        "id": "vfLlgbawPmTd",
        "outputId": "74ac5796-d362-4487-eb06-4cd72477280b"
      },
      "execution_count": null,
      "outputs": [
        {
          "output_type": "stream",
          "name": "stdout",
          "text": [
            "✅ Great job! Exercise completed successfully.\n"
          ]
        }
      ]
    },
    {
      "cell_type": "code",
      "source": [
        "@check_exercise_21\n",
        "def exercise_21(age):\n",
        "    # This line is mandatory and should not be removed\n",
        "    ex_stat_init = True\n",
        "\n",
        "    # print the text \"John is younger than 30\" to the console if `age` is less than 30;\n",
        "    # BELOW GOES YOUR CODE\n",
        "    if age < 30 :\n",
        "      print(\"John is younger than 30\")\n",
        "    # ABOVE GOES YOUR CODE\n",
        "\n",
        "# Run the exercise\n",
        "exercise_21()"
      ],
      "metadata": {
        "colab": {
          "base_uri": "https://localhost:8080/"
        },
        "id": "YNxD1R9tPr65",
        "outputId": "0e43d37b-720c-4b97-bdd0-836c2f90e288"
      },
      "execution_count": null,
      "outputs": [
        {
          "output_type": "stream",
          "name": "stdout",
          "text": [
            "✅ Great job! Exercise completed successfully.\n"
          ]
        }
      ]
    },
    {
      "cell_type": "code",
      "source": [
        "@check_exercise_22\n",
        "def exercise_22():\n",
        "    # This line is mandatory and should not be removed\n",
        "    ex_stat_init = True\n",
        "\n",
        "    # create a variable `x` and assign it the value 42; create a variable `y` and assign it the value 9; create a variable `z` and assign it the value 7;\n",
        "    # BELOW GOES YOUR CODE\n",
        "    x = 42\n",
        "    y = 9\n",
        "    z = 7\n",
        "    # ABOVE GOES YOUR CODE\n",
        "    return {\"x\": x, \"y\": y, \"z\": z}\n",
        "\n",
        "# Run the exercise\n",
        "exercise_22()"
      ],
      "metadata": {
        "colab": {
          "base_uri": "https://localhost:8080/"
        },
        "id": "2KJheAHhPtep",
        "outputId": "5748fab0-b58f-4935-be8d-02a1fb19b5e2"
      },
      "execution_count": null,
      "outputs": [
        {
          "output_type": "stream",
          "name": "stdout",
          "text": [
            "✅ Great job! Exercise completed successfully.\n"
          ]
        }
      ]
    },
    {
      "cell_type": "code",
      "source": [
        "from ast import Add\n",
        "@check_exercise_23\n",
        "def exercise_23(x, y, z):\n",
        "    # This line is mandatory and should not be removed\n",
        "    ex_stat_init = True\n",
        "\n",
        "    # create a dictionary called `computations` with the keys \"add_x_y\", \"add_x_z\", \"add_y_z\", \"sub_x_y\", \"sub_x_z\", \"sub_y_z\", \"mul_x_y\", \"mul_x_z\", \"mul_y_z\", \"div_x_y\", \"div_x_z\", \"div_y_z\", \"mod_x_y\", \"mod_x_z\", \"mod_y_z\", \"pow_x_y\", \"pow_x_z\", \"pow_y_z\" and the values the results of the respective operations;\n",
        "    # BELOW GOES YOUR CODE\n",
        "    computations ={\"add_x_y\":x+y, \"add_x_z\":x+z, \"add_y_z\":y+z,\n",
        "                  \"sub_x_y\":x-y, \"sub_x_z\":x-z, \"sub_y_z\":y-z,\n",
        "                  \"mul_x_y\":x*y, \"mul_x_z\":x*z, \"mul_y_z\":y*z,\n",
        "                  \"div_x_y\":x/y, \"div_x_z\":x/z, \"div_y_z\":y/z,\n",
        "                  \"mod_x_y\":x%y, \"mod_x_z\":x%z, \"mod_y_z\":y%z}\n",
        "    # update(add_x_y:x+y)\n",
        "    # update(add_x_z:x+z)\n",
        "    # update(add_y_z:x+y)\n",
        "\n",
        "    # update(sub_x_y:x-y)\n",
        "    # update(sub_x_z:x-z)\n",
        "    # update(sub_y_z:x-y)\n",
        "\n",
        "    # update(mul_x_y:x*y)\n",
        "    # update(mul_x_z:x*z)\n",
        "    # update(mul_y_z:x*y)\n",
        "\n",
        "    # update(div_x_y:x/y)\n",
        "    # update(div_x_z:x/z)\n",
        "    # update(div_y_z:x/y)\n",
        "\n",
        "    # update(mod_x_y:x%y)\n",
        "    # update(mod_x_z:x%z)\n",
        "    # update(mod_y_z:x%y)\n",
        "\n",
        "    # update(pow_x_y:x^y)\n",
        "    # update(pow_x_z:x^z)\n",
        "    # update(pow_y_z:x^y)\n",
        "\n",
        "    computations [\"pow_x_y\"] = x**y\n",
        "    # computations [\"pow_x_z\"] = x**z\n",
        "    # computations [\"pow_y_z\"] = y**z\n",
        "    # computations.update({\"pow_x_y\":x**y})\n",
        "    computations.update({\"pow_x_z\":x**z})\n",
        "    computations.update({\"pow_y_z\":y**z})\n",
        "    # ABOVE GOES YOUR CODE\n",
        "    return {\n",
        "        \"computations\": computations\n",
        "    }\n",
        "\n",
        "# Run the exercise\n",
        "exercise_23()"
      ],
      "metadata": {
        "colab": {
          "base_uri": "https://localhost:8080/"
        },
        "id": "CU7JbDJyPu6K",
        "outputId": "7a40d961-9bdd-4cca-ffd6-19d6595fc3f0"
      },
      "execution_count": null,
      "outputs": [
        {
          "output_type": "stream",
          "name": "stdout",
          "text": [
            "✅ Great job! Exercise completed successfully.\n"
          ]
        }
      ]
    },
    {
      "cell_type": "code",
      "source": [
        "@check_exercise_24\n",
        "def exercise_24(coordinates):\n",
        "    # This line is mandatory and should not be removed\n",
        "    ex_stat_init = True\n",
        "\n",
        "    # given a tuple `coordinates` with the values (1, 2, 3), unpack the values into the variables `x`, `y` and `z`;\n",
        "    # BELOW GOES YOUR CODE\n",
        "    # coordinates = (1, 2, 3)\n",
        "    x = coordinates[0]\n",
        "    y = coordinates[1]\n",
        "    z = coordinates[2]\n",
        "    # ABOVE GOES YOUR CODE\n",
        "    return {\n",
        "        \"x\": x,\n",
        "        \"y\": y,\n",
        "        \"z\": z\n",
        "    }\n",
        "\n",
        "# Run the exercise\n",
        "exercise_24()"
      ],
      "metadata": {
        "colab": {
          "base_uri": "https://localhost:8080/"
        },
        "id": "IfZIby-DPw5r",
        "outputId": "9c0f7ff5-9266-4312-d9ca-08015ea16454"
      },
      "execution_count": null,
      "outputs": [
        {
          "output_type": "stream",
          "name": "stdout",
          "text": [
            "✅ Great job! Exercise completed successfully.\n"
          ]
        }
      ]
    },
    {
      "cell_type": "code",
      "source": [
        "@check_exercise_25\n",
        "def exercise_25(x, y, z):\n",
        "    # This line is mandatory and should not be removed\n",
        "    ex_stat_init = True\n",
        "\n",
        "    # create a tuple called `coordinates` with the values of the variables `x`, `y` and `z`;\n",
        "    # BELOW GOES YOUR CODE\n",
        "    coordinates = (x, y, z)\n",
        "    # ABOVE GOES YOUR CODE\n",
        "    return {\n",
        "        \"coordinates\": coordinates\n",
        "    }\n",
        "\n",
        "# Run the exercise\n",
        "exercise_25()"
      ],
      "metadata": {
        "colab": {
          "base_uri": "https://localhost:8080/"
        },
        "id": "ZUtPcy4vP6je",
        "outputId": "5f2db7df-96d6-4a3c-b706-cb92da987a94"
      },
      "execution_count": null,
      "outputs": [
        {
          "output_type": "stream",
          "name": "stdout",
          "text": [
            "✅ Great job! Exercise completed successfully.\n"
          ]
        }
      ]
    },
    {
      "cell_type": "code",
      "source": [
        "@check_exercise_26\n",
        "def exercise_26(number1, number2):\n",
        "    # This line is mandatory and should not be removed\n",
        "    ex_stat_init = True\n",
        "\n",
        "    # convert the variable `number1` from float to integer and `number2` from integer to float;\n",
        "    # BELOW GOES YOUR CODE\n",
        "    number1 = int(number1)\n",
        "    number2 = float(number2)\n",
        "    # ABOVE GOES YOUR CODE\n",
        "    return {\n",
        "        \"number1\": number1,\n",
        "        \"number2\": number2\n",
        "    }\n",
        "\n",
        "# Run the exercise\n",
        "exercise_26()"
      ],
      "metadata": {
        "colab": {
          "base_uri": "https://localhost:8080/"
        },
        "id": "bwAgbormP9MW",
        "outputId": "8877e12e-420f-4457-b21d-7612760e1985"
      },
      "execution_count": null,
      "outputs": [
        {
          "output_type": "stream",
          "name": "stdout",
          "text": [
            "✅ Great job! Exercise completed successfully.\n"
          ]
        }
      ]
    },
    {
      "cell_type": "code",
      "source": [
        "@check_exercise_27\n",
        "def exercise_27(elements1, elements2):\n",
        "    # This line is mandatory and should not be removed\n",
        "    ex_stat_init = True\n",
        "\n",
        "    # convert the variable `elements1` from a list to a tuple and `elements2` from a tuple to a list;\n",
        "    # BELOW GOES YOUR CODE\n",
        "    elements1 = tuple(elements1)\n",
        "    elements2 = list(elements2)\n",
        "    # ABOVE GOES YOUR CODE\n",
        "    return {\n",
        "        \"elements1\": elements1,\n",
        "        \"elements2\": elements2\n",
        "    }\n",
        "\n",
        "# Run the exercise\n",
        "exercise_27()"
      ],
      "metadata": {
        "colab": {
          "base_uri": "https://localhost:8080/"
        },
        "id": "RaKRGLKkQCBQ",
        "outputId": "7c4d06b4-da8f-43a8-83c3-45c638009f3f"
      },
      "execution_count": null,
      "outputs": [
        {
          "output_type": "stream",
          "name": "stdout",
          "text": [
            "✅ Great job! Exercise completed successfully.\n"
          ]
        }
      ]
    },
    {
      "cell_type": "code",
      "source": [
        "@check_exercise_28\n",
        "def exercise_28(elements):\n",
        "    # This line is mandatory and should not be removed\n",
        "    ex_stat_init = True\n",
        "\n",
        "    # given the list `elements`, set the value true to the variable `present` if the element \"Python\" is in the list, otherwise return false;\n",
        "    # BELOW GOES YOUR CODE\n",
        "    if (\"Python\" in elements): present = True\n",
        "    else: present = False\n",
        "    # ABOVE GOES YOUR CODE\n",
        "    return {\n",
        "        \"present\": present\n",
        "    }\n",
        "\n",
        "# Run the exercise\n",
        "exercise_28()"
      ],
      "metadata": {
        "id": "k-92P4X2QDt-",
        "colab": {
          "base_uri": "https://localhost:8080/"
        },
        "outputId": "679ff58b-6d92-48b0-a250-02413444b128"
      },
      "execution_count": null,
      "outputs": [
        {
          "output_type": "stream",
          "name": "stdout",
          "text": [
            "✅ Great job! Exercise completed successfully.\n"
          ]
        }
      ]
    },
    {
      "cell_type": "code",
      "source": [
        "@check_exercise_29\n",
        "def exercise_29(elements, to_check):\n",
        "    # This line is mandatory and should not be removed\n",
        "    ex_stat_init = True\n",
        "\n",
        "    # given the list `elements` and the list `to_check`, create the dictionary `presence` with the keys being the elements of `to_check` and the values being True if the element is in `elements`, otherwise False;\n",
        "    # BELOW GOES YOUR CODE\n",
        "    presence = {item: item in elements for item in to_check}\n",
        "    # from itertools import zip_longest\n",
        "    # place_holder=[]\n",
        "    # if \"element\" in elements: presence = dict(zip_longest(to_check,place_holder,fillvalue= True ))\n",
        "    # else : presence = presence = dict(zip_longest(to_check,place_holder,fillvalue= False ))\n",
        "    # # if \"element\" in elements:\n",
        "    # #   presence = zip(to_check,True)\n",
        "    # # else :presence = zip(to_check,False)\n",
        "    # ABOVE GOES YOUR CODE\n",
        "    return {\n",
        "        \"presence\": presence\n",
        "    }\n",
        "\n",
        "# Run the exercise\n",
        "exercise_29()"
      ],
      "metadata": {
        "id": "zrstsqvtQFmD",
        "colab": {
          "base_uri": "https://localhost:8080/"
        },
        "outputId": "2185e58e-78a4-4386-beee-e6730136c9a6"
      },
      "execution_count": null,
      "outputs": [
        {
          "output_type": "stream",
          "name": "stdout",
          "text": [
            "✅ Great job! Exercise completed successfully.\n"
          ]
        }
      ]
    },
    {
      "cell_type": "code",
      "source": [
        "@check_exercise_30\n",
        "def exercise_30(text_to_repeat):\n",
        "    # This line is mandatory and should not be removed\n",
        "    ex_stat_init = True\n",
        "\n",
        "    # given the variable `text_to_repeat`, repeat it 5 times and assign it to the variable `text`;\n",
        "    # BELOW GOES YOUR CODE\n",
        "    i=0\n",
        "    text = text_to_repeat\n",
        "    while i<4 :\n",
        "      text = text+ text_to_repeat\n",
        "      i+=1\n",
        "    # ABOVE GOES YOUR CODE\n",
        "    return {\n",
        "        \"text\": text\n",
        "    }\n",
        "\n",
        "# Run the exercise\n",
        "exercise_30()"
      ],
      "metadata": {
        "id": "yE8IVodsQG-7",
        "colab": {
          "base_uri": "https://localhost:8080/"
        },
        "outputId": "7466e26b-5cd3-4d52-9530-10f23869f12b"
      },
      "execution_count": null,
      "outputs": [
        {
          "output_type": "stream",
          "name": "stdout",
          "text": [
            "✅ Great job! Exercise completed successfully.\n"
          ]
        }
      ]
    },
    {
      "cell_type": "code",
      "source": [
        "@check_exercise_31\n",
        "def exercise_31(text):\n",
        "    # This line is mandatory and should not be removed\n",
        "    ex_stat_init = True\n",
        "\n",
        "    # given the variable `text`, assign to the variable `text` the first 5 characters of the string;\n",
        "    # BELOW GOES YOUR CODE\n",
        "    text = text[:5]\n",
        "    # ABOVE GOES YOUR CODE\n",
        "    return {\n",
        "        \"text\": text\n",
        "    }\n",
        "\n",
        "# Run the exercise\n",
        "exercise_31()"
      ],
      "metadata": {
        "id": "jvQghQ7HQkex",
        "colab": {
          "base_uri": "https://localhost:8080/"
        },
        "outputId": "035b812b-4662-4d5b-900c-f3b80afb5212"
      },
      "execution_count": null,
      "outputs": [
        {
          "output_type": "stream",
          "name": "stdout",
          "text": [
            "✅ Great job! Exercise completed successfully.\n"
          ]
        }
      ]
    },
    {
      "cell_type": "code",
      "source": [
        "@check_exercise_32\n",
        "def exercise_32(text):\n",
        "    # This line is mandatory and should not be removed\n",
        "    ex_stat_init = True\n",
        "\n",
        "    # given the variable `text`, assign the last 5 characters to the variable `last_five`;\n",
        "    # BELOW GOES YOUR CODE\n",
        "    last_five = text[-5:]\n",
        "    # size_string = len(text)\n",
        "    # last_five = text[size_string-5:]\n",
        "    # ABOVE GOES YOUR CODE\n",
        "    return {\n",
        "        \"last_five\": last_five\n",
        "    }\n",
        "\n",
        "# Run the exercise\n",
        "exercise_32()"
      ],
      "metadata": {
        "id": "DitnUQVfQl10",
        "colab": {
          "base_uri": "https://localhost:8080/"
        },
        "outputId": "f5ca3330-be71-4db4-8a52-5bd14981407b"
      },
      "execution_count": null,
      "outputs": [
        {
          "output_type": "stream",
          "name": "stdout",
          "text": [
            "✅ Great job! Exercise completed successfully.\n"
          ]
        }
      ]
    },
    {
      "cell_type": "code",
      "source": [
        "@check_exercise_33\n",
        "def exercise_33(text):\n",
        "    # This line is mandatory and should not be removed\n",
        "    ex_stat_init = True\n",
        "\n",
        "    # given the variable `text`, change the text in uppercase;\n",
        "    # BELOW GOES YOUR CODE\n",
        "    text = text.upper()\n",
        "    # ABOVE GOES YOUR CODE\n",
        "    return {\n",
        "        \"text\": text\n",
        "    }\n",
        "\n",
        "# Run the exercise\n",
        "exercise_33()"
      ],
      "metadata": {
        "id": "rKXSQ-eOQnP2",
        "colab": {
          "base_uri": "https://localhost:8080/"
        },
        "outputId": "4a2e05b8-b8b0-422f-8c27-c9518135853a"
      },
      "execution_count": null,
      "outputs": [
        {
          "output_type": "stream",
          "name": "stdout",
          "text": [
            "✅ Great job! Exercise completed successfully.\n"
          ]
        }
      ]
    },
    {
      "cell_type": "code",
      "source": [
        "@check_exercise_34\n",
        "def exercise_34(text):\n",
        "    # This line is mandatory and should not be removed\n",
        "    ex_stat_init = True\n",
        "\n",
        "    # given the variable `text`, change the the text in lowercase;\n",
        "    # BELOW GOES YOUR CODE\n",
        "    text = text.lower()\n",
        "    # ABOVE GOES YOUR CODE\n",
        "    return {\n",
        "        \"text\": text\n",
        "    }\n",
        "\n",
        "# Run the exercise\n",
        "exercise_34()"
      ],
      "metadata": {
        "id": "bqIypPdNQpNp",
        "colab": {
          "base_uri": "https://localhost:8080/"
        },
        "outputId": "71d88a9d-9458-4c7f-a53a-be6ec264acd9"
      },
      "execution_count": null,
      "outputs": [
        {
          "output_type": "stream",
          "name": "stdout",
          "text": [
            "✅ Great job! Exercise completed successfully.\n"
          ]
        }
      ]
    },
    {
      "cell_type": "code",
      "source": [
        "@check_exercise_35\n",
        "def exercise_35(text):\n",
        "    # This line is mandatory and should not be removed\n",
        "    ex_stat_init = True\n",
        "\n",
        "    # given the variable `text`, change the text with the first letter in uppercase;\n",
        "    # BELOW GOES YOUR CODE\n",
        "    text = text.capitalize()\n",
        "    # ABOVE GOES YOUR CODE\n",
        "    return {\n",
        "        \"text\": text\n",
        "    }\n",
        "\n",
        "# Run the exercise\n",
        "exercise_35()"
      ],
      "metadata": {
        "id": "hXXcp8StQ8xo",
        "colab": {
          "base_uri": "https://localhost:8080/"
        },
        "outputId": "426f00fb-240c-4bbc-a2eb-d12149e1a6a7"
      },
      "execution_count": null,
      "outputs": [
        {
          "output_type": "stream",
          "name": "stdout",
          "text": [
            "✅ Great job! Exercise completed successfully.\n"
          ]
        }
      ]
    },
    {
      "cell_type": "code",
      "source": [
        "@check_exercise_36\n",
        "def exercise_36(text):\n",
        "    # This line is mandatory and should not be removed\n",
        "    ex_stat_init = True\n",
        "\n",
        "    # given the variable `text`, assignt the 18th character to the variable `char`;\n",
        "    # BELOW GOES YOUR CODE\n",
        "    char= text[17:18]\n",
        "    # ABOVE GOES YOUR CODE\n",
        "    return {\n",
        "        \"char\": char\n",
        "    }\n",
        "\n",
        "# Run the exercise\n",
        "exercise_36()"
      ],
      "metadata": {
        "id": "bAYNFgrlQ-RR",
        "colab": {
          "base_uri": "https://localhost:8080/"
        },
        "outputId": "51424fba-988d-455d-bb1c-559ce6e06b67"
      },
      "execution_count": null,
      "outputs": [
        {
          "output_type": "stream",
          "name": "stdout",
          "text": [
            "✅ Great job! Exercise completed successfully.\n"
          ]
        }
      ]
    },
    {
      "cell_type": "code",
      "source": [
        "@check_exercise_37\n",
        "def exercise_37(text):\n",
        "    # This line is mandatory and should not be removed\n",
        "    ex_stat_init = True\n",
        "\n",
        "    # given the variable `text`, assign the last character to the variable `last_char`;\n",
        "    # BELOW GOES YOUR CODE\n",
        "    size = len(text)\n",
        "    last_char = text[-1]\n",
        "    # ABOVE GOES YOUR CODE\n",
        "    return {\n",
        "        \"last_char\": last_char\n",
        "    }\n",
        "\n",
        "# Run the exercise\n",
        "exercise_37()"
      ],
      "metadata": {
        "id": "QFfg8aUJRACx",
        "colab": {
          "base_uri": "https://localhost:8080/"
        },
        "outputId": "27ff9ef8-00e1-431e-c213-ae1c9c96b9ed"
      },
      "execution_count": null,
      "outputs": [
        {
          "output_type": "stream",
          "name": "stdout",
          "text": [
            "✅ Great job! Exercise completed successfully.\n"
          ]
        }
      ]
    },
    {
      "cell_type": "code",
      "source": [
        "@check_exercise_38\n",
        "def exericse_38(text):\n",
        "    # This line is mandatory and should not be removed\n",
        "    ex_stat_init = True\n",
        "\n",
        "    # given the variable `text`, extract every third character starting the first one and assign it to the variable `every_third`;\n",
        "    # BELOW GOES YOUR CODE\n",
        "    every_third= text[::3]\n",
        "    # ABOVE GOES YOUR CODE\n",
        "    return {\n",
        "        \"every_third\": every_third\n",
        "    }\n",
        "\n",
        "# Run the exercise\n",
        "exericse_38()"
      ],
      "metadata": {
        "id": "58EaN9BXRBVZ",
        "colab": {
          "base_uri": "https://localhost:8080/"
        },
        "outputId": "401735d0-880b-4268-f5a0-35a4489f4f1f"
      },
      "execution_count": null,
      "outputs": [
        {
          "output_type": "stream",
          "name": "stdout",
          "text": [
            "✅ Great job! Exercise completed successfully.\n"
          ]
        }
      ]
    },
    {
      "cell_type": "code",
      "source": [
        "@check_exercise_39\n",
        "def exercise_39(text):\n",
        "    # This line is mandatory and should not be removed\n",
        "    ex_stat_init = True\n",
        "\n",
        "    # given the variable `text`, extract every third character starting the second one and assign it to the variable `every_third`;\n",
        "    # BELOW GOES YOUR CODE\n",
        "    every_third= text[1::3]\n",
        "    # ABOVE GOES YOUR CODE\n",
        "    return {\n",
        "        \"every_third\": every_third\n",
        "    }\n",
        "\n",
        "# Run the exercise\n",
        "exercise_39()"
      ],
      "metadata": {
        "id": "1pCoKsMNRCoE",
        "colab": {
          "base_uri": "https://localhost:8080/"
        },
        "outputId": "0674f1b9-0108-461c-a036-b94a05a97694"
      },
      "execution_count": null,
      "outputs": [
        {
          "output_type": "stream",
          "name": "stdout",
          "text": [
            "✅ Great job! Exercise completed successfully.\n"
          ]
        }
      ]
    },
    {
      "cell_type": "code",
      "source": [
        "@check_exercise_40\n",
        "def exercise_40(text):\n",
        "    # This line is mandatory and should not be removed\n",
        "    ex_stat_init = True\n",
        "\n",
        "    # given the variable `text` assign to the variable `length` the length of the string;\n",
        "    # BELOW GOES YOUR CODE\n",
        "    length= len(text)\n",
        "    # ABOVE GOES YOUR CODE\n",
        "    return {\n",
        "        \"length\": length\n",
        "    }\n",
        "\n",
        "# Run the exercise\n",
        "exercise_40()"
      ],
      "metadata": {
        "id": "p1O9v6aLREak",
        "colab": {
          "base_uri": "https://localhost:8080/"
        },
        "outputId": "5ed924b6-1e20-4af3-b1b0-7f779b008068"
      },
      "execution_count": null,
      "outputs": [
        {
          "output_type": "stream",
          "name": "stdout",
          "text": [
            "✅ Great job! Exercise completed successfully.\n"
          ]
        }
      ]
    },
    {
      "cell_type": "code",
      "source": [
        "@check_exercise_41\n",
        "def exercise_41(text):\n",
        "    # This line is mandatory and should not be removed\n",
        "    ex_stat_init = True\n",
        "\n",
        "    # given the variable `text`, assign to the variable `words` the number of words in the string;\n",
        "    # BELOW GOES YOUR CODE\n",
        "    words = len(text.split())\n",
        "\n",
        "    # ABOVE GOES YOUR CODE\n",
        "    return {\n",
        "        \"words\": words\n",
        "    }\n",
        "\n",
        "# Run the exercise\n",
        "exercise_41()"
      ],
      "metadata": {
        "id": "tXkyhgWIREW5",
        "colab": {
          "base_uri": "https://localhost:8080/"
        },
        "outputId": "ffae258e-0a2f-4934-a8f5-4242d2a353bb"
      },
      "execution_count": null,
      "outputs": [
        {
          "output_type": "stream",
          "name": "stdout",
          "text": [
            "✅ Great job! Exercise completed successfully.\n"
          ]
        }
      ]
    },
    {
      "cell_type": "code",
      "source": [
        "@check_exercise_42\n",
        "def exercise_42(text):\n",
        "    # This line is mandatory and should not be removed\n",
        "    ex_stat_init = True\n",
        "\n",
        "    # given the variable `text`, assign to the variable `words` a list with all the words in the string;\n",
        "    # BELOW GOES YOUR CODE\n",
        "    words = text.split()\n",
        "    # ABOVE GOES YOUR CODE\n",
        "    return {\n",
        "        \"words\": words\n",
        "    }\n",
        "\n",
        "# Run the exercise\n",
        "exercise_42()"
      ],
      "metadata": {
        "id": "ZDUxqN5RRZO6",
        "colab": {
          "base_uri": "https://localhost:8080/"
        },
        "outputId": "49c74441-48e7-4649-f50b-2c02b92743c6"
      },
      "execution_count": null,
      "outputs": [
        {
          "output_type": "stream",
          "name": "stdout",
          "text": [
            "✅ Great job! Exercise completed successfully.\n"
          ]
        }
      ]
    },
    {
      "cell_type": "code",
      "source": [
        "@check_exercise_43\n",
        "def exercise_43(elements):\n",
        "    # This line is mandatory and should not be removed\n",
        "    ex_stat_init = True\n",
        "\n",
        "    # given the list `elements`, assign to the variable `last_element` the last element of the list;\n",
        "    # BELOW GOES YOUR CODE\n",
        "\n",
        "    last_element = elements[-1]\n",
        "    # ABOVE GOES YOUR CODE\n",
        "    return {\n",
        "        \"last_element\": last_element\n",
        "    }\n",
        "\n",
        "# Run the exercise\n",
        "exercise_43()"
      ],
      "metadata": {
        "id": "Kxnfy3Q2RblA",
        "colab": {
          "base_uri": "https://localhost:8080/"
        },
        "outputId": "07b70f37-7dd9-4a9a-ee50-d2b8832c6339"
      },
      "execution_count": null,
      "outputs": [
        {
          "output_type": "stream",
          "name": "stdout",
          "text": [
            "✅ Great job! Exercise completed successfully.\n"
          ]
        }
      ]
    },
    {
      "cell_type": "code",
      "source": [
        "@check_exercise_44\n",
        "def exercise_44(elements):\n",
        "    # This line is mandatory and should not be removed\n",
        "    ex_stat_init = True\n",
        "\n",
        "    # given the list `elements`, assign to the variable `first_half` the first half of the list;\n",
        "    # BELOW GOES YOUR CODE\n",
        "    size = len(elements)\n",
        "    first_half = elements[:(size//2)]\n",
        "    # ABOVE GOES YOUR CODE\n",
        "    return {\n",
        "        \"first_half\": first_half\n",
        "    }\n",
        "\n",
        "# Run the exercise\n",
        "exercise_44()"
      ],
      "metadata": {
        "id": "NG1ua9qsRc6X",
        "colab": {
          "base_uri": "https://localhost:8080/"
        },
        "outputId": "ad988881-aeff-4901-e1a3-7a74330dc46b"
      },
      "execution_count": null,
      "outputs": [
        {
          "output_type": "stream",
          "name": "stdout",
          "text": [
            "✅ Great job! Exercise completed successfully.\n"
          ]
        }
      ]
    },
    {
      "cell_type": "code",
      "source": [
        "@check_exercise_45\n",
        "def exercise_45(elements):\n",
        "    # This line is mandatory and should not be removed\n",
        "    ex_stat_init = True\n",
        "\n",
        "    # given the list `elements`, assign to the variable `second_half` the second half of the list;\n",
        "    # BELOW GOES YOUR CODE\n",
        "    size = len(elements)\n",
        "    second_half = elements[size//2:]\n",
        "    # ABOVE GOES YOUR CODE\n",
        "    return {\n",
        "        \"second_half\": second_half\n",
        "    }\n",
        "\n",
        "# Run the exercise\n",
        "exercise_45()"
      ],
      "metadata": {
        "id": "TwszXX-VRf_y",
        "colab": {
          "base_uri": "https://localhost:8080/"
        },
        "outputId": "05b011f0-f9e2-442a-8ffa-149c0557959f"
      },
      "execution_count": null,
      "outputs": [
        {
          "output_type": "stream",
          "name": "stdout",
          "text": [
            "✅ Great job! Exercise completed successfully.\n"
          ]
        }
      ]
    },
    {
      "cell_type": "code",
      "source": [
        "@check_exercise_46\n",
        "def exercise_46(elements):\n",
        "    # This line is mandatory and should not be removed\n",
        "    ex_stat_init = True\n",
        "\n",
        "    # given the list `elements`, assign to the variable `middle` the middle element of the list given that the list has an odd number of elements;\n",
        "    # BELOW GOES YOUR CODE\n",
        "    size_h = len(elements)//2\n",
        "    middle= elements[size_h]\n",
        "    # ABOVE GOES YOUR CODE\n",
        "    return {\n",
        "        \"middle\": middle\n",
        "    }\n",
        "\n",
        "# Run the exercise\n",
        "exercise_46()"
      ],
      "metadata": {
        "id": "X20HZ5poRhii",
        "colab": {
          "base_uri": "https://localhost:8080/"
        },
        "outputId": "11af269e-c188-4800-9256-a67a424c52f0"
      },
      "execution_count": null,
      "outputs": [
        {
          "output_type": "stream",
          "name": "stdout",
          "text": [
            "✅ Great job! Exercise completed successfully.\n"
          ]
        }
      ]
    },
    {
      "cell_type": "code",
      "source": [
        "@check_exercise_47\n",
        "def exercise_47(elements):\n",
        "    # This line is mandatory and should not be removed\n",
        "    ex_stat_init = True\n",
        "\n",
        "    # given the list `elements`, assign to the variable `sorted_elements` the list sorted in ascending order;\n",
        "    # BELOW GOES YOUR CODE\n",
        "\n",
        "    sorted_elements = sorted(elements)\n",
        "    # ABOVE GOES YOUR CODE\n",
        "    return {\n",
        "        \"sorted_elements\": sorted_elements\n",
        "    }\n",
        "\n",
        "# Run the exercise\n",
        "exercise_47()"
      ],
      "metadata": {
        "id": "hJCHvXixRi4V",
        "colab": {
          "base_uri": "https://localhost:8080/"
        },
        "outputId": "a96c18b5-2353-4763-c631-a7d0c7620bbf"
      },
      "execution_count": null,
      "outputs": [
        {
          "output_type": "stream",
          "name": "stdout",
          "text": [
            "✅ Great job! Exercise completed successfully.\n"
          ]
        }
      ]
    },
    {
      "cell_type": "code",
      "source": [
        "@check_exercise_48\n",
        "def exercise_48(elements):\n",
        "    # This line is mandatory and should not be removed\n",
        "    ex_stat_init = True\n",
        "\n",
        "    # given the list `elements`, assign to the variable `reversed_elements` the list in reverse order;\n",
        "    # BELOW GOES YOUR CODE\n",
        "    reversed_elements= elements[::-1]\n",
        "    # ABOVE GOES YOUR CODE\n",
        "    return {\n",
        "        \"reversed_elements\": reversed_elements\n",
        "    }\n",
        "\n",
        "# Run the exercise\n",
        "exercise_48()"
      ],
      "metadata": {
        "id": "6ZkpqSv6Rk_d",
        "colab": {
          "base_uri": "https://localhost:8080/"
        },
        "outputId": "b96ecae5-a629-4eec-cd49-69ccadfdf92c"
      },
      "execution_count": null,
      "outputs": [
        {
          "output_type": "stream",
          "name": "stdout",
          "text": [
            "✅ Great job! Exercise completed successfully.\n"
          ]
        }
      ]
    },
    {
      "cell_type": "code",
      "source": [
        "@check_exercise_49\n",
        "def exercise_49(elements):\n",
        "    # This line is mandatory and should not be removed\n",
        "    ex_stat_init = True\n",
        "\n",
        "    # given the list `elements`, assign to the variable `unique_elements` the sorted list with unique elements;\n",
        "    # BELOW GOES YOUR CODE\n",
        "    unique_elements = []\n",
        "    for x in elements:\n",
        "      if x not in unique_elements:\n",
        "            unique_elements.append(x)\n",
        "    unique_elements = sorted(unique_elements, key=lambda x: (isinstance(x, str), x))\n",
        "    # unique_elements = []\n",
        "    # for x in elements:\n",
        "    #     print(f\"x={x}\")\n",
        "    #     if not(x in unique_elements) :\n",
        "    #         unique_elements.append(x)\n",
        "    # ABOVE GOES YOUR CODE\n",
        "    return {\n",
        "        \"unique_elements\": unique_elements\n",
        "    }\n",
        "\n",
        "# Run the exercise\n",
        "exercise_49()"
      ],
      "metadata": {
        "id": "g_M9NkXNRnq8",
        "colab": {
          "base_uri": "https://localhost:8080/"
        },
        "outputId": "8b955bf2-1ee5-469c-8459-1c874650e433"
      },
      "execution_count": null,
      "outputs": [
        {
          "output_type": "stream",
          "name": "stdout",
          "text": [
            "✅ Great job! Exercise completed successfully.\n"
          ]
        }
      ]
    },
    {
      "cell_type": "code",
      "source": [
        "@check_exercise_50\n",
        "def exercise_50(elements, elements_to_add):\n",
        "    # This line is mandatory and should not be removed\n",
        "    ex_stat_init = True\n",
        "\n",
        "    # given the list `elements`, insert the element \"Python\" in the second position of the list, append the element \"is\" in the last position and remove the element \"Java\", and add the elements of the list `elements_to_add` to the list;\n",
        "    # BELOW GOES YOUR CODE\n",
        "    elements.insert(1, 'Python')\n",
        "    elements.append('is')\n",
        "    elements.remove('Java')\n",
        "    elements = elements + elements_to_add\n",
        "    # ABOVE GOES YOUR CODE\n",
        "    return {\n",
        "        \"elements\": elements\n",
        "    }\n",
        "\n",
        "# Run the exercise\n",
        "exercise_50()"
      ],
      "metadata": {
        "id": "g2p5jjWIRnQc",
        "colab": {
          "base_uri": "https://localhost:8080/"
        },
        "outputId": "c414d685-f4a2-44f5-a02a-e360dbe8ed48"
      },
      "execution_count": null,
      "outputs": [
        {
          "output_type": "stream",
          "name": "stdout",
          "text": [
            "✅ Great job! Exercise completed successfully.\n"
          ]
        }
      ]
    },
    {
      "cell_type": "code",
      "source": [
        "@check_exercise_51\n",
        "def exercise_51(elements):\n",
        "    # This line is mandatory and should not be removed\n",
        "    ex_stat_init = True\n",
        "\n",
        "    # given the list `elements`, assign to the variable `sum_elements` the sum of the elements;\n",
        "    # BELOW GOES YOUR CODE\n",
        "    sum_elements =sum(elements)\n",
        "    # ABOVE GOES YOUR CODE\n",
        "    return {\n",
        "        \"sum_elements\": sum_elements\n",
        "    }\n",
        "\n",
        "# Run the exercise\n",
        "exercise_51()"
      ],
      "metadata": {
        "id": "Kt3jDR2FRrZd",
        "colab": {
          "base_uri": "https://localhost:8080/"
        },
        "outputId": "aec99b74-2cb3-4d60-b0ad-e3abf115489c"
      },
      "execution_count": null,
      "outputs": [
        {
          "output_type": "stream",
          "name": "stdout",
          "text": [
            "✅ Great job! Exercise completed successfully.\n"
          ]
        }
      ]
    },
    {
      "cell_type": "code",
      "source": [
        "@check_exercise_52\n",
        "def exercise_52(elements):\n",
        "    # This line is mandatory and should not be removed\n",
        "    ex_stat_init = True\n",
        "\n",
        "    # given the list `elements`, assign to the variable `max_element` the maximum element of the list;\n",
        "    # BELOW GOES YOUR CODE\n",
        "    max_element = max(elements)\n",
        "    # ABOVE GOES YOUR CODE\n",
        "    return {\n",
        "        \"max_element\": max_element\n",
        "    }\n",
        "\n",
        "# Run the exercise\n",
        "exercise_52()"
      ],
      "metadata": {
        "id": "Fhr2MVTURuMV",
        "colab": {
          "base_uri": "https://localhost:8080/"
        },
        "outputId": "cbfe1ce4-f269-4795-da48-4c935dc030b1"
      },
      "execution_count": null,
      "outputs": [
        {
          "output_type": "stream",
          "name": "stdout",
          "text": [
            "✅ Great job! Exercise completed successfully.\n"
          ]
        }
      ]
    },
    {
      "cell_type": "code",
      "source": [
        "@check_exercise_53\n",
        "def exercise_53(elements):\n",
        "    # This line is mandatory and should not be removed\n",
        "    ex_stat_init = True\n",
        "\n",
        "    # given the list `elements`, assign to the variable `min_element` the minimum element of the list;\n",
        "    # BELOW GOES YOUR CODE\n",
        "    min_element = min(elements)\n",
        "    # ABOVE GOES YOUR CODE\n",
        "    return {\n",
        "        \"min_element\": min_element\n",
        "    }\n",
        "\n",
        "# Run the exercise\n",
        "exercise_53()"
      ],
      "metadata": {
        "id": "nU8ZYetARvqk",
        "colab": {
          "base_uri": "https://localhost:8080/"
        },
        "outputId": "31cf5ad0-14b6-4c9e-e5c5-1e83d7d98ccd"
      },
      "execution_count": null,
      "outputs": [
        {
          "output_type": "stream",
          "name": "stdout",
          "text": [
            "✅ Great job! Exercise completed successfully.\n"
          ]
        }
      ]
    },
    {
      "cell_type": "code",
      "source": [
        "@check_exercise_54\n",
        "def exercise_54(elements):\n",
        "    # This line is mandatory and should not be removed\n",
        "    ex_stat_init = True\n",
        "\n",
        "    # given the list `elements`, assign to the variable `average` the average of the elements;\n",
        "    # BELOW GOES YOUR CODE\n",
        "    average = sum(elements)/len(elements)\n",
        "    print(average)\n",
        "    # ABOVE GOES YOUR CODE\n",
        "    return {\n",
        "        \"average\": average\n",
        "    }\n",
        "\n",
        "# Run the exercise\n",
        "exercise_54()"
      ],
      "metadata": {
        "id": "hFPioBNERxYU",
        "colab": {
          "base_uri": "https://localhost:8080/"
        },
        "outputId": "9163ae3f-1270-4bd5-f01b-df198a06a08c"
      },
      "execution_count": null,
      "outputs": [
        {
          "output_type": "stream",
          "name": "stdout",
          "text": [
            "3.0\n",
            "30.0\n",
            "✅ Great job! Exercise completed successfully.\n"
          ]
        }
      ]
    },
    {
      "cell_type": "code",
      "source": [
        "@check_exercise_55\n",
        "def exercise_55(elements):\n",
        "    # This line is mandatory and should not be removed\n",
        "    ex_stat_init = True\n",
        "\n",
        "    # given the list `elements`, pop the last element of the list and assign it to the variable `last_element`;\n",
        "    # BELOW GOES YOUR CODE\n",
        "    last_element = elements.pop()\n",
        "    # ABOVE GOES YOUR CODE\n",
        "    return {\n",
        "        \"last_element\": last_element,\n",
        "        \"elements\": elements\n",
        "    }\n",
        "\n",
        "# Run the exercise\n",
        "exercise_55()"
      ],
      "metadata": {
        "id": "Yh1DwvyMRy0a",
        "colab": {
          "base_uri": "https://localhost:8080/"
        },
        "outputId": "a82ef904-9ab4-4bf0-f57a-48a457562adf"
      },
      "execution_count": null,
      "outputs": [
        {
          "output_type": "stream",
          "name": "stdout",
          "text": [
            "❗ The implementation is incorrect or the exercise was not implemented.\n"
          ]
        }
      ]
    },
    {
      "cell_type": "code",
      "source": [
        "@check_exercise_56\n",
        "def exercise_56(coordinates1, coordinates2):\n",
        "    # This line is mandatory and should not be removed\n",
        "    ex_stat_init = True\n",
        "\n",
        "    # given the tuples `coordinates1` and `coordinates2`, assign to the variable `distance` the distance between the two points;\n",
        "    # BELOW GOES YOUR CODE\n",
        "\n",
        "    import math\n",
        "    distance=math.dist(coordinates1, coordinates2)\n",
        "    # ABOVE GOES YOUR CODE\n",
        "    return {\n",
        "        \"distance\": distance\n",
        "    }\n",
        "\n",
        "# Run the exercise\n",
        "exercise_56()"
      ],
      "metadata": {
        "id": "yWpJUeN4R0hh",
        "colab": {
          "base_uri": "https://localhost:8080/"
        },
        "outputId": "9235d079-77a8-4983-c1f7-61425be76087"
      },
      "execution_count": null,
      "outputs": [
        {
          "output_type": "stream",
          "name": "stdout",
          "text": [
            "✅ Great job! Exercise completed successfully.\n"
          ]
        }
      ]
    },
    {
      "cell_type": "code",
      "source": [
        "@check_exercise_57\n",
        "def exercise_57(first_tuple, second_tuple):\n",
        "    # This line is mandatory and should not be removed\n",
        "    ex_stat_init = True\n",
        "\n",
        "    # given the tuples `first_tuple` and `second_tuple`, assign to the variable `concatenated_tuple` the concatenation of the two tuples;\n",
        "    # BELOW GOES YOUR CODE\n",
        "    concatenated_tuple = first_tuple + second_tuple\n",
        "    # ABOVE GOES YOUR CODE\n",
        "    return {\n",
        "        \"concatenated_tuple\": concatenated_tuple\n",
        "    }\n",
        "\n",
        "# Run the exercise\n",
        "exercise_57()"
      ],
      "metadata": {
        "id": "fiLc-trnR1zE",
        "colab": {
          "base_uri": "https://localhost:8080/"
        },
        "outputId": "829840e2-aaae-4e7b-a431-815ffd7cfa6a"
      },
      "execution_count": null,
      "outputs": [
        {
          "output_type": "stream",
          "name": "stdout",
          "text": [
            "✅ Great job! Exercise completed successfully.\n"
          ]
        }
      ]
    },
    {
      "cell_type": "code",
      "source": [
        "@check_exercise_58\n",
        "def exercise_58(tuple_to_multiply):\n",
        "    # This line is mandatory and should not be removed\n",
        "    ex_stat_init = True\n",
        "\n",
        "    # given the tuple `tuple_to_multiply`, assign to the variable `multiplied_tuple` the tuple multiplied by 3;\n",
        "    # BELOW GOES YOUR CODE\n",
        "    multiplied_tuple = tuple_to_multiply *3\n",
        "    # ABOVE GOES YOUR CODE\n",
        "    return {\n",
        "        \"multiplied_tuple\": multiplied_tuple\n",
        "    }\n",
        "\n",
        "# Run the exercise\n",
        "exercise_58()"
      ],
      "metadata": {
        "id": "6Dwfy-iKR3qX",
        "colab": {
          "base_uri": "https://localhost:8080/"
        },
        "outputId": "e50c28e6-4e95-4aa4-e063-353b5bb8df68"
      },
      "execution_count": null,
      "outputs": [
        {
          "output_type": "stream",
          "name": "stdout",
          "text": [
            "✅ Great job! Exercise completed successfully.\n"
          ]
        }
      ]
    },
    {
      "cell_type": "code",
      "source": [
        "@check_exercise_59\n",
        "def exercise_59(student_dictionary):\n",
        "    # This line is mandatory and should not be removed\n",
        "    ex_stat_init = True\n",
        "\n",
        "    # given the dictionary `student_dictionary`, assign to the variable `students` a list with all the keys of the dictionary;\n",
        "    # BELOW GOES YOUR CODE\n",
        "    students = list(student_dictionary.keys())\n",
        "    # ABOVE GOES YOUR CODE\n",
        "    return {\n",
        "        \"students\": students\n",
        "    }\n",
        "\n",
        "# Run the exercise\n",
        "exercise_59()"
      ],
      "metadata": {
        "id": "Kf8qL1qYR48B",
        "colab": {
          "base_uri": "https://localhost:8080/"
        },
        "outputId": "6c2479fb-9be9-4ec9-ccc6-e7b5de662735"
      },
      "execution_count": null,
      "outputs": [
        {
          "output_type": "stream",
          "name": "stdout",
          "text": [
            "✅ Great job! Exercise completed successfully.\n"
          ]
        }
      ]
    },
    {
      "cell_type": "code",
      "source": [
        "@check_exercise_60\n",
        "def exercise_60(student_dictionary):\n",
        "    # This line is mandatory and should not be removed\n",
        "    ex_stat_init = True\n",
        "\n",
        "    # given the dictionary `student_dictionary`, assign to the variable `grades`a list with all the values of the dictionary;\n",
        "    # BELOW GOES YOUR CODE\n",
        "    grades = list(student_dictionary.values())\n",
        "    # ABOVE GOES YOUR CODE\n",
        "    return {\n",
        "        \"grades\": grades\n",
        "    }\n",
        "\n",
        "# Run the exercise\n",
        "exercise_60()"
      ],
      "metadata": {
        "id": "ei3Xo0A2R6kC",
        "colab": {
          "base_uri": "https://localhost:8080/"
        },
        "outputId": "24410485-b284-42f4-b387-613b15e5236a"
      },
      "execution_count": null,
      "outputs": [
        {
          "output_type": "stream",
          "name": "stdout",
          "text": [
            "✅ Great job! Exercise completed successfully.\n"
          ]
        }
      ]
    },
    {
      "cell_type": "code",
      "source": [
        "@check_exercise_61\n",
        "def exercise_61(student_dictionary):\n",
        "    # This line is mandatory and should not be removed\n",
        "    ex_stat_init = True\n",
        "\n",
        "    # given the dictionary `student_dictionary`, assign to the variable `students` a list of all the items of the dictionary;\n",
        "    # BELOW GOES YOUR CODE\n",
        "    students = list(student_dictionary.items())\n",
        "    # ABOVE GOES YOUR CODE\n",
        "    return {\n",
        "        \"students\": students\n",
        "    }\n",
        "\n",
        "# Run the exercise\n",
        "exercise_61()"
      ],
      "metadata": {
        "id": "0DbekHu9R75-",
        "colab": {
          "base_uri": "https://localhost:8080/"
        },
        "outputId": "cc9adda9-f5a0-4209-83d7-4e62c7bbc531"
      },
      "execution_count": null,
      "outputs": [
        {
          "output_type": "stream",
          "name": "stdout",
          "text": [
            "✅ Great job! Exercise completed successfully.\n"
          ]
        }
      ]
    },
    {
      "cell_type": "code",
      "source": [
        "@check_exercise_62\n",
        "def exercise_62(class_dictionary, students_dictionary):\n",
        "    # This line is mandatory and should not be removed\n",
        "    ex_stat_init = True\n",
        "\n",
        "    # given the dictionaries `class_dictionary` and `students_dictionary`, add to the `class_dictionary` the items of the `students_dictionary`;\n",
        "    # BELOW GOES YOUR CODE\n",
        "    class_dictionary.update(students_dictionary)\n",
        "    # ABOVE GOES YOUR CODE\n",
        "    return {\n",
        "        \"class_dictionary\": class_dictionary\n",
        "    }\n",
        "\n",
        "# Run the exercise\n",
        "exercise_62()"
      ],
      "metadata": {
        "id": "FFojRPkhR9UP",
        "colab": {
          "base_uri": "https://localhost:8080/"
        },
        "outputId": "88289aeb-6eaa-433c-db08-29fb4c304a4f"
      },
      "execution_count": null,
      "outputs": [
        {
          "output_type": "stream",
          "name": "stdout",
          "text": [
            "✅ Great job! Exercise completed successfully.\n"
          ]
        }
      ]
    },
    {
      "cell_type": "code",
      "source": [
        "@check_exercise_63\n",
        "def exercise_63(class_dictionary):\n",
        "    # This line is mandatory and should not be removed\n",
        "    ex_stat_init = True\n",
        "\n",
        "    # given the dictionary `class_dictionary`, remove the item with the key \"John\";\n",
        "    # BELOW GOES YOUR CODE\n",
        "    class_dictionary.pop(\"John\")\n",
        "    # ABOVE GOES YOUR CODE\n",
        "    return {\n",
        "        \"class_dictionary\": class_dictionary\n",
        "    }\n",
        "\n",
        "# Run the exercise\n",
        "exercise_63()"
      ],
      "metadata": {
        "id": "iw2VCX4NR-xF",
        "colab": {
          "base_uri": "https://localhost:8080/"
        },
        "outputId": "4c3d3f4c-3d07-4afb-8921-f5b18d6ed062"
      },
      "execution_count": null,
      "outputs": [
        {
          "output_type": "stream",
          "name": "stdout",
          "text": [
            "✅ Great job! Exercise completed successfully.\n"
          ]
        }
      ]
    },
    {
      "cell_type": "code",
      "source": [
        "@check_exercise_64\n",
        "def exercise_64(class_dictionary):\n",
        "    # This line is mandatory and should not be removed\n",
        "    ex_stat_init = True\n",
        "\n",
        "    # given the dictionary `class_dictionary`, assign to the variable `alex_grade` the grade of Alex, if it exists;\n",
        "    # BELOW GOES YOUR CODE\n",
        "    if \"Alex\" in class_dictionary:\n",
        "        alex_grade = class_dictionary[\"Alex\"]\n",
        "    else:\n",
        "        alex_grade = None\n",
        "    # ABOVE GOES YOUR CODE\n",
        "    return {\n",
        "        \"alex_grade\": alex_grade\n",
        "    }\n",
        "\n",
        "# Run the exercise\n",
        "exercise_64()"
      ],
      "metadata": {
        "id": "v_69zVZGSAYa",
        "colab": {
          "base_uri": "https://localhost:8080/"
        },
        "outputId": "88eaf234-f567-40dc-b684-0a528c9d0221"
      },
      "execution_count": null,
      "outputs": [
        {
          "output_type": "stream",
          "name": "stdout",
          "text": [
            "✅ Great job! Exercise completed successfully.\n"
          ]
        }
      ]
    },
    {
      "cell_type": "code",
      "source": [
        "@check_exercise_65\n",
        "def exercise_65(first_set):\n",
        "    # This line is mandatory and should not be removed\n",
        "    ex_stat_init = True\n",
        "\n",
        "    # given the set `first_set`, assign to the variable `second_set` the `first_set` with the elements \"Python\" and \"is\" added;\n",
        "    # BELOW GOES YOUR CODE\n",
        "    second_set = first_set.copy()  # Create a copy to avoid modifying the original set\n",
        "    second_set.update({\"Python\", \"is\"})  # Add the elements to the set\n",
        "    # ABOVE GOES YOUR CODE\n",
        "    return {\n",
        "        \"second_set\": second_set\n",
        "    }\n",
        "\n",
        "# Run the exercise\n",
        "exercise_65()"
      ],
      "metadata": {
        "id": "My_IhYABSA6Q",
        "colab": {
          "base_uri": "https://localhost:8080/"
        },
        "outputId": "e673915f-7f24-4c08-cd0f-96cc3efda465"
      },
      "execution_count": null,
      "outputs": [
        {
          "output_type": "stream",
          "name": "stdout",
          "text": [
            "✅ Great job! Exercise completed successfully.\n"
          ]
        }
      ]
    },
    {
      "cell_type": "code",
      "source": [
        "@check_exercise_66\n",
        "def exercise_66(first_set):\n",
        "    # This line is mandatory and should not be removed\n",
        "    ex_stat_init = True\n",
        "\n",
        "    # given the set `first_set`, assign to the variable `second_set` the `first_set` with the elements \"Python\" and \"is\" removed;\n",
        "    # BELOW GOES YOUR CODE\n",
        "    second_set = first_set.copy()  # Create a copy to avoid modifying the original set\n",
        "    second_set.discard(\"Python\")\n",
        "    second_set.discard(\"is\")\n",
        "    # ABOVE GOES YOUR CODE\n",
        "    return {\n",
        "        \"second_set\": second_set\n",
        "    }\n",
        "\n",
        "# Run the exercise\n",
        "exercise_66()"
      ],
      "metadata": {
        "id": "hl6i6coqSFGM",
        "colab": {
          "base_uri": "https://localhost:8080/"
        },
        "outputId": "7c76a430-cd49-43a0-ed2c-4e6d5251566d"
      },
      "execution_count": null,
      "outputs": [
        {
          "output_type": "stream",
          "name": "stdout",
          "text": [
            "✅ Great job! Exercise completed successfully.\n"
          ]
        }
      ]
    },
    {
      "cell_type": "code",
      "execution_count": null,
      "metadata": {
        "id": "48e19fbe",
        "outputId": "e6a76fd8-60c9-4a25-c8c9-f15149bebf02",
        "colab": {
          "base_uri": "https://localhost:8080/"
        }
      },
      "outputs": [
        {
          "output_type": "stream",
          "name": "stdout",
          "text": [
            "✅ Great job! Exercise completed successfully.\n"
          ]
        }
      ],
      "source": [
        "@check_exercise_67\n",
        "def exercise_67(first_set):\n",
        "    # This line is mandatory and should not be removed\n",
        "    ex_stat_init = True\n",
        "\n",
        "    # given the set `first_set`, assign to the variable `second_set` the union of `first_set` with the set {\"Python\"};\n",
        "    # BELOW GOES YOUR CODE\n",
        "    second_set = first_set.union({\"Python\"})\n",
        "    # ABOVE GOES YOUR CODE\n",
        "    return {\n",
        "        \"second_set\": second_set\n",
        "    }\n",
        "\n",
        "# Run the exercise\n",
        "exercise_67()"
      ]
    },
    {
      "cell_type": "code",
      "execution_count": null,
      "metadata": {
        "id": "d44358dd",
        "outputId": "9a30e5bd-3d7e-4997-96ad-cee3c0f671f0",
        "colab": {
          "base_uri": "https://localhost:8080/"
        }
      },
      "outputs": [
        {
          "output_type": "stream",
          "name": "stdout",
          "text": [
            "✅ Great job! Exercise completed successfully.\n"
          ]
        }
      ],
      "source": [
        "@check_exercise_68\n",
        "def exercise_68(first_set, second_set):\n",
        "    # This line is mandatory and should not be removed\n",
        "    ex_stat_init = True\n",
        "\n",
        "    # given the sets `first_set` and `second_set`, assign to the variable `third_set` the intersection of the two sets;\n",
        "    # BELOW GOES YOUR CODE\n",
        "    third_set =first_set.intersection(second_set)\n",
        "    # ABOVE GOES YOUR CODE\n",
        "    return {\n",
        "        \"third_set\": third_set\n",
        "    }\n",
        "\n",
        "# Run the exercise\n",
        "exercise_68()"
      ]
    },
    {
      "cell_type": "code",
      "execution_count": null,
      "metadata": {
        "id": "e836627c",
        "outputId": "b98cd543-5991-4c26-8c58-77542c977f50",
        "colab": {
          "base_uri": "https://localhost:8080/"
        }
      },
      "outputs": [
        {
          "output_type": "stream",
          "name": "stdout",
          "text": [
            "✅ Great job! Exercise completed successfully.\n"
          ]
        }
      ],
      "source": [
        "@check_exercise_69\n",
        "def exercise_69(first_set, second_set):\n",
        "    # This line is mandatory and should not be removed\n",
        "    ex_stat_init = True\n",
        "\n",
        "    # given the sets `first_set` and `second_set`, assign to the variable `third_set` the difference of the two sets;\n",
        "    # BELOW GOES YOUR CODE\n",
        "    third_set = first_set.difference(second_set)\n",
        "    # ABOVE GOES YOUR CODE\n",
        "    return {\n",
        "        \"third_set\": third_set\n",
        "    }\n",
        "\n",
        "# Run the exercise\n",
        "exercise_69()"
      ]
    },
    {
      "cell_type": "code",
      "execution_count": null,
      "metadata": {
        "id": "4a0ff913",
        "outputId": "7b0a8dc4-42d6-4db0-829e-be1995eb3fab",
        "colab": {
          "base_uri": "https://localhost:8080/"
        }
      },
      "outputs": [
        {
          "output_type": "stream",
          "name": "stdout",
          "text": [
            "✅ Great job! Exercise completed successfully.\n"
          ]
        }
      ],
      "source": [
        "@check_exercise_70\n",
        "def exercise_70(first_set, second_set):\n",
        "    # This line is mandatory and should not be removed\n",
        "    ex_stat_init = True\n",
        "\n",
        "    # given the sets `first_set` and `second_set`, assign to the variable `third_set` the symmetric difference of the two sets and remove the element \"Python\" from it, if present;\n",
        "    # BELOW GOES YOUR CODE\n",
        "    third_set = first_set ^ second_set\n",
        "    if \"Python\" in third_set:\n",
        "        third_set.remove(\"Python\")\n",
        "\n",
        "    # ABOVE GOES YOUR CODE\n",
        "    return {\n",
        "        \"third_set\": third_set\n",
        "    }\n",
        "\n",
        "# Run the exercise\n",
        "exercise_70()"
      ]
    },
    {
      "cell_type": "code",
      "execution_count": null,
      "metadata": {
        "id": "63816c84",
        "outputId": "429c9985-1531-4c0b-d98d-0afd1ef270d8",
        "colab": {
          "base_uri": "https://localhost:8080/"
        }
      },
      "outputs": [
        {
          "output_type": "stream",
          "name": "stdout",
          "text": [
            "✅ Great job! Exercise completed successfully.\n"
          ]
        }
      ],
      "source": [
        "@check_exercise_71\n",
        "def exercise_71(computations):\n",
        "    # This line is mandatory and should not be removed\n",
        "    ex_stat_init = True\n",
        "\n",
        "    # convert all values of the dictionary `computations` to floats;\n",
        "    # BELOW GOES YOUR CODE\n",
        "    computations = {key: float(value) for key, value in computations.items()}\n",
        "    # ABOVE GOES YOUR CODE\n",
        "    return {\n",
        "        \"computations\": computations\n",
        "    }\n",
        "\n",
        "# Run the exercise\n",
        "exercise_71()\n",
        "\n"
      ]
    },
    {
      "cell_type": "code",
      "execution_count": null,
      "metadata": {
        "id": "52313e9a",
        "outputId": "7437d98d-618b-4539-9ef8-c6ee4a85662d",
        "colab": {
          "base_uri": "https://localhost:8080/"
        }
      },
      "outputs": [
        {
          "output_type": "stream",
          "name": "stdout",
          "text": [
            "✅ Great job! Exercise completed successfully.\n"
          ]
        }
      ],
      "source": [
        "@check_exercise_72\n",
        "def exercise_72(computations):\n",
        "    # This line is mandatory and should not be removed\n",
        "    ex_stat_init = True\n",
        "\n",
        "    # convert all values of the dictionary `computations` to integers;\n",
        "    # BELOW GOES YOUR CODE\n",
        "    computations = {key: int(value) for key, value in computations.items()}\n",
        "    # ABOVE GOES YOUR CODE\n",
        "    return {\n",
        "        \"computations\": computations\n",
        "    }\n",
        "\n",
        "# Run the exercise\n",
        "exercise_72()"
      ]
    },
    {
      "cell_type": "code",
      "source": [
        "@check_exercise_73\n",
        "def exercise_73(x, y, z):\n",
        "    # This line is mandatory and should not be removed\n",
        "    ex_stat_init = True\n",
        "\n",
        "    # create a dictionary called `comparisons` with the keys \"eq_x_y\", \"eq_x_z\", \"eq_y_z\", \"ne_x_y\", \"ne_x_z\", \"ne_y_z\", \"gt_x_y\", \"gt_x_z\", \"gt_y_z\", \"ge_x_y\", \"ge_x_z\", \"ge_y_z\", \"lt_x_y\", \"lt_x_z\", \"lt_y_z\", \"le_x_y\", \"le_x_z\", \"le_y_z\" and the values the results of the respective operations given the variables x, y, z;\n",
        "    # BELOW GOES YOUR COD2\n",
        "    comparisons ={\n",
        "        \"eq_x_y\": x == y,\"eq_x_z\": x == z,\"eq_y_z\": y == z,\n",
        "        \"ne_x_y\": x != y,\"ne_x_z\": x != z,\"ne_y_z\": y != z,\n",
        "        \"gt_x_y\": x > y,\"gt_x_z\": x > z,\"gt_y_z\": y > z,\n",
        "        \"ge_x_y\": x >= y,\"ge_x_z\": x >= z,\"ge_y_z\": y >= z,\n",
        "        \"lt_x_y\": x < y,\"lt_x_z\": x < z,\"lt_y_z\": y < z,\n",
        "        \"le_x_y\": x <= y,\"le_x_z\": x <= z,\"le_y_z\": y <= z}\n",
        "\n",
        "    # ABOVE GOES YOUR CODE\n",
        "    return {\n",
        "        \"comparisons\": comparisons\n",
        "    }\n",
        "\n",
        "# Run the exercise\n",
        "exercise_73()"
      ],
      "metadata": {
        "id": "TDRUKoCbO84Z",
        "colab": {
          "base_uri": "https://localhost:8080/"
        },
        "outputId": "bb77860c-41b8-466c-f5ff-3542e2118a9a"
      },
      "execution_count": null,
      "outputs": [
        {
          "output_type": "stream",
          "name": "stdout",
          "text": [
            "✅ Great job! Exercise completed successfully.\n"
          ]
        }
      ]
    },
    {
      "cell_type": "code",
      "source": [
        "@check_exercise_74\n",
        "def exercise_74(x, y, z):\n",
        "    # This line is mandatory and should not be removed\n",
        "    ex_stat_init = True\n",
        "\n",
        "    # create a dictionary called `logicals` with the keys \"and_x_y\", \"and_x_z\", \"and_y_z\", \"or_x_y\", \"or_x_z\", \"or_y_z\", \"not_x\", \"not_y\", \"not_z\" and the values the results of the respective operations given the variables x, y, z;\n",
        "    # BELOW GOES YOUR CODE\n",
        "    logicals = {\n",
        "        \"and_x_y\": x & y, \"and_x_z\": x & z, \"and_y_z\": y & z,\n",
        "        \"or_x_y\":x | y, \"or_x_z\":x | y, \"or_y_z\":x | y,\n",
        "        \"not_x\": not(x), \"not_y\": not(y), \"not_z\": not(z)\n",
        "    }\n",
        "    # ABOVE GOES YOUR CODE\n",
        "    return {\n",
        "        \"logicals\": logicals\n",
        "    }\n",
        "\n",
        "# Run the exercise\n",
        "exercise_74()"
      ],
      "metadata": {
        "id": "EDlXyHBCPFJw",
        "colab": {
          "base_uri": "https://localhost:8080/"
        },
        "outputId": "979bf9a2-3379-4e6a-8d29-a6b4897bfc04"
      },
      "execution_count": null,
      "outputs": [
        {
          "output_type": "stream",
          "name": "stdout",
          "text": [
            "✅ Great job! Exercise completed successfully.\n"
          ]
        }
      ]
    },
    {
      "cell_type": "code",
      "source": [
        "@check_exercise_75\n",
        "def exercise_75(amazing_string):\n",
        "    # This line is mandatory and should not be removed\n",
        "    ex_stat_init = True\n",
        "\n",
        "    # replace the word \"amazing!\" with \"amazing! Especially when is taught at Sigmoid\" in the variable `amazing_string`;\n",
        "    # BELOW GOES YOUR CODE\n",
        "    amazing_string = amazing_string.replace(\"amazing!\", \"amazing! Especially when is taught at Sigmoid\")\n",
        "    # ABOVE GOES YOUR CODE\n",
        "    # return {\"amazing_string\": amazing_string}\n",
        "# Run the exercise\n",
        "exercise_75()"
      ],
      "metadata": {
        "id": "0xE2pVD_PIcM",
        "colab": {
          "base_uri": "https://localhost:8080/"
        },
        "outputId": "5cdb6592-2ff3-4ab6-c24d-3549ce6c3298"
      },
      "execution_count": null,
      "outputs": [
        {
          "output_type": "stream",
          "name": "stdout",
          "text": [
            "❗ The implementation is incorrect or the exercise was not implemented.\n"
          ]
        }
      ]
    },
    {
      "cell_type": "code",
      "source": [
        "# Given the variable `numero`, assign to the variable `resultado` the string `positive` if `numero` is positive, `negative` if `numero` is negative, and `zero` if `numero` is zero\n",
        "@check_exercise_76\n",
        "def exercise_76(numero):\n",
        "    # This line is mandatory and should not be removed\n",
        "    ex_stat_init = True\n",
        "\n",
        "    # BELOW GOES YOUR CODE\n",
        "    if numero > 0 :\n",
        "      resultado = 'positive'\n",
        "    elif numero < 0:\n",
        "      resultado = 'negative'\n",
        "    else: resultado = 'zero'\n",
        "    # ABOVE GOES YOUR CODE\n",
        "    return {\"resultado\": resultado}\n",
        "\n",
        "# Run the exercise\n",
        "exercise_76()"
      ],
      "metadata": {
        "id": "rm6TT0wPuN91",
        "colab": {
          "base_uri": "https://localhost:8080/"
        },
        "outputId": "7cb7fec6-5110-434b-b1ba-aa95914fe954"
      },
      "execution_count": null,
      "outputs": [
        {
          "output_type": "stream",
          "name": "stdout",
          "text": [
            "✅ Great job! Exercise completed successfully.\n"
          ]
        }
      ]
    },
    {
      "cell_type": "code",
      "source": [
        "# Given the variable `age`, assign to the variable `can_vote` \"permis\" if `age` is 18 or older, \"nepermis\" otherwise\n",
        "@check_exercise_77\n",
        "def exercise_77(age):\n",
        "    # This line is mandatory and should not be removed\n",
        "    ex_stat_init = True\n",
        "\n",
        "    # BELOW GOES YOUR CODE\n",
        "    match age:\n",
        "        case age if age >= 18:\n",
        "            can_vote = \"permis\"\n",
        "        case _:\n",
        "            can_vote = \"nepermis\"\n",
        "\n",
        "    # ABOVE GOES YOUR CODE\n",
        "\n",
        "    return {\"can_vote\": can_vote}\n",
        "\n",
        "# Run the exercise\n",
        "exercise_77()\n"
      ],
      "metadata": {
        "id": "HfkbFQ9yuPFZ",
        "colab": {
          "base_uri": "https://localhost:8080/"
        },
        "outputId": "50c1f54a-01dd-42f7-ef67-2f2002586404"
      },
      "execution_count": null,
      "outputs": [
        {
          "output_type": "stream",
          "name": "stdout",
          "text": [
            "✅ Great job! Exercise completed successfully.\n"
          ]
        }
      ]
    },
    {
      "cell_type": "code",
      "source": [
        "# Given the variable `temperature`, assign to the variable `state` the string `solid` if `temperature` is less than 0, `liquid` if `temperature` is between 0 and 100, and `gas` if `temperature` is greater than 100\n",
        "@check_exercise_78\n",
        "def exercise_78(temperature):\n",
        "    # This line is mandatory and should not be removed\n",
        "    ex_stat_init = True\n",
        "\n",
        "    # BELOW GOES YOUR CODE\n",
        "    match temperature:\n",
        "        case temperature if temperature < 0:\n",
        "            state = \"solid\"\n",
        "        case temperature if temperature > 100:\n",
        "            state = \"gas\"\n",
        "        case _:\n",
        "            state = \"liquid\"\n",
        "\n",
        "    # ABOVE GOES YOUR CODE\n",
        "\n",
        "    return {\"state\": state}\n",
        "\n",
        "# Run the exercise\n",
        "exercise_78()"
      ],
      "metadata": {
        "id": "6ZBjV9QTuVGW",
        "colab": {
          "base_uri": "https://localhost:8080/"
        },
        "outputId": "b361d80f-40ef-44bb-9421-51eb95beb802"
      },
      "execution_count": null,
      "outputs": [
        {
          "output_type": "stream",
          "name": "stdout",
          "text": [
            "✅ Great job! Exercise completed successfully.\n"
          ]
        }
      ]
    },
    {
      "cell_type": "code",
      "source": [
        "# Given the variable `score`, assign to the variable `grade` the string \"A\" if `score` is 90 or above, \"B\" if it's 80 or above, \"C\" otherwise\n",
        "@check_exercise_79\n",
        "def exercise_79(score):\n",
        "    # This line is mandatory and should not be removed\n",
        "    ex_stat_init = True\n",
        "\n",
        "    # BELOW GOES YOUR CODE\n",
        "    match score:\n",
        "        case score if score >=90:\n",
        "            grade = \"A\"\n",
        "        case score if score >= 80:\n",
        "            grade = \"B\"\n",
        "        case _:\n",
        "            grade = \"C\"\n",
        "    # ABOVE GOES YOUR CODE\n",
        "\n",
        "    return {\"grade\": grade}\n",
        "\n",
        "# Run the exercise\n",
        "exercise_79()"
      ],
      "metadata": {
        "id": "8rDbgSzVuW25",
        "colab": {
          "base_uri": "https://localhost:8080/"
        },
        "outputId": "d0a64d2c-344e-490e-ea84-330e14c54d94"
      },
      "execution_count": null,
      "outputs": [
        {
          "output_type": "stream",
          "name": "stdout",
          "text": [
            "✅ Great job! Exercise completed successfully.\n"
          ]
        }
      ]
    },
    {
      "cell_type": "code",
      "source": [
        "# Given the variable `day`, assign to the variable `day_type` the string \"weekend\" if `day` is \"Saturday\" or \"Sunday\", \"weekday\" if it's \"Monday\" through \"Friday\", \"invalid\" otherwise\n",
        "@check_exercise_80\n",
        "def exercise_80(day):\n",
        "    # This line is mandatory and should not be removed\n",
        "    ex_stat_init = True\n",
        "\n",
        "    # BELOW GOES YOUR CODE\n",
        "    match day:\n",
        "        case \"Saturday\" | \"Sunday\":\n",
        "            day_type = \"weekend\"\n",
        "        case  \"Monday\" | \"Tuesday\" | \"Wednesday\" | \"Thursday\" | \"Friday\":\n",
        "            day_type = \"weekday\"\n",
        "        case _:\n",
        "            day_type = \"invalid\"\n",
        "    # ABOVE GOES YOUR CODE\n",
        "\n",
        "    return {\"day_type\": day_type}\n",
        "\n",
        "# Run the exercise\n",
        "exercise_80()"
      ],
      "metadata": {
        "id": "0M-zrpbKuW0D",
        "colab": {
          "base_uri": "https://localhost:8080/"
        },
        "outputId": "ea31a340-4930-42a9-d18c-3c94c588d5f4"
      },
      "execution_count": null,
      "outputs": [
        {
          "output_type": "stream",
          "name": "stdout",
          "text": [
            "✅ Great job! Exercise completed successfully.\n"
          ]
        }
      ]
    },
    {
      "cell_type": "code",
      "source": [
        "# Given the variables `income` and `dependents`, assign to the variable `tax_rate` 0.1 if `income` < 50000 or `dependents` > 3, 0.2 if `income` < 100000, 0.3 otherwise\n",
        "@check_exercise_81\n",
        "def exercise_81(income, dependents):\n",
        "    # This line is mandatory and should not be removed\n",
        "    ex_stat_init = True\n",
        "\n",
        "    # BELOW GOES YOUR CODE\n",
        "    if income<50000 | dependents > 3 :\n",
        "      tax_rate = 0.1\n",
        "    elif income < 100000:\n",
        "      tax_rate = 0.2\n",
        "    else: tax_rate = 0.3\n",
        "\n",
        "    # ABOVE GOES YOUR CODE\n",
        "\n",
        "    return {\"tax_rate\": tax_rate}\n",
        "\n",
        "# Run the exercise\n",
        "exercise_81()"
      ],
      "metadata": {
        "id": "Z8z8tkjduWxb",
        "colab": {
          "base_uri": "https://localhost:8080/"
        },
        "outputId": "c12f5455-369f-4db5-f0bd-75e825e41da7"
      },
      "execution_count": null,
      "outputs": [
        {
          "output_type": "stream",
          "name": "stdout",
          "text": [
            "✅ Great job! Exercise completed successfully.\n"
          ]
        }
      ]
    },
    {
      "cell_type": "code",
      "source": [
        "# Given the variables `is_raining` and `has_umbrella`, assign to the variable `action` the string \"Stay home\" if `is_raining` is True and `has_umbrella` is False, \"Take umbrella\" if `is_raining` is True and `has_umbrella` is True, \"Go out\" otherwise\n",
        "@check_exercise_82\n",
        "def exercise_82(is_raining, has_umbrella):\n",
        "    # This line is mandatory and should not be removed\n",
        "    ex_stat_init = True\n",
        "\n",
        "    # BELOW GOES YOUR CODE\n",
        "    if (is_raining == True) & (has_umbrella == False) :\n",
        "      action = \"Stay home\"\n",
        "    elif (is_raining == True) & (has_umbrella == True):\n",
        "      action = \"Take umbrella\"\n",
        "    else: action = \"Go out\"\n",
        "    # ABOVE GOES YOUR CODE\n",
        "\n",
        "    return {\"action\": action}\n",
        "\n",
        "# Run the exercise\n",
        "exercise_82()"
      ],
      "metadata": {
        "id": "W5EeWS9suWux",
        "colab": {
          "base_uri": "https://localhost:8080/"
        },
        "outputId": "98e53d34-5529-433b-9619-51e67c6bf24b"
      },
      "execution_count": null,
      "outputs": [
        {
          "output_type": "stream",
          "name": "stdout",
          "text": [
            "✅ Great job! Exercise completed successfully.\n"
          ]
        }
      ]
    },
    {
      "cell_type": "code",
      "source": [
        "# Given the variables `is_weekend` and `is_holiday`, assign to the variable `is_day_off` True if either `is_weekend` or `is_holiday` is True, False otherwise\n",
        "@check_exercise_83\n",
        "def exercise_83(is_weekend, is_holiday):\n",
        "    # This line is mandatory and should not be removed\n",
        "    ex_stat_init = True\n",
        "\n",
        "    # BELOW GOES YOUR CODE\n",
        "    if (is_weekend == True) | (is_holiday == True) :\n",
        "      is_day_off = True\n",
        "    else: is_day_off = False\n",
        "    # ABOVE GOES YOUR CODE\n",
        "\n",
        "    return {\"is_day_off\": is_day_off}\n",
        "\n",
        "# Run the exercise\n",
        "exercise_83()"
      ],
      "metadata": {
        "id": "C58bG4Q4uWr-",
        "colab": {
          "base_uri": "https://localhost:8080/"
        },
        "outputId": "d4f46ff7-928d-4be0-afcc-c2879a548681"
      },
      "execution_count": null,
      "outputs": [
        {
          "output_type": "stream",
          "name": "stdout",
          "text": [
            "✅ Great job! Exercise completed successfully.\n"
          ]
        }
      ]
    },
    {
      "cell_type": "code",
      "source": [
        "# Given the variables `is_sunny`, `is_warm`, and `has_sunscreen`, assign to the variable `beach_day` \"Yes\" if it's sunny and warm and you have sunscreen, or if it's sunny and not too warm (regardless of sunscreen), \"No\" otherwise\n",
        "@check_exercise_84\n",
        "def exercise_84(is_sunny, is_warm, has_sunscreen):\n",
        "    # This line is mandatory and should not be removed\n",
        "    ex_stat_init = True\n",
        "\n",
        "    # BELOW GOES YOUR CODE\n",
        "    if (is_sunny == True) & (is_warm == True) & (has_sunscreen == True) :\n",
        "      beach_day = \"Yes\"\n",
        "    elif (is_sunny == True) & (is_warm == False):\n",
        "      beach_day = \"Yes\"\n",
        "    else: beach_day = \"No\"\n",
        "    # ABOVE GOES YOUR CODE\n",
        "\n",
        "    return {\"beach_day\": beach_day}\n",
        "\n",
        "# Run the exercise\n",
        "exercise_84()"
      ],
      "metadata": {
        "id": "wY1yb3yiuWpK",
        "colab": {
          "base_uri": "https://localhost:8080/"
        },
        "outputId": "e41d0be4-a47e-43cf-bbfa-0768ebee0740"
      },
      "execution_count": null,
      "outputs": [
        {
          "output_type": "stream",
          "name": "stdout",
          "text": [
            "✅ Great job! Exercise completed successfully.\n"
          ]
        }
      ]
    },
    {
      "cell_type": "code",
      "source": [
        "# Given the variable `number`, assign to the variable `parity` the string \"even\" if `number` is even, \"odd\" otherwise, using a ternary operator\n",
        "@check_exercise_85\n",
        "def exercise_85(number):\n",
        "    # This line is mandatory and should not be removed\n",
        "    ex_stat_init = True\n",
        "\n",
        "    # BELOW GOES YOUR CODE\n",
        "    parity = \"even\" if number % 2 == 0 else \"odd\"\n",
        "    # ABOVE GOES YOUR CODE\n",
        "\n",
        "    return {\"parity\": parity}\n",
        "\n",
        "# Run the exercise\n",
        "exercise_85()"
      ],
      "metadata": {
        "id": "wMBktFCjuWm1",
        "colab": {
          "base_uri": "https://localhost:8080/"
        },
        "outputId": "702f7f49-de02-4aab-b47e-2941b5e5f083"
      },
      "execution_count": null,
      "outputs": [
        {
          "output_type": "stream",
          "name": "stdout",
          "text": [
            "✅ Great job! Exercise completed successfully.\n"
          ]
        }
      ]
    },
    {
      "cell_type": "code",
      "source": [
        "# Given the variable `fruit`, assign to the variable `is_citrus` True if `fruit` is in the list [\"orange\", \"lemon\", \"lime\", \"grapefruit\"], False otherwise\n",
        "@check_exercise_86\n",
        "def exercise_86(fruit):\n",
        "    # This line is mandatory and should not be removed\n",
        "    ex_stat_init = True\n",
        "\n",
        "    # BELOW GOES YOUR CODE\n",
        "    citrus =[\"orange\", \"lemon\", \"lime\", \"grapefruit\"]\n",
        "    if fruit in citrus :\n",
        "      is_citrus = True\n",
        "    else: is_citrus = False\n",
        "    # ABOVE GOES YOUR CODE\n",
        "\n",
        "    return {\"is_citrus\": is_citrus}\n",
        "\n",
        "# Run the exercise\n",
        "exercise_86()"
      ],
      "metadata": {
        "id": "9o8qDTJEuWkb",
        "colab": {
          "base_uri": "https://localhost:8080/"
        },
        "outputId": "3348188f-5db4-4ab9-ca99-005f7ad56717"
      },
      "execution_count": null,
      "outputs": [
        {
          "output_type": "stream",
          "name": "stdout",
          "text": [
            "✅ Great job! Exercise completed successfully.\n"
          ]
        }
      ]
    },
    {
      "cell_type": "code",
      "source": [
        "# Given a list of numbers called `numbers`, assign to the variable `has_negative` True if any number in the list is negative, False otherwise\n",
        "@check_exercise_87\n",
        "def exercise_87(numbers):\n",
        "    # This line is mandatory and should not be removed\n",
        "    ex_stat_init = True\n",
        "\n",
        "    # BELOW GOES YOUR CODE\n",
        "    has_negative = any(num < 0 for num in numbers)\n",
        "    # ABOVE GOES YOUR CODE\n",
        "\n",
        "    return {\"has_negative\": has_negative}\n",
        "\n",
        "# Run the exercise\n",
        "exercise_87()"
      ],
      "metadata": {
        "id": "ItZpJvW6uWhx",
        "colab": {
          "base_uri": "https://localhost:8080/"
        },
        "outputId": "da30faa1-1398-41af-b96a-f5c2ecdef182"
      },
      "execution_count": null,
      "outputs": [
        {
          "output_type": "stream",
          "name": "stdout",
          "text": [
            "✅ Great job! Exercise completed successfully.\n"
          ]
        }
      ]
    },
    {
      "cell_type": "code",
      "source": [
        "# Given a list of booleans called `test_results`, assign to the variable `all_passed` True if all values in the list are True, False otherwise\n",
        "@check_exercise_88\n",
        "def exercise_88(test_results):\n",
        "    # This line is mandatory and should not be removed\n",
        "    ex_stat_init = True\n",
        "\n",
        "    # BELOW GOES YOUR CODE\n",
        "    all_passed = all(num != False  for num in test_results)\n",
        "    # ABOVE GOES YOUR CODE\n",
        "\n",
        "    return {\"all_passed\": all_passed}\n",
        "\n",
        "# Run the exercise\n",
        "exercise_88()"
      ],
      "metadata": {
        "id": "s1NlgbUouWfJ",
        "colab": {
          "base_uri": "https://localhost:8080/"
        },
        "outputId": "cdaa6bce-5fa0-44ef-ba87-b7006489431d"
      },
      "execution_count": null,
      "outputs": [
        {
          "output_type": "stream",
          "name": "stdout",
          "text": [
            "✅ Great job! Exercise completed successfully.\n"
          ]
        }
      ]
    },
    {
      "cell_type": "code",
      "source": [
        "# Given the variable `password`, assign to the variable `is_correct` True if `password` is \"secret123\", False otherwise\n",
        "@check_exercise_89\n",
        "def exercise_89(password):\n",
        "    # This line is mandatory and should not be removed\n",
        "    ex_stat_init = True\n",
        "\n",
        "    # BELOW GOES YOUR CODE\n",
        "    # if (password == \"secret123\"): is_correct = True\n",
        "    # else: is_correct = False\n",
        "    is_correct = password == \"secret123\"\n",
        "    # ABOVE GOES YOUR CODE\n",
        "\n",
        "    return {\"is_correct\": is_correct}\n",
        "\n",
        "# Run the exercise\n",
        "exercise_89()\n"
      ],
      "metadata": {
        "id": "7pEF4pCYuWcf",
        "colab": {
          "base_uri": "https://localhost:8080/"
        },
        "outputId": "98d0b13f-9d31-4b4d-af12-7ae77255cd67"
      },
      "execution_count": null,
      "outputs": [
        {
          "output_type": "stream",
          "name": "stdout",
          "text": [
            "✅ Great job! Exercise completed successfully.\n"
          ]
        }
      ]
    },
    {
      "cell_type": "code",
      "source": [
        "# Given the variable `username`, assign to the variable `is_valid` True if the length of `username` is between 3 and 20 characters (inclusive), False otherwise\n",
        "@check_exercise_90\n",
        "def exercise_90(username):\n",
        "    # This line is mandatory and should not be removed\n",
        "    ex_stat_init = True\n",
        "\n",
        "    # BELOW GOES YOUR CODE\n",
        "    is_valid = (3<=len(username)<20)\n",
        "    # ABOVE GOES YOUR CODE\n",
        "\n",
        "    return {\"is_valid\": is_valid}\n",
        "\n",
        "# Run the exercise\n",
        "exercise_90()"
      ],
      "metadata": {
        "id": "HSht2ubSuWZ_",
        "colab": {
          "base_uri": "https://localhost:8080/"
        },
        "outputId": "a6231631-e336-4982-eeb4-270d451fe446"
      },
      "execution_count": null,
      "outputs": [
        {
          "output_type": "stream",
          "name": "stdout",
          "text": [
            "✅ Great job! Exercise completed successfully.\n"
          ]
        }
      ]
    },
    {
      "cell_type": "code",
      "source": [
        "# Given the variable `num`, assign to the variable `category` the string \"low\" if `num` is less than 50, \"medium\" if it's between 50 and 100, \"high\" if it's greater than 100\n",
        "@check_exercise_91\n",
        "def exercise_91(num):\n",
        "    # This line is mandatory and should not be removed\n",
        "    ex_stat_init = True\n",
        "\n",
        "    # BELOW GOES YOUR CODE\n",
        "    if num < 50 :\n",
        "      category = \"low\"\n",
        "    elif num<100:\n",
        "      category = \"medium\"\n",
        "    else: category = \"high\"\n",
        "    # ABOVE GOES YOUR CODE\n",
        "\n",
        "    return {\"category\": category}\n",
        "\n",
        "# Run the exercise\n",
        "exercise_91()"
      ],
      "metadata": {
        "id": "kLKjaBPVuWXJ",
        "colab": {
          "base_uri": "https://localhost:8080/"
        },
        "outputId": "0ebc44c8-dbb7-4f74-82ba-cf951feb170b"
      },
      "execution_count": null,
      "outputs": [
        {
          "output_type": "stream",
          "name": "stdout",
          "text": [
            "✅ Great job! Exercise completed successfully.\n"
          ]
        }
      ]
    },
    {
      "cell_type": "code",
      "source": [
        "# Given the variable `email`, assign to the variable `domain` the string \"personal\" if `email` ends with \"@gmail.com\", \"work\" if it ends with \"@company.com\", \"education\" if it ends with \".edu\", \"unknown\" otherwise\n",
        "@check_exercise_92\n",
        "def exercise_92(email):\n",
        "    # This line is mandatory and should not be removed\n",
        "    ex_stat_init = True\n",
        "\n",
        "    # BELOW GOES YOUR CODE\n",
        "    if email.endswith(\"@gmail.com\"):\n",
        "        domain = \"personal\"\n",
        "    elif email.endswith(\"@company.com\"):\n",
        "        domain = \"work\"\n",
        "    elif email.endswith(\".edu\"):\n",
        "        domain = \"education\"\n",
        "    else:\n",
        "        domain = \"unknown\"\n",
        "    # ABOVE GOES YOUR CODE\n",
        "\n",
        "    return {\"domain\": domain}\n",
        "\n",
        "# Run the exercise\n",
        "exercise_92()"
      ],
      "metadata": {
        "id": "zyCw0uiYuWRd",
        "colab": {
          "base_uri": "https://localhost:8080/"
        },
        "outputId": "deb9d415-fa48-4552-9fbd-c68c9756b6af"
      },
      "execution_count": null,
      "outputs": [
        {
          "output_type": "stream",
          "name": "stdout",
          "text": [
            "✅ Great job! Exercise completed successfully.\n"
          ]
        }
      ]
    },
    {
      "cell_type": "code",
      "source": [
        "# Given the variable `data`, assign to the variable `data_type` the string \"numeric\" if `data` is of type int or float, \"text\" if it's of type str, \"boolean\" if it's of type bool, \"other\" otherwise\n",
        "@check_exercise_93\n",
        "def exercise_93(data):\n",
        "    # This line is mandatory and should not be removed\n",
        "    ex_stat_init = True\n",
        "\n",
        "    # BELOW GOES YOUR CODE\n",
        "    if isinstance(data, bool):\n",
        "      data_type = \"boolean\"\n",
        "    elif isinstance(data, str):\n",
        "      data_type = \"text\"\n",
        "    elif isinstance(data, (int, float)):\n",
        "      data_type = \"numeric\"\n",
        "    else : data_type = \"other\"\n",
        "\n",
        "    # ABOVE GOES YOUR CODE\n",
        "\n",
        "    return {\"data_type\": data_type}\n",
        "\n",
        "# Run the exercise\n",
        "exercise_93()"
      ],
      "metadata": {
        "id": "L8w1NyT2uVaX",
        "colab": {
          "base_uri": "https://localhost:8080/"
        },
        "outputId": "e110ba74-27d2-41da-e836-a8732fee837e"
      },
      "execution_count": null,
      "outputs": [
        {
          "output_type": "stream",
          "name": "stdout",
          "text": [
            "✅ Great job! Exercise completed successfully.\n"
          ]
        }
      ]
    },
    {
      "cell_type": "code",
      "source": [
        "# Given a list `numbers` and a variable `target`, assign to the variable `position` the index of `target` in the list if it exists, -1 if it doesn't exist, and -2 if the list is empty\n",
        "@check_exercise_94\n",
        "def exercise_94(numbers, target):\n",
        "    # This line is mandatory and should not be removed\n",
        "    ex_stat_init = True\n",
        "\n",
        "    # BELOW GOES YOUR CODE\n",
        "    match numbers:\n",
        "      case _ if(target in numbers):\n",
        "          position = numbers.index(target)\n",
        "      case []:\n",
        "          position = -2\n",
        "      case _ :\n",
        "          position = -1\n",
        "    # ABOVE GOES YOUR CODE\n",
        "\n",
        "    return {\"position\": position}\n",
        "\n",
        "# Run the exercise\n",
        "exercise_94()"
      ],
      "metadata": {
        "id": "ZLJLa5ZfunCU",
        "colab": {
          "base_uri": "https://localhost:8080/"
        },
        "outputId": "25999ad6-f974-495c-8f25-c79707c143f4"
      },
      "execution_count": null,
      "outputs": [
        {
          "output_type": "stream",
          "name": "stdout",
          "text": [
            "✅ Great job! Exercise completed successfully.\n"
          ]
        }
      ]
    },
    {
      "cell_type": "code",
      "source": [
        "# Given the variable `password`, assign to the variable `is_strong` True if `password` is at least 8 characters long and contains both uppercase and lowercase letters, False otherwise\n",
        "@check_exercise_95\n",
        "def exercise_95(password):\n",
        "    # This line is mandatory and should not be removed\n",
        "    ex_stat_init = True\n",
        "\n",
        "    # BELOW GOES YOUR CODE\n",
        "    if ((len(password)>=8) & any(char.isupper() for char in password) & any(char.islower() for char in password))  :\n",
        "      is_strong = True\n",
        "    else: is_strong = False\n",
        "    # ABOVE GOES YOUR CODE\n",
        "\n",
        "    return {\"is_strong\": is_strong}\n",
        "\n",
        "# Run the exercise\n",
        "exercise_95()"
      ],
      "metadata": {
        "id": "bSjfRXl5um_g",
        "colab": {
          "base_uri": "https://localhost:8080/"
        },
        "outputId": "97cc4c0a-b2be-482b-bdb2-3f68352c63f4"
      },
      "execution_count": null,
      "outputs": [
        {
          "output_type": "stream",
          "name": "stdout",
          "text": [
            "✅ Great job! Exercise completed successfully.\n"
          ]
        }
      ]
    },
    {
      "cell_type": "code",
      "source": [
        "# Given the variables `x`, `y`, and `z`, assign to the variable `is_triangle` True if the sum of any two sides is greater than the third side for all three combinations, False otherwise\n",
        "@check_exercise_96\n",
        "def exercise_96(x, y, z):\n",
        "    # This line is mandatory and should not be removed\n",
        "    ex_stat_init = True\n",
        "\n",
        "    # BELOW GOES YOUR CODE\n",
        "    if ( x + y > z) and (x + z > y) and (y + z > x):  is_triangle = True\n",
        "    else: is_triangle = False\n",
        "    # ABOVE GOES YOUR CODE\n",
        "\n",
        "    return {\"is_triangle\": is_triangle}\n",
        "\n",
        "# Run the exercise\n",
        "exercise_96()"
      ],
      "metadata": {
        "id": "yUJvPW7Hum9E",
        "colab": {
          "base_uri": "https://localhost:8080/"
        },
        "outputId": "1233a14a-03a2-4927-da34-7b64413698fe"
      },
      "execution_count": null,
      "outputs": [
        {
          "output_type": "stream",
          "name": "stdout",
          "text": [
            "✅ Great job! Exercise completed successfully.\n"
          ]
        }
      ]
    },
    {
      "cell_type": "code",
      "source": [
        "# Given the variable `name`, assign to the variable `greeting` the string \"Hello, {name}!\" if `name` is not empty, \"Hello, Guest!\" otherwise, using a ternary operator\n",
        "@check_exercise_97\n",
        "def exercise_97(name):\n",
        "    # This line is mandatory and should not be removed\n",
        "    ex_stat_init = True\n",
        "\n",
        "    # BELOW GOES YOUR CODE\n",
        "    greeting = f\"Hello, {name}!\" if (len(name) != 0) else \"Hello, Guest!\"\n",
        "    # if (len(name) != 0) : greeting =f\"Hello, {name}!\" if\n",
        "    # else : greeting = \"Hello, Guest!\"\"\n",
        "    # ABOVE GOES YOUR CODE\n",
        "\n",
        "    return {\"greeting\": greeting}\n",
        "\n",
        "# Run the exercise\n",
        "exercise_97()"
      ],
      "metadata": {
        "id": "AFGs0nwmum60",
        "colab": {
          "base_uri": "https://localhost:8080/"
        },
        "outputId": "2a463dd8-e966-466d-8aec-cb0faa3535d2"
      },
      "execution_count": null,
      "outputs": [
        {
          "output_type": "stream",
          "name": "stdout",
          "text": [
            "✅ Great job! Exercise completed successfully.\n"
          ]
        }
      ]
    },
    {
      "cell_type": "code",
      "source": [
        "# Given a set `valid_colors` and a variable `chosen_color`, assign to the variable `is_valid_choice` True if `chosen_color` is in `valid_colors`, False otherwise\n",
        "@check_exercise_98\n",
        "def exercise_98(valid_colors, chosen_color):\n",
        "    # This line is mandatory and should not be removed\n",
        "    ex_stat_init = True\n",
        "\n",
        "    # BELOW GOES YOUR CODE\n",
        "    is_valid_choice = True if chosen_color in valid_colors else False\n",
        "    # ABOVE GOES YOUR CODE\n",
        "\n",
        "    return {\"is_valid_choice\": is_valid_choice}\n",
        "\n",
        "# Run the exercise\n",
        "exercise_98()"
      ],
      "metadata": {
        "id": "5TA3aZqNum4T",
        "colab": {
          "base_uri": "https://localhost:8080/"
        },
        "outputId": "bbf4772c-b68f-4553-876c-260b34f4f6b1"
      },
      "execution_count": null,
      "outputs": [
        {
          "output_type": "stream",
          "name": "stdout",
          "text": [
            "✅ Great job! Exercise completed successfully.\n"
          ]
        }
      ]
    },
    {
      "cell_type": "code",
      "source": [
        "# Given a list of strings called `words`, assign to the variable `has_long_word` True if any word in the list has more than 10 characters, False otherwise\n",
        "@check_exercise_99\n",
        "def exercise_99(words):\n",
        "    # This line is mandatory and should not be removed\n",
        "    ex_stat_init = True\n",
        "\n",
        "    # BELOW GOES YOUR CODE\n",
        "    has_long_word= any(len(char)>10 for char in words)\n",
        "    # ABOVE GOES YOUR CODE\n",
        "\n",
        "    return {\"has_long_word\": has_long_word}\n",
        "\n",
        "# Run the exercise\n",
        "exercise_99()"
      ],
      "metadata": {
        "id": "YRd6YEceum14",
        "colab": {
          "base_uri": "https://localhost:8080/"
        },
        "outputId": "3781c23c-9ec7-4ca6-db67-e6897cb04ee6"
      },
      "execution_count": null,
      "outputs": [
        {
          "output_type": "stream",
          "name": "stdout",
          "text": [
            "✅ Great job! Exercise completed successfully.\n"
          ]
        }
      ]
    },
    {
      "cell_type": "code",
      "source": [
        "# Given a list of numbers called `measurements`, assign to the variable `within_tolerance` True if all numbers in the list are between 0 and 100 (inclusive), False otherwise\n",
        "@check_exercise_100\n",
        "def exercise_100(measurements):\n",
        "    # This line is mandatory and should not be removed\n",
        "    ex_stat_init = True\n",
        "\n",
        "    # BELOW GOES YOUR CODE\n",
        "    within_tolerance = all( (0 <= num <= 100) for num in measurements)\n",
        "    # ABOVE GOES YOUR CODE\n",
        "\n",
        "    return {\"within_tolerance\": within_tolerance}\n",
        "\n",
        "# Run the exercise\n",
        "exercise_100()"
      ],
      "metadata": {
        "id": "S0rXdZk3umzd",
        "colab": {
          "base_uri": "https://localhost:8080/"
        },
        "outputId": "f9813f28-c690-4d0a-cb63-c15409dbb0b9"
      },
      "execution_count": null,
      "outputs": [
        {
          "output_type": "stream",
          "name": "stdout",
          "text": [
            "✅ Great job! Exercise completed successfully.\n"
          ]
        }
      ]
    },
    {
      "cell_type": "code",
      "source": [
        "# Given two time strings `time1` and `time2` in \"HH:MM\" format, assign to the variable `is_later` True if `time2` is later than `time1`, False otherwise\n",
        "@check_exercise_101\n",
        "def exercise_101(time1, time2):\n",
        "    # This line is mandatory and should not be removed\n",
        "    ex_stat_init = True\n",
        "\n",
        "    # BELOW GOES YOUR CODE\n",
        "    hours1, minutes1 = map(int, time1.split(\":\"))\n",
        "    hours2, minutes2 = map(int, time2.split(\":\"))\n",
        "\n",
        "    # Check if `time2` is later than `time1`\n",
        "    is_later = (hours2, minutes2) > (hours1, minutes1)\n",
        "    # ABOVE GOES YOUR CODE\n",
        "\n",
        "    return {\"is_later\": is_later}\n",
        "\n",
        "# Run the exercise\n",
        "exercise_101()"
      ],
      "metadata": {
        "id": "lDAokae2umwy",
        "colab": {
          "base_uri": "https://localhost:8080/"
        },
        "outputId": "eb2c9c43-b860-4a89-93ca-57f8608a013a"
      },
      "execution_count": null,
      "outputs": [
        {
          "output_type": "stream",
          "name": "stdout",
          "text": [
            "✅ Great job! Exercise completed successfully.\n"
          ]
        }
      ]
    },
    {
      "cell_type": "code",
      "source": [
        "# Given a dictionary `stock` and a variable `item`, assign to the variable `availability` \"In stock\" if `item` is a key in `stock` and its value is greater than 0, \"Out of stock\" otherwise\n",
        "@check_exercise_102\n",
        "def exercise_102(stock, item):\n",
        "    # This line is mandatory and should not be removed\n",
        "    ex_stat_init = True\n",
        "\n",
        "    # BELOW GOES YOUR CODE\n",
        "    if (item in stock ) and (stock.get(item)>0) : availability = \"In stock\"\n",
        "    # if item in stock and stock.get(item) > 0:\n",
        "    #     availability = \"In stock\"\n",
        "    else:\n",
        "        availability = \"Out of stock\"\n",
        "    # ABOVE GOES YOUR CODE\n",
        "\n",
        "    return {\"availability\": availability}\n",
        "\n",
        "# Run the exercise\n",
        "exercise_102()"
      ],
      "metadata": {
        "id": "CqO9xYcRumuV",
        "colab": {
          "base_uri": "https://localhost:8080/"
        },
        "outputId": "1050fb50-7ec3-4a41-c382-d27e2d83ef3a"
      },
      "execution_count": null,
      "outputs": [
        {
          "output_type": "stream",
          "name": "stdout",
          "text": [
            "✅ Great job! Exercise completed successfully.\n"
          ]
        }
      ]
    },
    {
      "cell_type": "code",
      "source": [
        "# Given variables `hours`, `minutes`, and `seconds`, assign to the variable `time_format` the string in \"HH:MM:SS\" format if all are provided, \"HH:MM\" format if only hours and minutes are provided, \"HH\" format if only hours are provided\n",
        "@check_exercise_103\n",
        "def exercise_103(hours, minutes, seconds):\n",
        "    # This line is mandatory and should not be removed\n",
        "    ex_stat_init = True\n",
        "\n",
        "    # BELOW GOES YOUR CODE\n",
        "    if (minutes is None) and (seconds is None ) : time_format=f\"{hours:02d}\"\n",
        "    elif seconds is None: time_format= f\"{hours:02d}:{minutes:02d}\"\n",
        "    else: time_format= f\"{hours:02d}:{minutes:02d}:{seconds:02d}\"\n",
        "    # f\"{hours}:{minutes}:{seconds}\" tot corect\n",
        "    # ABOVE GOES YOUR CODE\n",
        "\n",
        "    return {\"time_format\": time_format}\n",
        "\n",
        "# Run the exercise\n",
        "exercise_103()"
      ],
      "metadata": {
        "id": "EA_x5tefumr5",
        "colab": {
          "base_uri": "https://localhost:8080/"
        },
        "outputId": "60c8b074-6958-47a6-8944-821b66f4379a"
      },
      "execution_count": null,
      "outputs": [
        {
          "output_type": "stream",
          "name": "stdout",
          "text": [
            "✅ Great job! Exercise completed successfully.\n"
          ]
        }
      ]
    },
    {
      "cell_type": "code",
      "source": [
        "# Given a variable `operation` and two variables `a` and `b`, assign to the variable `result` the sum if `operation` is \"+\", difference if \"-\", product if \"*\", quotient if \"/\", \"Error\" if \"/\" and `b` is 0, \"Invalid operation\" for any other operation\n",
        "@check_exercise_104\n",
        "def exercise_104(operation, a, b):\n",
        "    # This line is mandatory and should not be removed\n",
        "    ex_stat_init = True\n",
        "\n",
        "    # BELOW GOES YOUR CODE\n",
        "    match operation:\n",
        "      case \"+\":\n",
        "        result = a+b\n",
        "      case \"-\":\n",
        "        result = a-b\n",
        "      case \"*\":\n",
        "        result = a*b\n",
        "      case \"/\":\n",
        "            result = \"Error\" if b == 0 else a / b\n",
        "      case _:\n",
        "        result = \"Invalid operation\"\n",
        "\n",
        "    # ABOVE GOES YOUR CODE\n",
        "\n",
        "    return {\"result\": result}\n",
        "\n",
        "# Run the exercise\n",
        "exercise_104()"
      ],
      "metadata": {
        "id": "X8Wx6Uk7umpp",
        "colab": {
          "base_uri": "https://localhost:8080/"
        },
        "outputId": "934a1e60-b267-47f8-bce4-ebc3141a1e66"
      },
      "execution_count": null,
      "outputs": [
        {
          "output_type": "stream",
          "name": "stdout",
          "text": [
            "✅ Great job! Exercise completed successfully.\n"
          ]
        }
      ]
    },
    {
      "cell_type": "code",
      "source": [
        "# Given a filename `file`, assign to the variable `file_type` \"Image\" if the file ends with .jpg, .png, or .gif, \"Document\" if it ends with .doc, .docx, or .pdf, \"Spreadsheet\" if it ends with .xls or .xlsx, \"Other\" for any other extension\n",
        "@check_exercise_105\n",
        "def exercise_105(file):\n",
        "    # This line is mandatory and should not be removed\n",
        "    ex_stat_init = True\n",
        "\n",
        "    # BELOW GOES YOUR CODE\n",
        "    match file:\n",
        "      case _ if file.endswith((\".jpg\", \".png\", \".gif\")):\n",
        "          file_type = \"Image\"\n",
        "      case _ if file.endswith((\".doc\", \".docx\", \".pdf\")):\n",
        "          file_type = \"Document\"\n",
        "      case _ if file.endswith((\".xls\", \".xlsx\")):\n",
        "          file_type = \"Spreadsheet\"\n",
        "      case _:\n",
        "          file_type = \"Other\"\n",
        "\n",
        "    # ABOVE GOES YOUR CODE\n",
        "\n",
        "    return {\"file_type\": file_type}\n",
        "\n",
        "# Run the exercise\n",
        "exercise_105()"
      ],
      "metadata": {
        "id": "uzpkl43FumnM",
        "colab": {
          "base_uri": "https://localhost:8080/"
        },
        "outputId": "af441d4b-5b88-4b29-ae06-286d80dc5316"
      },
      "execution_count": null,
      "outputs": [
        {
          "output_type": "stream",
          "name": "stdout",
          "text": [
            "✅ Great job! Exercise completed successfully.\n"
          ]
        }
      ]
    },
    {
      "cell_type": "code",
      "source": [
        "from re import T\n",
        "from datetime import datetime\n",
        "# Given variables `start_date`, `end_date`, and `check_date` all being a string in \"HH:MM:SS\" format, assign to the variable `is_within_range` True if `check_date` is between `start_date` and `end_date` (inclusive), False otherwise\n",
        "@check_exercise_106\n",
        "def exercise_106(start_date, end_date, check_date):\n",
        "    # This line is mandatory and should not be removed\n",
        "    ex_stat_init = True\n",
        "\n",
        "    # BELOW GOES YOUR CODE\n",
        "    start = datetime.strptime(start_date, \"%H:%M:%S\")\n",
        "    end = datetime.strptime(end_date, \"%H:%M:%S\")\n",
        "    check = datetime.strptime(check_date, \"%H:%M:%S\")\n",
        "    is_within_range = start <= check <= end\n",
        "    # ABOVE GOES YOUR CODE\n",
        "\n",
        "    return {\"is_within_range\": is_within_range}\n",
        "\n",
        "# Run the exercise\n",
        "exercise_106()"
      ],
      "metadata": {
        "id": "qJrQcJJAumks",
        "colab": {
          "base_uri": "https://localhost:8080/"
        },
        "outputId": "6f2c90bd-09b7-4e01-9bfb-7c9a0d313b82"
      },
      "execution_count": null,
      "outputs": [
        {
          "output_type": "stream",
          "name": "stdout",
          "text": [
            "✅ Great job! Exercise completed successfully.\n"
          ]
        }
      ]
    },
    {
      "cell_type": "code",
      "source": [
        "# Given a variable `version` in the format \"X.Y.Z\", assign to the variable `is_compatible` True if X is 2, Y is greater than 5, and Z is any number, or if X is 3 and Y is less than 2, False otherwise\n",
        "@check_exercise_107\n",
        "def exercise_107(version):\n",
        "    # This line is mandatory and should not be removed\n",
        "    ex_stat_init = True\n",
        "\n",
        "    # BELOW GOES YOUR CODE\n",
        "    X, Y, Z = map(int, version.split(\".\"))\n",
        "\n",
        "    # Check the compatibility conditions\n",
        "    is_compatible = (X == 2 and Y > 5) or (X == 3 and Y < 2)\n",
        "    # ABOVE GOES YOUR CODE\n",
        "\n",
        "    return {\"is_compatible\": is_compatible}\n",
        "\n",
        "# Run the exercise\n",
        "exercise_107()"
      ],
      "metadata": {
        "id": "dNThgX-NumiO",
        "colab": {
          "base_uri": "https://localhost:8080/"
        },
        "outputId": "6a18dc66-e395-480d-9436-29cd964a8fc8"
      },
      "execution_count": null,
      "outputs": [
        {
          "output_type": "stream",
          "name": "stdout",
          "text": [
            "✅ Great job! Exercise completed successfully.\n"
          ]
        }
      ]
    },
    {
      "cell_type": "code",
      "source": [
        "# Given a list of numbers `values`, assign to the variable `processed` a new list where each number is doubled if it's even, or tripled if it's odd, using a ternary operator in a list comprehension\n",
        "@check_exercise_108\n",
        "def exercise_108(values):\n",
        "    # This line is mandatory and should not be removed\n",
        "    ex_stat_init = True\n",
        "\n",
        "    # BELOW GOES YOUR CODE\n",
        "    processed = [num*2 if num %2==0 else num*3 for num in values]\n",
        "    # processed= []\n",
        "    # for num in values :\n",
        "    #   if num%2 == 0 : processed.append(num*2)\n",
        "    #   else: processed.append(num*3)\n",
        "    # ABOVE GOES YOUR CODE\n",
        "\n",
        "    return {\"processed\": processed}\n",
        "\n",
        "# Run the exercise\n",
        "exercise_108()"
      ],
      "metadata": {
        "id": "n0Is4Cd9umfu",
        "colab": {
          "base_uri": "https://localhost:8080/"
        },
        "outputId": "68743049-b17c-4ffa-f63c-fb3e882c48e4"
      },
      "execution_count": null,
      "outputs": [
        {
          "output_type": "stream",
          "name": "stdout",
          "text": [
            "✅ Great job! Exercise completed successfully.\n"
          ]
        }
      ]
    },
    {
      "cell_type": "code",
      "source": [
        "# Given a variable `text` and a list of `keywords`, assign to the variable `is_relevant` True if any of the keywords are found in the text (case-insensitive), False otherwise\n",
        "@check_exercise_109\n",
        "def exercise_109(text, keywords):\n",
        "    # This line is mandatory and should not be removed\n",
        "    ex_stat_init = True\n",
        "\n",
        "    # BELOW GOES YOUR CODE\n",
        "    is_relevant = any(key.lower() in text.lower() for key in keywords)\n",
        "    # ABOVE GOES YOUR CODE\n",
        "\n",
        "    return {\"is_relevant\": is_relevant}\n",
        "\n",
        "# Run the exercise\n",
        "exercise_109()"
      ],
      "metadata": {
        "id": "FROw5cAgumc6",
        "colab": {
          "base_uri": "https://localhost:8080/"
        },
        "outputId": "ddcd9f53-1001-4291-97b9-c468091f1d20"
      },
      "execution_count": null,
      "outputs": [
        {
          "output_type": "stream",
          "name": "stdout",
          "text": [
            "✅ Great job! Exercise completed successfully.\n"
          ]
        }
      ]
    },
    {
      "cell_type": "code",
      "source": [
        "# Given a list of `Employee` objects called `staff`, assign to the variable `has_manager` True if any employee has the title \"Manager\", False otherwise (assume each Employee object has a `title` attribute)\n",
        "@check_exercise_110\n",
        "def exercise_110(staff):\n",
        "    # This line is mandatory and should not be removed\n",
        "    ex_stat_init = True\n",
        "\n",
        "    # BELOW GOES YOUR CODE\n",
        "    has_manager = any(employee.title == \"Manager\" for employee in staff)\n",
        "\n",
        "    # ABOVE GOES YOUR CODE\n",
        "\n",
        "    return {\"has_manager\": has_manager}\n",
        "\n",
        "# Run the exercise\n",
        "exercise_110()"
      ],
      "metadata": {
        "id": "TV0ULahUumav",
        "colab": {
          "base_uri": "https://localhost:8080/"
        },
        "outputId": "8bc2ddbf-80e1-4c9b-ee53-a56a958e53e1"
      },
      "execution_count": null,
      "outputs": [
        {
          "output_type": "stream",
          "name": "stdout",
          "text": [
            "✅ Great job! Exercise completed successfully.\n"
          ]
        }
      ]
    },
    {
      "cell_type": "code",
      "source": [
        "# Given a list of strings called `inputs`, assign to the variable `all_valid` True if all strings in the list are valid email addresses (use a simple check like contains \"@\" and \".\"), False otherwise\n",
        "@check_exercise_111\n",
        "def exercise_111(inputs):\n",
        "    # This line is mandatory and should not be removed\n",
        "    ex_stat_init = True\n",
        "\n",
        "    # BELOW GOES YOUR CODE\n",
        "    all_valid = all(\"@\" in input and\".\" in input for input in inputs)\n",
        "    # ABOVE GOES YOUR CODE\n",
        "\n",
        "    return {\"all_valid\": all_valid}\n",
        "\n",
        "# Run the exercise\n",
        "exercise_111()"
      ],
      "metadata": {
        "id": "TMvq7-CbumXs",
        "colab": {
          "base_uri": "https://localhost:8080/"
        },
        "outputId": "03c4983d-9248-44f3-d9ed-e0548356f2d4"
      },
      "execution_count": null,
      "outputs": [
        {
          "output_type": "stream",
          "name": "stdout",
          "text": [
            "✅ Great job! Exercise completed successfully.\n"
          ]
        }
      ]
    },
    {
      "cell_type": "code",
      "source": [
        "# Given two integers `a` and `b`, assign to the variable `has_common_bit` True if `a` and `b` have at least one common bit set to 1 in their binary representation, False otherwise\n",
        "@check_exercise_112\n",
        "def exercise_112(a, b):\n",
        "    # This line is mandatory and should not be removed\n",
        "    ex_stat_init = True\n",
        "\n",
        "    # BELOW GOES YOUR CODE\n",
        "    has_common_bit = (a & b) != 0\n",
        "    # ABOVE GOES YOUR CODE\n",
        "\n",
        "    return {\"has_common_bit\": has_common_bit}\n",
        "\n",
        "# Run the exercise\n",
        "exercise_112()"
      ],
      "metadata": {
        "id": "3GcHhdDDumVM",
        "colab": {
          "base_uri": "https://localhost:8080/"
        },
        "outputId": "02d494d6-92d4-4e4b-d1ff-83b53645e2e7"
      },
      "execution_count": null,
      "outputs": [
        {
          "output_type": "stream",
          "name": "stdout",
          "text": [
            "✅ Great job! Exercise completed successfully.\n"
          ]
        }
      ]
    },
    {
      "cell_type": "code",
      "source": [
        "# Given a variable `password`, assign to the variable `meets_policy` True if `password` contains at least one uppercase letter, one lowercase letter, one digit, and is at least 8 characters long, False otherwise\n",
        "@check_exercise_113\n",
        "def exercise_113(password):\n",
        "    # This line is mandatory and should not be removed\n",
        "    ex_stat_init = True\n",
        "\n",
        "    # BELOW GOES YOUR CODE\n",
        "    if ((len(password)>=8) & any(char.isupper() for char in password) & any(char.islower() for char in password) &any(char.isdigit() for char in password) )  :\n",
        "      meets_policy = True\n",
        "    else: meets_policy = False\n",
        "    # ABOVE GOES YOUR CODE\n",
        "\n",
        "    return {\"meets_policy\": meets_policy}\n",
        "\n",
        "# Run the exercise\n",
        "exercise_113()"
      ],
      "metadata": {
        "id": "z-I9yqQcumSg",
        "colab": {
          "base_uri": "https://localhost:8080/"
        },
        "outputId": "5228265f-fd32-46b7-d6e0-575cf8958fb3"
      },
      "execution_count": null,
      "outputs": [
        {
          "output_type": "stream",
          "name": "stdout",
          "text": [
            "✅ Great job! Exercise completed successfully.\n"
          ]
        }
      ]
    },
    {
      "cell_type": "code",
      "source": [
        "# Given a variable `length` and a variable `unit` (either \"m\", \"ft\", or \"yd\"), assign to the variable `meters` the length converted to meters\n",
        "@check_exercise_114\n",
        "def exercise_114(length, unit):\n",
        "    # This line is mandatory and should not be removed\n",
        "    ex_stat_init = True\n",
        "\n",
        "    # BELOW GOES YOUR CODE\n",
        "    match unit:\n",
        "      case \"m\" :\n",
        "        meters = length\n",
        "      case \"ft\" :\n",
        "        meters = length * 0.3048\n",
        "      case \"yd\" :\n",
        "        meters = length * 0.9144\n",
        "\n",
        "    # ABOVE GOES YOUR CODE\n",
        "\n",
        "    return {\"meters\": meters}\n",
        "\n",
        "# Run the exercise\n",
        "exercise_114()"
      ],
      "metadata": {
        "id": "UrgKkqMKumP2",
        "colab": {
          "base_uri": "https://localhost:8080/"
        },
        "outputId": "53e83671-4680-40b6-a868-ac6ebf0948dc"
      },
      "execution_count": null,
      "outputs": [
        {
          "output_type": "stream",
          "name": "stdout",
          "text": [
            "✅ Great job! Exercise completed successfully.\n"
          ]
        }
      ]
    },
    {
      "cell_type": "code",
      "source": [
        "# Given a variable `status_code`, assign to the variable `message` a descriptive string based on common HTTP status codes (200: \"OK\", 404: \"Not Found\", 500: \"Server Error\", etc.)\n",
        "@check_exercise_115\n",
        "def exercise_115(status_code):\n",
        "    # This line is mandatory and should not be removed\n",
        "    ex_stat_init = True\n",
        "\n",
        "    # BELOW GOES YOUR CODE\n",
        "    match status_code:\n",
        "      case 200 :\n",
        "        message = \"OK\"\n",
        "      case 404 :\n",
        "        message =\"Not Found\"\n",
        "      case 500 :\n",
        "        message = \"Server Error\"\n",
        "    # ABOVE GOES YOUR CODE\n",
        "\n",
        "    return {\"message\": message}\n",
        "\n",
        "# Run the exercise\n",
        "exercise_115()"
      ],
      "metadata": {
        "id": "GHew2dMpumMQ",
        "colab": {
          "base_uri": "https://localhost:8080/"
        },
        "outputId": "f747eea1-cc5f-4ebf-9023-f3c0f56e55fe"
      },
      "execution_count": null,
      "outputs": [
        {
          "output_type": "stream",
          "name": "stdout",
          "text": [
            "✅ Great job! Exercise completed successfully.\n"
          ]
        }
      ]
    },
    {
      "cell_type": "code",
      "source": [
        "# Given variables `width` and `height`, assign to the variable `shape` the string \"square\" if width equals height, \"landscape\" if width is greater, \"portrait\" if height is greater\n",
        "@check_exercise_116\n",
        "def exercise_116(width, height):\n",
        "    # This line is mandatory and should not be removed\n",
        "    ex_stat_init = True\n",
        "\n",
        "    # BELOW GOES YOUR CODE\n",
        "    if width == height :\n",
        "      shape = \"square\"\n",
        "    elif width> height :\n",
        "      shape = \"landscape\"\n",
        "    else : shape = \"portrait\"\n",
        "    # ABOVE GOES YOUR CODE\n",
        "\n",
        "    return {\"shape\": shape}\n",
        "\n",
        "# Run the exercise\n",
        "exercise_116()"
      ],
      "metadata": {
        "id": "pfyi0jvXvLS1",
        "colab": {
          "base_uri": "https://localhost:8080/"
        },
        "outputId": "cda7e747-84ba-4c11-f2cb-63d57c75268d"
      },
      "execution_count": null,
      "outputs": [
        {
          "output_type": "stream",
          "name": "stdout",
          "text": [
            "✅ Great job! Exercise completed successfully.\n"
          ]
        }
      ]
    },
    {
      "cell_type": "code",
      "source": [
        "# Given variables `username`, `email`, and `age`, assign to the variable `registration_status` \"Accepted\" if all are valid (non-empty username, valid email format (the mail contains the character `@` and `.`), age between 18 and 99), otherwise assign the string \"Username is empty\", \"Invalid email format\", or \"Age is not between 18 and 99\" as appropriate\n",
        "@check_exercise_117\n",
        "def exercise_117(username, email, age):\n",
        "    # This line is mandatory and should not be removed\n",
        "    ex_stat_init = True\n",
        "\n",
        "    # BELOW GOES YOUR CODE\n",
        "    if (username==\"\"):\n",
        "      registration_status = \"Username is empty\"\n",
        "    elif not(\"@\" in email and \".\" in email) :\n",
        "      registration_status = \"Invalid email format\"\n",
        "    elif not(age in range(18,99) ):\n",
        "      registration_status = \"Age is not between 18 and 99\"\n",
        "    else : registration_status = \"Accepted\"\n",
        "\n",
        "    # ABOVE GOES YOUR CODE\n",
        "\n",
        "    return {\"registration_status\": registration_status}\n",
        "\n",
        "# Run the exercise\n",
        "exercise_117()"
      ],
      "metadata": {
        "id": "a8OwXfXpvLK4",
        "colab": {
          "base_uri": "https://localhost:8080/"
        },
        "outputId": "a47c80de-34bb-4fb0-ba69-2f978bbdcd7d"
      },
      "execution_count": null,
      "outputs": [
        {
          "output_type": "stream",
          "name": "stdout",
          "text": [
            "✅ Great job! Exercise completed successfully.\n"
          ]
        }
      ]
    },
    {
      "cell_type": "code",
      "source": [
        "# Given boolean variables `is_admin`, `is_staff`, and `is_active`, assign to the variable `can_access_dashboard` True if the user is an active admin or an active staff member, False otherwise\n",
        "@check_exercise_118\n",
        "def exercise_118(is_admin, is_staff, is_active):\n",
        "    # This line is mandatory and should not be removed\n",
        "    ex_stat_init = True\n",
        "\n",
        "    # BELOW GOES YOUR CODE\n",
        "    can_access_dashboard = is_active & (is_staff | is_admin )\n",
        "    # ABOVE GOES YOUR CODE\n",
        "\n",
        "    return {\"can_access_dashboard\": can_access_dashboard}\n",
        "\n",
        "# Run the exercise\n",
        "exercise_118()"
      ],
      "metadata": {
        "id": "gS_ZQSVkvLIR",
        "colab": {
          "base_uri": "https://localhost:8080/"
        },
        "outputId": "151e287c-d00b-428b-ae4f-b5817d11adaf"
      },
      "execution_count": null,
      "outputs": [
        {
          "output_type": "stream",
          "name": "stdout",
          "text": [
            "✅ Great job! Exercise completed successfully.\n"
          ]
        }
      ]
    },
    {
      "cell_type": "code",
      "source": [
        "# Given variables `is_weekday`, `is_business_hours`, and `is_holiday`, assign to the variable `is_open` True if it's a weekday during business hours and not a holiday, False otherwise\n",
        "@check_exercise_119\n",
        "def exercise_119(is_weekday, is_business_hours, is_holiday):\n",
        "    # This line is mandatory and should not be removed\n",
        "    ex_stat_init = True\n",
        "\n",
        "    # BELOW GOES YOUR CODE\n",
        "    is_open = is_weekday and is_business_hours and not(is_holiday)\n",
        "    # ABOVE GOES YOUR CODE\n",
        "\n",
        "    return {\"is_open\": is_open}\n",
        "\n",
        "# Run the exercise\n",
        "exercise_119()"
      ],
      "metadata": {
        "id": "MA8qjbeOvLFh",
        "colab": {
          "base_uri": "https://localhost:8080/"
        },
        "outputId": "af22f15b-fe4e-45a2-919d-17f5e7f86a47"
      },
      "execution_count": null,
      "outputs": [
        {
          "output_type": "stream",
          "name": "stdout",
          "text": [
            "✅ Great job! Exercise completed successfully.\n"
          ]
        }
      ]
    },
    {
      "cell_type": "code",
      "source": [
        "# Given a variable `full_name`, assign to the variable `display_name` the first name if `full_name` contains a space, otherwise assign the full name, using a ternary operator\n",
        "@check_exercise_120\n",
        "def exercise_120(full_name):\n",
        "    # This line is mandatory and should not be removed\n",
        "    ex_stat_init = True\n",
        "\n",
        "    # BELOW GOES YOUR CODE\n",
        "    display_name =  full_name.split()[0] if \" \" in full_name else full_name\n",
        "    # ABOVE GOES YOUR CODE\n",
        "\n",
        "    return {\"display_name\": display_name}\n",
        "\n",
        "# Run the exercise\n",
        "exercise_120()"
      ],
      "metadata": {
        "id": "Sc1cH-vcvLDH",
        "colab": {
          "base_uri": "https://localhost:8080/"
        },
        "outputId": "802d3474-aea6-474b-ab25-ce0b8f65ecff"
      },
      "execution_count": null,
      "outputs": [
        {
          "output_type": "stream",
          "name": "stdout",
          "text": [
            "✅ Great job! Exercise completed successfully.\n"
          ]
        }
      ]
    },
    {
      "cell_type": "code",
      "source": [
        "# # Given a variable `grade` (0-100), assign to the variable `letter_grade` \"A\" for 90-100, \"B\" for 80-89, \"C\" for 70-79, \"D\" for 60-69, \"F\" for 0-59\n",
        "@check_exercise_121\n",
        "def exercise_121(grade):\n",
        "    # This line is mandatory and should not be removed\n",
        "    ex_stat_init = True\n",
        "\n",
        "    # BELOW GOES YOUR CODE\n",
        "    match grade:\n",
        "      case _ if grade >= 90:\n",
        "        letter_grade = \"A\"\n",
        "      case _ if grade >= 80:\n",
        "        letter_grade = \"B\"\n",
        "      case _ if grade >= 70:\n",
        "        letter_grade = \"C\"\n",
        "      case _ if grade >= 60:\n",
        "        letter_grade =\"D\"\n",
        "      case _ :\n",
        "        letter_grade =\"F\"\n",
        "\n",
        "    # ABOVE GOES YOUR CODE\n",
        "\n",
        "    return {\"letter_grade\": letter_grade}\n",
        "\n",
        "# Run the exercise\n",
        "exercise_121()"
      ],
      "metadata": {
        "id": "QRzUfMvavLAx",
        "colab": {
          "base_uri": "https://localhost:8080/"
        },
        "outputId": "a00919c7-7ba3-4ef0-d8bf-08c6b7dc0ba7"
      },
      "execution_count": null,
      "outputs": [
        {
          "output_type": "stream",
          "name": "stdout",
          "text": [
            "✅ Great job! Exercise completed successfully.\n"
          ]
        }
      ]
    },
    {
      "cell_type": "code",
      "source": [
        "# Given a list of strings `phrases`, assign to the variable `contains_python` True if any phrase contains the word \"python\" (case-insensitive), False otherwise, using a generator expression\n",
        "@check_exercise_122\n",
        "def exercise_122(phrases):\n",
        "    # This line is mandatory and should not be removed\n",
        "    ex_stat_init = True\n",
        "\n",
        "    # BELOW GOES YOUR CODE\n",
        "    contains_python = any(\"python\" in phrase.lower() for phrase in phrases)\n",
        "    # ABOVE GOES YOUR CODE\n",
        "\n",
        "    return {\"contains_python\": contains_python}\n",
        "\n",
        "# Run the exercise\n",
        "exercise_122()"
      ],
      "metadata": {
        "id": "ClpHUXWdvK-L",
        "colab": {
          "base_uri": "https://localhost:8080/"
        },
        "outputId": "7df3df4e-a6c2-40b6-d843-c68592f2b9ec"
      },
      "execution_count": null,
      "outputs": [
        {
          "output_type": "stream",
          "name": "stdout",
          "text": [
            "✅ Great job! Exercise completed successfully.\n"
          ]
        }
      ]
    },
    {
      "cell_type": "code",
      "source": [
        "# Given two sets `required_skills` and `candidate_skills`, assign to the variable `is_qualified` True if the candidate has all the required skills, False otherwise\n",
        "@check_exercise_123\n",
        "def exercise_123(required_skills, candidate_skills):\n",
        "    # This line is mandatory and should not be removed\n",
        "    ex_stat_init = True\n",
        "\n",
        "    # BELOW GOES YOUR CODE\n",
        "    is_qualified = all( skill in candidate_skills for skill in required_skills)\n",
        "    # ABOVE GOES YOUR CODE\n",
        "\n",
        "    return {\"is_qualified\": is_qualified}\n",
        "\n",
        "# Run the exercise\n",
        "exercise_123()"
      ],
      "metadata": {
        "id": "AEexDcwWvK7y",
        "colab": {
          "base_uri": "https://localhost:8080/"
        },
        "outputId": "e031de45-59a1-4a4e-aed0-a95160d6490e"
      },
      "execution_count": null,
      "outputs": [
        {
          "output_type": "stream",
          "name": "stdout",
          "text": [
            "✅ Great job! Exercise completed successfully.\n"
          ]
        }
      ]
    },
    {
      "cell_type": "code",
      "source": [
        "# Given a variable `product_code`, assign to the variable `is_electronics` True if the product code starts with \"EL\", False otherwise\n",
        "@check_exercise_124\n",
        "def exercise_124(product_code):\n",
        "    # This line is mandatory and should not be removed\n",
        "    ex_stat_init = True\n",
        "\n",
        "    # BELOW GOES YOUR CODE\n",
        "    is_electronics = product_code.startswith(\"EL\")\n",
        "    # ABOVE GOES YOUR CODE\n",
        "\n",
        "    return {\"is_electronics\": is_electronics}\n",
        "\n",
        "# Run the exercise\n",
        "exercise_124()"
      ],
      "metadata": {
        "id": "nZWTnCbIvK5N",
        "colab": {
          "base_uri": "https://localhost:8080/"
        },
        "outputId": "3719601d-7052-4341-edde-50f954a34951"
      },
      "execution_count": null,
      "outputs": [
        {
          "output_type": "stream",
          "name": "stdout",
          "text": [
            "✅ Great job! Exercise completed successfully.\n"
          ]
        }
      ]
    },
    {
      "cell_type": "code",
      "source": [
        "# Given a dictionary `scores` with names as keys and numeric scores as values, assign to the variable `grades` a new dictionary where scores are replaced with letter grades (A: 90-100, B: 80-89, C: 70-79, D: 60-69, F: 0-59)\n",
        "@check_exercise_125\n",
        "def exercise_125(scores):\n",
        "    # This line is mandatory and should not be removed\n",
        "    ex_stat_init = True\n",
        "\n",
        "    # BELOW GOES YOUR CODE\n",
        "\n",
        "    # V1\n",
        "    # key= scores.keys()\n",
        "    # items = scores.values()\n",
        "    # print (key)\n",
        "    # print (items)\n",
        "    # grade=[]\n",
        "    # for item in items:\n",
        "    #     match items:\n",
        "    #         case _ if item >= 90:\n",
        "    #             grade.append(\"A\")\n",
        "    #         case _ if item >= 80:\n",
        "    #             grade.append(\"B\")\n",
        "    #         case _ if item >= 70:\n",
        "    #             grade.append(\"C\")\n",
        "    #         case _ if item >= 60:\n",
        "    #             grade.append(\"D\")\n",
        "    #         case _ :\n",
        "    #             grade.append(\"F\")\n",
        "    # print(grade)\n",
        "    # grades = dict(zip(key, grade))\n",
        "    # print(grades)\n",
        "    # V2\n",
        "    # grades = {}\n",
        "    # for name, score in scores.items():\n",
        "    #     if 90 <= score <= 100:\n",
        "    #         grades[name] = 'A'\n",
        "    #     elif 80 <= score < 90:\n",
        "    #         grades[name] = 'B'\n",
        "    #     elif 70 <= score < 80:\n",
        "    #         grades[name] = 'C'\n",
        "    #     elif 60 <= score < 70:\n",
        "    #         grades[name] = 'D'\n",
        "    #     else:\n",
        "    #         grades[name] = 'F'\n",
        "    # V3\n",
        "    # grades = {\n",
        "    #   name: (\n",
        "    #         'A' if 90 <= score <= 100 else\n",
        "    #         'B' if 80 <= score < 90 else\n",
        "    #         'C' if 70 <= score < 80 else\n",
        "    #         'D' if 60 <= score < 70 else\n",
        "    #         'F'\n",
        "    #         )\n",
        "    #   for name, score in scores.items()\n",
        "    # }\n",
        "    # v4\n",
        "    def get_grade(score):\n",
        "      if 90 <= score <= 100:\n",
        "        return 'A'\n",
        "      elif 80 <= score < 90:\n",
        "        return 'B'\n",
        "      elif 70 <= score < 80:\n",
        "        return 'C'\n",
        "      elif 60 <= score < 70:\n",
        "        return 'D'\n",
        "      else:\n",
        "        return 'F'\n",
        "\n",
        "    # Using `map` with a lambda to create the new dictionary\n",
        "    grades = dict(map(lambda item: (item[0], get_grade(item[1])), scores.items()))\n",
        "\n",
        "\n",
        "    # ABOVE GOES YOUR CODE\n",
        "\n",
        "    return {\"grades\": grades}\n",
        "\n",
        "# Run the exercise\n",
        "exercise_125()"
      ],
      "metadata": {
        "id": "rg9eu-Q7vK2g",
        "colab": {
          "base_uri": "https://localhost:8080/"
        },
        "outputId": "3207f35f-6d57-41b4-e9f2-9436243a9590"
      },
      "execution_count": null,
      "outputs": [
        {
          "output_type": "stream",
          "name": "stdout",
          "text": [
            "✅ Great job! Exercise completed successfully.\n"
          ]
        }
      ]
    },
    {
      "cell_type": "code",
      "source": [
        "# Given variables `hours`, `minutes`, and `seconds`, assign to the variable `time_of_day` \"Morning\" for 5:00-11:59, \"Afternoon\" for 12:00-16:59, \"Evening\" for 17:00-20:59, \"Night\" for 21:00-4:59\n",
        "@check_exercise_126\n",
        "def exercise_126(hours, minutes, seconds):\n",
        "    # This line is mandatory and should not be removed\n",
        "    ex_stat_init = True\n",
        "\n",
        "    # BELOW GOES YOUR CODE\n",
        "    if 5 <= hours <= 11:\n",
        "        time_of_day = \"Morning\"\n",
        "    elif 12 <= hours <= 16:\n",
        "        time_of_day = \"Afternoon\"\n",
        "    elif 17 <= hours <= 20:\n",
        "        time_of_day = \"Evening\"\n",
        "    else:\n",
        "        time_of_day = \"Night\"\n",
        "    # ABOVE GOES YOUR CODE\n",
        "\n",
        "    return {\"time_of_day\": time_of_day}\n",
        "\n",
        "# Run the exercise\n",
        "exercise_126()"
      ],
      "metadata": {
        "id": "nc3PWxgzvK0C",
        "colab": {
          "base_uri": "https://localhost:8080/"
        },
        "outputId": "fec6447c-05be-4773-c9ef-1ac1f24678ab"
      },
      "execution_count": null,
      "outputs": [
        {
          "output_type": "stream",
          "name": "stdout",
          "text": [
            "✅ Great job! Exercise completed successfully.\n"
          ]
        }
      ]
    },
    {
      "cell_type": "code",
      "source": [
        "# Given a list `numbers`, assign to the variable `description` \"Ascending\" if the list is in ascending order, \"Descending\" if in descending order, \"Unsorted\" otherwise\n",
        "@check_exercise_127\n",
        "def exercise_127(numbers):\n",
        "    # This line is mandatory and should not be removed\n",
        "    ex_stat_init = True\n",
        "\n",
        "    # BELOW GOES YOUR CODE\n",
        "    if numbers[0] <= numbers[1]:\n",
        "      description = \"Ascending\"\n",
        "    else: description = \"Descending\"\n",
        "    pnum = numbers[1]\n",
        "    for num in numbers[2:]:\n",
        "      if description ==\"Ascending\":\n",
        "        if pnum < num :\n",
        "          pnum = num\n",
        "        else :\n",
        "          description =\"Unsorted\"\n",
        "      else:\n",
        "        if pnum > num :\n",
        "          pnum = num\n",
        "        else :\n",
        "          description =\"Unsorted\"\n",
        "      # break;\n",
        "\n",
        "    # ABOVE GOES YOUR CODE\n",
        "\n",
        "    return {\"description\": description}\n",
        "\n",
        "# Run the exercise\n",
        "exercise_127()"
      ],
      "metadata": {
        "id": "Doz8-TU4vKxv",
        "colab": {
          "base_uri": "https://localhost:8080/"
        },
        "outputId": "e33a7ffa-3f67-427b-ecf0-9e3407caf4dc"
      },
      "execution_count": null,
      "outputs": [
        {
          "output_type": "stream",
          "name": "stdout",
          "text": [
            "✅ Great job! Exercise completed successfully.\n"
          ]
        }
      ]
    },
    {
      "cell_type": "code",
      "source": [
        "# Given variables `username` and `domain`, assign to the variable `valid_email` True if `username` contains only letters, numbers, dots, or underscores and `domain` ends with \".com\", \".org\", or \".edu\", False otherwise\n",
        "import re\n",
        "@check_exercise_128\n",
        "\n",
        "def exercise_128(username, domain):\n",
        "    # This line is mandatory and should not be removed\n",
        "    ex_stat_init = True\n",
        "\n",
        "    # BELOW GOES YOUR CODE\n",
        "    # valid_username = all(char.isalnum() or char in \"._\" for char in username)\n",
        "    valid_username = bool(re.fullmatch(r\"[a-zA-Z0-9._]+\", username))\n",
        "    valid_email =  valid_username and  domain.endswith((\".com\",\".org\",\".edu\"))\n",
        "    # ABOVE GOES YOUR CODE\n",
        "\n",
        "    return {\"valid_email\": valid_email}\n",
        "\n",
        "# Run the exercise\n",
        "exercise_128()"
      ],
      "metadata": {
        "id": "VO16B3Z_vKvD",
        "colab": {
          "base_uri": "https://localhost:8080/"
        },
        "outputId": "083d2a8e-7363-491f-fe99-18ed56bed3af"
      },
      "execution_count": null,
      "outputs": [
        {
          "output_type": "stream",
          "name": "stdout",
          "text": [
            "✅ Great job! Exercise completed successfully.\n"
          ]
        }
      ]
    },
    {
      "cell_type": "code",
      "source": [
        "# Given variables `sales_target`, `actual_sales`, `customer_satisfaction`, assign to the variable `bonus_percentage` 20% if sales target was met and satisfaction is above 4.5, 10% if either condition is true, 0% otherwise\n",
        "@check_exercise_129\n",
        "def exercise_129(sales_target, actual_sales, customer_satisfaction):\n",
        "    # This line is mandatory and should not be removed\n",
        "    ex_stat_init = True\n",
        "\n",
        "    # BELOW GOES YOUR CODE\n",
        "    match actual_sales:\n",
        "      case _ if sales_target <= actual_sales and customer_satisfaction >=4.5:\n",
        "        bonus_percentage = 20\n",
        "      case _ if sales_target <= actual_sales or customer_satisfaction >=4.5:\n",
        "        bonus_percentage = 10\n",
        "      case _:\n",
        "        bonus_percentage = 0\n",
        "\n",
        "    # ABOVE GOES YOUR CODE\n",
        "\n",
        "    return {\"bonus_percentage\": bonus_percentage}\n",
        "\n",
        "# Run the exercise\n",
        "exercise_129()"
      ],
      "metadata": {
        "id": "CgV19GDDvKsK",
        "colab": {
          "base_uri": "https://localhost:8080/"
        },
        "outputId": "0ea5eb48-4d3b-4d40-e0a9-9ad434e78873"
      },
      "execution_count": null,
      "outputs": [
        {
          "output_type": "stream",
          "name": "stdout",
          "text": [
            "✅ Great job! Exercise completed successfully.\n"
          ]
        }
      ]
    },
    {
      "cell_type": "code",
      "source": [
        "# Given a dictionary `stock` and a variable `item`, assign to the variable `item_price` the price of the item if it exists in the stock, \"Not available\" otherwise, using a ternary operator and the dictionary's get method\n",
        "@check_exercise_130\n",
        "def exercise_130(stock, item):\n",
        "    # This line is mandatory and should not be removed\n",
        "    ex_stat_init = True\n",
        "\n",
        "    # BELOW GOES YOUR CODE\n",
        "    item_price = stock.get(item, \"Not available\")\n",
        "    # ABOVE GOES YOUR CODE\n",
        "\n",
        "    return {\"item_price\": item_price}\n",
        "\n",
        "# Run the exercise\n",
        "exercise_130()"
      ],
      "metadata": {
        "id": "o67F2JEPvKnt",
        "colab": {
          "base_uri": "https://localhost:8080/"
        },
        "outputId": "07c6a4c7-8a53-4f0d-f603-efc715e63882"
      },
      "execution_count": null,
      "outputs": [
        {
          "output_type": "stream",
          "name": "stdout",
          "text": [
            "✅ Great job! Exercise completed successfully.\n"
          ]
        }
      ]
    },
    {
      "cell_type": "code",
      "source": [
        "# Given a list of version strings `versions` in \"X.Y.Z\" format, assign to the variable `all_stable` True if all versions have X greater than or equal to 1, False otherwise\n",
        "@check_exercise_131\n",
        "def exercise_131(versions):\n",
        "    # This line is mandatory and should not be removed\n",
        "    ex_stat_init = True\n",
        "\n",
        "    # BELOW GOES YOUR CODE\n",
        "    all_stable =  all(1 <= int(v.split(\".\")[0]) for v in versions)\n",
        "    # ABOVE GOES YOUR CODE\n",
        "\n",
        "    return {\"all_stable\": all_stable}\n",
        "\n",
        "# Run the exercise\n",
        "exercise_131()"
      ],
      "metadata": {
        "id": "nE1T22sOvKk-",
        "colab": {
          "base_uri": "https://localhost:8080/"
        },
        "outputId": "aa93c54e-5b9f-4504-8fad-503afda8f4f3"
      },
      "execution_count": null,
      "outputs": [
        {
          "output_type": "stream",
          "name": "stdout",
          "text": [
            "✅ Great job! Exercise completed successfully.\n"
          ]
        }
      ]
    },
    {
      "cell_type": "code",
      "source": [
        "# Given a list of numbers `values`, assign to the variable `signs` a new list where each number is replaced with \"positive\", \"negative\", or \"zero\"\n",
        "@check_exercise_132\n",
        "def exercise_132(values):\n",
        "    # This line is mandatory and should not be removed\n",
        "    ex_stat_init = True\n",
        "\n",
        "    # BELOW GOES YOUR CODE\n",
        "    signs =[]\n",
        "    for v in values:\n",
        "      if v >0 :\n",
        "        signs.append(\"positive\")\n",
        "      elif v == 0 :\n",
        "        signs.append(\"zero\")\n",
        "      else: signs.append (\"negative\")\n",
        "    # ABOVE GOES YOUR CODE\n",
        "\n",
        "    return {\"signs\": signs}\n",
        "\n",
        "# Run the exercise\n",
        "exercise_132()"
      ],
      "metadata": {
        "id": "mIwi86lVvKiW",
        "colab": {
          "base_uri": "https://localhost:8080/"
        },
        "outputId": "299e4bc5-f727-4a08-c650-fbd6caed2a4f"
      },
      "execution_count": null,
      "outputs": [
        {
          "output_type": "stream",
          "name": "stdout",
          "text": [
            "✅ Great job! Exercise completed successfully.\n"
          ]
        }
      ]
    },
    {
      "cell_type": "code",
      "source": [
        "# Given a variable `sentence`, assign to the variable `sentence_type` \"Question\" if it ends with \"?\", \"Exclamation\" if it ends with \"!\", \"Statement\" otherwise\n",
        "@check_exercise_133\n",
        "def exercise_133(sentence):\n",
        "    # This line is mandatory and should not be removed\n",
        "    ex_stat_init = True\n",
        "\n",
        "    # BELOW GOES YOUR CODE\n",
        "    match sentence[len(sentence)-1]:\n",
        "      case \"?\":\n",
        "        sentence_type= \"Question\"\n",
        "      case \"!\":\n",
        "        sentence_type = \"Exclamation\"\n",
        "      case _:\n",
        "        sentence_type = \"Statement\"\n",
        "    sentence_type\n",
        "    # ABOVE GOES YOUR CODE\n",
        "\n",
        "    return {\"sentence_type\": sentence_type}\n",
        "\n",
        "# Run the exercise\n",
        "exercise_133()"
      ],
      "metadata": {
        "id": "1B2TTv2rvKfe",
        "colab": {
          "base_uri": "https://localhost:8080/"
        },
        "outputId": "b097c269-f330-4088-e0c1-783df8feef2b"
      },
      "execution_count": null,
      "outputs": [
        {
          "output_type": "stream",
          "name": "stdout",
          "text": [
            "✅ Great job! Exercise completed successfully.\n"
          ]
        }
      ]
    },
    {
      "cell_type": "code",
      "source": [
        "# Given a date string `date_str` in \"YYYY-MM-DD\" format, assign to the variable `season` \"Winter\", \"Spring\", \"Summer\", or \"Fall\" based on the month\n",
        "@check_exercise_134\n",
        "def exercise_134(date_str):\n",
        "    # This line is mandatory and should not be removed\n",
        "    ex_stat_init = True\n",
        "\n",
        "    # BELOW GOES YOUR CODE\n",
        "    month = int(date_str.split(\"-\")[1])\n",
        "    match month:\n",
        "      case _ if (month == 12) or (month == 1) or (month == 2)   :\n",
        "        season = \"Winter\"\n",
        "      case _ if month in range(3,6):\n",
        "        season =\"Spring\"\n",
        "      case _ if month in range(6,9):\n",
        "        season = \"Summer\"\n",
        "      case _ if month in range(9,12):\n",
        "        season = \"Fall\"\n",
        "    # ABOVE GOES YOUR CODE\n",
        "\n",
        "    return {\"season\": season}\n",
        "\n",
        "# Run the exercise\n",
        "exercise_134()"
      ],
      "metadata": {
        "id": "3o8br6gAvKco",
        "colab": {
          "base_uri": "https://localhost:8080/"
        },
        "outputId": "454ddfbc-e4fc-4c60-8d18-6998db81c0da"
      },
      "execution_count": null,
      "outputs": [
        {
          "output_type": "stream",
          "name": "stdout",
          "text": [
            "✅ Great job! Exercise completed successfully.\n"
          ]
        }
      ]
    },
    {
      "cell_type": "code",
      "source": [
        "# Given three sets `A`, `B`, and `C`, assign to the variable `set_relation` \"Subset\" if A is a subset of B else \"Superset\" if C is a superset of B else \"Equal\" if A equals C else \"Disjoint\" if A and C are disjoint\n",
        "@check_exercise_135\n",
        "def exercise_135(A, B, C):\n",
        "    # This line is mandatory and should not be removed\n",
        "    ex_stat_init = True\n",
        "\n",
        "    if A.issubset(B):\n",
        "        set_relation = \"Subset\"\n",
        "    elif C.issuperset(B):\n",
        "        set_relation = \"Superset\"\n",
        "    elif A == C:\n",
        "        set_relation = \"Equal\"\n",
        "    elif A.isdisjoint(C):\n",
        "        set_relation = \"Disjoint\"\n",
        "    # ABOVE GOES YOUR CODE\n",
        "\n",
        "    return {\"set_relation\": set_relation}\n",
        "\n",
        "# Run the exercise\n",
        "exercise_135()"
      ],
      "metadata": {
        "id": "VelCq-iLvKaS",
        "colab": {
          "base_uri": "https://localhost:8080/"
        },
        "outputId": "db1fbb61-7e96-4ba5-b8ba-58cd4afc7946"
      },
      "execution_count": null,
      "outputs": [
        {
          "output_type": "stream",
          "name": "stdout",
          "text": [
            "✅ Great job! Exercise completed successfully.\n"
          ]
        }
      ]
    },
    {
      "cell_type": "code",
      "source": [
        "# Given a list of numbers `numbers`, create a new list `squared` containing the square of each number\n",
        "@check_exercise_136\n",
        "def exercise_136(numbers):\n",
        "    # This line is mandatory and should not be removed\n",
        "    ex_stat_init = True\n",
        "\n",
        "    # BELOW GOES YOUR CODE\n",
        "    squared = [ pow(n,2) for n in numbers]\n",
        "    # ABOVE GOES YOUR CODE\n",
        "\n",
        "    return {\"squared\": squared}\n",
        "\n",
        "# Run the exercise\n",
        "exercise_136()"
      ],
      "metadata": {
        "id": "XaellaCZvKXn",
        "colab": {
          "base_uri": "https://localhost:8080/"
        },
        "outputId": "2b2bb805-41ad-45d4-fbf8-91670dda1d1a"
      },
      "execution_count": null,
      "outputs": [
        {
          "output_type": "stream",
          "name": "stdout",
          "text": [
            "✅ Great job! Exercise completed successfully.\n"
          ]
        }
      ]
    },
    {
      "cell_type": "code",
      "source": [
        "# Given a number `n`, calculate its factorial using a while loop\n",
        "@check_exercise_137\n",
        "def exercise_137(n):\n",
        "    # This line is mandatory and should not be removed\n",
        "    ex_stat_init = True\n",
        "\n",
        "    # BELOW GOES YOUR CODE\n",
        "    # V1\n",
        "    # factorial = 1\n",
        "    # print(\"factorial 1 =\", factorial)\n",
        "    # for f in range(1,n+1):\n",
        "    #   factorial = factorial * f\n",
        "    # V2\n",
        "    import math\n",
        "    factorial = math.factorial(n)\n",
        "    # nu lucreaza\n",
        "    # factorial = int((factorial * f) for f in range(1,n+1))\n",
        "    # ABOVE GOES YOUR CODE\n",
        "\n",
        "    return {\"factorial\": factorial}\n",
        "\n",
        "# Run the exercise\n",
        "exercise_137()"
      ],
      "metadata": {
        "id": "Z1sRHXSwvKVM",
        "colab": {
          "base_uri": "https://localhost:8080/"
        },
        "outputId": "1dc0e8f6-93d8-4817-d025-e6b6701ad710"
      },
      "execution_count": null,
      "outputs": [
        {
          "output_type": "stream",
          "name": "stdout",
          "text": [
            "✅ Great job! Exercise completed successfully.\n"
          ]
        }
      ]
    },
    {
      "cell_type": "code",
      "source": [
        "# Given a number `n`, assign to the variable `output` a string with `n` lines, each containing `i` asterisks, where `i` ranges from 1 to `n` in the format \"*\\n**\\n***\\n\"\n",
        "@check_exercise_138\n",
        "def exercise_138(n):\n",
        "    # This line is mandatory and should not be removed\n",
        "    ex_stat_init = True\n",
        "\n",
        "    # BELOW GOES YOUR CODE\n",
        "    for i in range(1, n + 1):\n",
        "        output += '*' * i + '\\n'  # Add i asterisks and a newline\n",
        "    # ABOVE GOES YOUR CODE\n",
        "    return {\"output\": output}\n",
        "\n",
        "# Run the exercise\n",
        "exercise_138()"
      ],
      "metadata": {
        "id": "0j6J3alQvKSq",
        "colab": {
          "base_uri": "https://localhost:8080/"
        },
        "outputId": "26c8f95f-839b-4ade-d6d6-4558d5950075"
      },
      "execution_count": null,
      "outputs": [
        {
          "output_type": "stream",
          "name": "stdout",
          "text": [
            "❗ The implementation is incorrect or the exercise was not implemented.\n"
          ]
        }
      ]
    },
    {
      "cell_type": "code",
      "source": [
        "# Given a list of strings `words`, create a new list `indexed_words` where each element is a tuple of (index, word)\n",
        "@check_exercise_139\n",
        "def exercise_139(words):\n",
        "    # This line is mandatory and should not be removed\n",
        "    ex_stat_init = True\n",
        "\n",
        "    # BELOW GOES YOUR CODE\n",
        "\n",
        "    # ABOVE GOES YOUR CODE\n",
        "\n",
        "    return {\"indexed_words\": indexed_words}\n",
        "\n",
        "# Run the exercise\n",
        "exercise_139()"
      ],
      "metadata": {
        "id": "XxJrX_fSvKP7"
      },
      "execution_count": null,
      "outputs": []
    },
    {
      "cell_type": "code",
      "source": [
        "# Given two lists `names` and `ages`, create a dictionary `person_info` where names are keys and ages are values\n",
        "@check_exercise_140\n",
        "def exercise_140(names, ages):\n",
        "    # This line is mandatory and should not be removed\n",
        "    ex_stat_init = True\n",
        "\n",
        "    # BELOW GOES YOUR CODE\n",
        "\n",
        "    # ABOVE GOES YOUR CODE\n",
        "\n",
        "    return {\"person_info\": person_info}\n",
        "\n",
        "# Run the exercise\n",
        "exercise_140()"
      ],
      "metadata": {
        "id": "3tmf_3F4vKM2"
      },
      "execution_count": null,
      "outputs": []
    },
    {
      "cell_type": "code",
      "source": [
        "# Given a list of numbers `numbers`, create a new list `doubled` containing only the even numbers multiplied by 2\n",
        "@check_exercise_141\n",
        "def exercise_141(numbers):\n",
        "    # This line is mandatory and should not be removed\n",
        "    ex_stat_init = True\n",
        "\n",
        "    # BELOW GOES YOUR CODE\n",
        "\n",
        "    # ABOVE GOES YOUR CODE\n",
        "\n",
        "    return {\"doubled\": doubled}\n",
        "\n",
        "# Run the exercise\n",
        "exercise_141()"
      ],
      "metadata": {
        "id": "PJKjoMcNvKKS"
      },
      "execution_count": null,
      "outputs": []
    },
    {
      "cell_type": "code",
      "source": [
        "# Given a list of strings `words`, create a new list `long_words` containing all the words with more than 5 characters from the original list except for \"python\"\n",
        "@check_exercise_142\n",
        "def exercise_142(words):\n",
        "    # This line is mandatory and should not be removed\n",
        "    ex_stat_init = True\n",
        "\n",
        "    # BELOW GOES YOUR CODE\n",
        "\n",
        "    # ABOVE GOES YOUR CODE\n",
        "\n",
        "    return {\"long_words\": long_words}\n",
        "\n",
        "# Run the exercise\n",
        "exercise_142()"
      ],
      "metadata": {
        "id": "rU7UOMOJvKHt"
      },
      "execution_count": null,
      "outputs": []
    },
    {
      "cell_type": "code",
      "source": [
        "# Given a list of numbers `numbers`, assign to the variable `string_of_numbers` a string containing all the numbers greater than 100, separated by commas, or \"Not found\" if none are found\n",
        "@check_exercise_143\n",
        "def exercise_143(numbers):\n",
        "    # This line is mandatory and should not be removed\n",
        "    ex_stat_init = True\n",
        "\n",
        "    # BELOW GOES YOUR CODE\n",
        "\n",
        "    # ABOVE GOES YOUR CODE\n",
        "    return {\"string_of_numbers\": string_of_numbers}\n",
        "\n",
        "# Run the exercise\n",
        "exercise_143()"
      ],
      "metadata": {
        "id": "Y8Dh41oZvKFS"
      },
      "execution_count": null,
      "outputs": []
    },
    {
      "cell_type": "code",
      "source": [
        "# Given a list of numbers `numbers`, create a new list `positive_numbers` containing only the positive numbers\n",
        "@check_exercise_144\n",
        "def exercise_144(numbers):\n",
        "    # This line is mandatory and should not be removed\n",
        "    ex_stat_init = True\n",
        "\n",
        "    # BELOW GOES YOUR CODE\n",
        "\n",
        "    # ABOVE GOES YOUR CODE\n",
        "\n",
        "    return {\"positive_numbers\": positive_numbers}\n",
        "\n",
        "# Run the exercise\n",
        "exercise_144()"
      ],
      "metadata": {
        "id": "TDWPusiCvKCR"
      },
      "execution_count": null,
      "outputs": []
    },
    {
      "cell_type": "code",
      "source": [
        "# Assign all multiples of 5 from 5 to 50 (inclusive) using a for loop and range() to the variable `multiples_of_five`\n",
        "@check_exercise_145\n",
        "def exercise_145():\n",
        "    # This line is mandatory and should not be removed\n",
        "    ex_stat_init = True\n",
        "\n",
        "    # BELOW GOES YOUR CODE\n",
        "\n",
        "    # ABOVE GOES YOUR CODE\n",
        "\n",
        "    return {\"multiples_of_five\": multiples_of_five}\n",
        "\n",
        "# Run the exercise\n",
        "exercise_145()"
      ],
      "metadata": {
        "id": "czMcDFZpvJ_l"
      },
      "execution_count": null,
      "outputs": []
    },
    {
      "cell_type": "code",
      "source": [
        "# Given a list of numbers `numbers`, assign to the variable `sum_of_even` the sum of all even numbers in the list found till the first negative number\n",
        "@check_exercise_146\n",
        "def exercise_146(numbers):\n",
        "    # This line is mandatory and should not be removed\n",
        "    ex_stat_init = True\n",
        "\n",
        "    # BELOW GOES YOUR CODE\n",
        "\n",
        "    # ABOVE GOES YOUR CODE\n",
        "\n",
        "    return {\"sum_of_even\": sum_of_even}\n",
        "\n",
        "# Run the exercise\n",
        "exercise_146()"
      ],
      "metadata": {
        "id": "Bz4aZq6Tw7n2"
      },
      "execution_count": null,
      "outputs": []
    },
    {
      "cell_type": "code",
      "source": [
        "# Given a 2D list `matrix`, calculate and assign the sum of each row to a new list `row_sums`\n",
        "@check_exercise_147\n",
        "def exercise_147(matrix):\n",
        "    # This line is mandatory and should not be removed\n",
        "    ex_stat_init = True\n",
        "\n",
        "    # BELOW GOES YOUR CODE\n",
        "\n",
        "    # ABOVE GOES YOUR CODE\n",
        "\n",
        "    return {\"row_sums\": row_sums}\n",
        "\n",
        "# Run the exercise\n",
        "exercise_147()"
      ],
      "metadata": {
        "id": "XYuz3sTPw7WW"
      },
      "execution_count": null,
      "outputs": []
    },
    {
      "cell_type": "code",
      "source": [
        "# Given three lists `names`, `ages`, and `cities`, create a list of dictionaries `people` where each dictionary contains the name, age, and city of a person\n",
        "@check_exercise_148\n",
        "def exercise_148(names, ages, cities):\n",
        "    # This line is mandatory and should not be removed\n",
        "    ex_stat_init = True\n",
        "\n",
        "    # BELOW GOES YOUR CODE\n",
        "\n",
        "    # ABOVE GOES YOUR CODE\n",
        "\n",
        "    return {\"people\": people}\n",
        "\n",
        "# Run the exercise\n",
        "exercise_148()"
      ],
      "metadata": {
        "id": "DsymEpPSw7TV"
      },
      "execution_count": null,
      "outputs": []
    },
    {
      "cell_type": "code",
      "source": [
        "# Create 2D list of a 5x5 multiplication table named `multiplication_table`, but skip the multiplication step when either number is 3 and assign 0 instead\n",
        "@check_exercise_149\n",
        "def exercise_149():\n",
        "    # This line is mandatory and should not be removed\n",
        "    ex_stat_init = True\n",
        "\n",
        "    # BELOW GOES YOUR CODE\n",
        "\n",
        "    # ABOVE GOES YOUR CODE\n",
        "\n",
        "    return {\"multiplication_table\": multiplication_table}\n",
        "\n",
        "# Run the exercise\n",
        "exercise_149()"
      ],
      "metadata": {
        "id": "Lvb5Tn8Xw7QZ"
      },
      "execution_count": null,
      "outputs": []
    },
    {
      "cell_type": "code",
      "source": [
        "# Given a 2D list `matrix`, find and assign the first negative number to the variable `value`, or 0 if no negative number is found\n",
        "@check_exercise_150\n",
        "def exercise_150(matrix):\n",
        "    # This line is mandatory and should not be removed\n",
        "    ex_stat_init = True\n",
        "\n",
        "    # BELOW GOES YOUR CODE\n",
        "\n",
        "    # ABOVE GOES YOUR CODE\n",
        "\n",
        "    return {\"value\": value}\n",
        "\n",
        "# Run the exercise\n",
        "exercise_150()"
      ],
      "metadata": {
        "id": "G5522yt0w7N2"
      },
      "execution_count": null,
      "outputs": []
    },
    {
      "cell_type": "code",
      "source": [
        "# Given a dictionary `inventory` with item names as keys and quantities as values, create a new dictionary `low_stock` containing only items with quantities less than 10\n",
        "@check_exercise_151\n",
        "def exercise_151(inventory):\n",
        "    # This line is mandatory and should not be removed\n",
        "    ex_stat_init = True\n",
        "\n",
        "    # BELOW GOES YOUR CODE\n",
        "\n",
        "    # ABOVE GOES YOUR CODE\n",
        "\n",
        "    return {\"low_stock\": low_stock}\n",
        "\n",
        "# Run the exercise\n",
        "exercise_151()"
      ],
      "metadata": {
        "id": "Tp6GIIBvw7LQ"
      },
      "execution_count": null,
      "outputs": []
    },
    {
      "cell_type": "code",
      "source": [
        "# Given a list of numbers `numbers`, replace each number with the sum of itself and the next number (the last number should remain unchanged)\n",
        "@check_exercise_152\n",
        "def exercise_152(numbers):\n",
        "    # This line is mandatory and should not be removed\n",
        "    ex_stat_init = True\n",
        "\n",
        "    # BELOW GOES YOUR CODE\n",
        "\n",
        "    # ABOVE GOES YOUR CODE\n",
        "\n",
        "    return {\"numbers\": numbers}\n",
        "\n",
        "# Run the exercise\n",
        "exercise_152()"
      ],
      "metadata": {
        "id": "2x55VR_Ew7Gh"
      },
      "execution_count": null,
      "outputs": []
    },
    {
      "cell_type": "code",
      "source": [
        "# Given a number `n`, assign all prime numbers less than n to the list `primes`\n",
        "@check_exercise_153\n",
        "def exercise_153(n):\n",
        "    # This line is mandatory and should not be removed\n",
        "    ex_stat_init = True\n",
        "\n",
        "    # BELOW GOES YOUR CODE\n",
        "\n",
        "    # ABOVE GOES YOUR CODE\n",
        "\n",
        "    return {\"primes\": primes}\n",
        "\n",
        "# Run the exercise\n",
        "exercise_153()"
      ],
      "metadata": {
        "id": "cNMMLPcEw7EU"
      },
      "execution_count": null,
      "outputs": []
    },
    {
      "cell_type": "code",
      "source": [
        "# Given a positive integer `n`, assign its binary representation as a string to the variable `binary`\n",
        "@check_exercise_154\n",
        "def exercise_154(n):\n",
        "    # This line is mandatory and should not be removed\n",
        "    ex_stat_init = True\n",
        "\n",
        "    # BELOW GOES YOUR CODE\n",
        "\n",
        "    # ABOVE GOES YOUR CODE\n",
        "\n",
        "    return {\"binary\": binary}\n",
        "\n",
        "# Run the exercise\n",
        "exercise_154()"
      ],
      "metadata": {
        "id": "RFUFeo4Qw7Bu"
      },
      "execution_count": null,
      "outputs": []
    },
    {
      "cell_type": "code",
      "source": [
        "# Given a string `text`, create a new string named `processed`where every second character is replaced with '_'\n",
        "@check_exercise_155\n",
        "def exercise_155(text):\n",
        "    # This line is mandatory and should not be removed\n",
        "    ex_stat_init = True\n",
        "\n",
        "    # BELOW GOES YOUR CODE\n",
        "\n",
        "    # ABOVE GOES YOUR CODE\n",
        "\n",
        "    return {\"processed\": processed}\n",
        "\n",
        "# Run the exercise\n",
        "exercise_155()"
      ],
      "metadata": {
        "id": "Q8pcwCVYw6-4"
      },
      "execution_count": null,
      "outputs": []
    },
    {
      "cell_type": "code",
      "source": [
        "# Given two lists of numbers `list1` and `list2`, create a new list containing the larger number for each index between the two lists\n",
        "@check_exercise_156\n",
        "def exercise_156(list1, list2):\n",
        "    # This line is mandatory and should not be removed\n",
        "    ex_stat_init = True\n",
        "\n",
        "    # BELOW GOES YOUR CODE\n",
        "\n",
        "    # ABOVE GOES YOUR CODE\n",
        "\n",
        "    return {\"larger_numbers\": larger_numbers}\n",
        "\n",
        "# Run the exercise\n",
        "exercise_156()"
      ],
      "metadata": {
        "id": "onIdOO5dw631"
      },
      "execution_count": null,
      "outputs": []
    },
    {
      "cell_type": "code",
      "source": [
        "# Given a 3D list `matrix`, assign to the variable `flattened` a new list containing all the elements of the matrix in a single dimension\n",
        "@check_exercise_157\n",
        "def exercise_157(matrix):\n",
        "    # This line is mandatory and should not be removed\n",
        "    ex_stat_init = True\n",
        "\n",
        "    # BELOW GOES YOUR CODE\n",
        "\n",
        "    # ABOVE GOES YOUR CODE\n",
        "\n",
        "    return {\"flattened\": flattened}\n",
        "\n",
        "# Run the exercise\n",
        "exercise_157()"
      ],
      "metadata": {
        "id": "yKwrN_0-w61T"
      },
      "execution_count": null,
      "outputs": []
    },
    {
      "cell_type": "code",
      "source": [
        "# Given a 3D list `matrix` and `target`, assign to the tuple `indexes` the indices of the target element in the matrix, or (-1, -1, -1) if not found\n",
        "@check_exercise_158\n",
        "def exercise_158(matrix, target):\n",
        "    # This line is mandatory and should not be removed\n",
        "    ex_stat_init = True\n",
        "\n",
        "    # BELOW GOES YOUR CODE\n",
        "\n",
        "    # ABOVE GOES YOUR CODE\n",
        "\n",
        "    return {\"indexes\": indexes}\n",
        "\n",
        "# Run the exercise\n",
        "exercise_158()"
      ],
      "metadata": {
        "id": "5dWSaNx5w6yv"
      },
      "execution_count": null,
      "outputs": []
    },
    {
      "cell_type": "code",
      "source": [
        "# Given a dictionary `school` where keys are subject names and values are dictionaries with keys are student names and values are grades, assign to the variable `average_grades` a new dictionary with subject names as keys and average grades on the subject as values\n",
        "@check_exercise_159\n",
        "def exercise_159(school):\n",
        "    # This line is mandatory and should not be removed\n",
        "    ex_stat_init = True\n",
        "\n",
        "    # BELOW GOES YOUR CODE\n",
        "\n",
        "    # ABOVE GOES YOUR CODE\n",
        "\n",
        "    return {\"average_grades\": average_grades}\n",
        "\n",
        "# Run the exercise\n",
        "exercise_159()"
      ],
      "metadata": {
        "id": "Y07wBQ3yw6wU"
      },
      "execution_count": null,
      "outputs": []
    },
    {
      "cell_type": "code",
      "source": [
        "# Given a list of numbers `numbers`, create a new list `sums` where each element is the sum of the current and the next two elements in the original list (the last two elements should use 0 for missing values)\n",
        "@check_exercise_160\n",
        "def exercise_160(numbers):\n",
        "    # This line is mandatory and should not be removed\n",
        "    ex_stat_init = True\n",
        "\n",
        "    # BELOW GOES YOUR CODE\n",
        "\n",
        "    # ABOVE GOES YOUR CODE\n",
        "\n",
        "    return {\"sums\": sums}\n",
        "\n",
        "# Run the exercise\n",
        "exercise_160()"
      ],
      "metadata": {
        "id": "uzMXbpFRw6to"
      },
      "execution_count": null,
      "outputs": []
    },
    {
      "cell_type": "code",
      "source": [
        "# Given two lists `x_coords` and `y_coords` and `accepted_coordinates`, assign all possible coordinate pairs (x, y) to the list `coordinates` where x is from `x_coords`, y is from `y_coords`, and the pair is in `accepted_coordinates`\n",
        "@check_exercise_161\n",
        "def exercise_161(x_coords, y_coords, accepted_coordinates):\n",
        "    # This line is mandatory and should not be removed\n",
        "    ex_stat_init = True\n",
        "\n",
        "    # BELOW GOES YOUR CODE\n",
        "\n",
        "    # ABOVE GOES YOUR CODE\n",
        "\n",
        "    return {\"coordinates\": coordinates}\n",
        "\n",
        "# Run the exercise\n",
        "exercise_161()"
      ],
      "metadata": {
        "id": "rvNVhvC4w6rO"
      },
      "execution_count": null,
      "outputs": []
    },
    {
      "cell_type": "code",
      "source": [
        "# Given a list `items` and a number `k`, create a new list named `rotated` where the elements are rotated k positions to the right\n",
        "@check_exercise_162\n",
        "def exercise_162(items, k):\n",
        "    # This line is mandatory and should not be removed\n",
        "    ex_stat_init = True\n",
        "\n",
        "    # BELOW GOES YOUR CODE\n",
        "\n",
        "    # ABOVE GOES YOUR CODE\n",
        "\n",
        "    return {\"rotated\": rotated}\n",
        "\n",
        "# Run the exercise\n",
        "exercise_162()"
      ],
      "metadata": {
        "id": "jaA8EwTHw6o6"
      },
      "execution_count": null,
      "outputs": []
    },
    {
      "cell_type": "code",
      "source": [
        "# Given three lists `keys`, `values`, and `defaults`, create a dictionary `merged` where keys are from `keys`, values are from `values` if available, otherwise from `defaults`\n",
        "@check_exercise_163\n",
        "def exercise_163(keys, values, defaults):\n",
        "    # This line is mandatory and should not be removed\n",
        "    ex_stat_init = True\n",
        "\n",
        "    # BELOW GOES YOUR CODE\n",
        "\n",
        "    # ABOVE GOES YOUR CODE\n",
        "\n",
        "    return {\"merged\": merged}\n",
        "\n",
        "# Run the exercise\n",
        "exercise_163()"
      ],
      "metadata": {
        "id": "E3Kq4qcdw6mJ"
      },
      "execution_count": null,
      "outputs": []
    },
    {
      "cell_type": "code",
      "source": [
        "# Given a list of strings `data`, create a new list named `lowercase` with all strings converted to lowercase, skipping any string that's shorter than 3 characters\n",
        "@check_exercise_164\n",
        "def exercise_164(data):\n",
        "    # This line is mandatory and should not be removed\n",
        "    ex_stat_init = True\n",
        "\n",
        "    # BELOW GOES YOUR CODE\n",
        "\n",
        "    # ABOVE GOES YOUR CODE\n",
        "\n",
        "    return {\"lowercase\": lowercase}\n",
        "\n",
        "# Run the exercise\n",
        "exercise_164()"
      ],
      "metadata": {
        "id": "PgNqpwKXw6ja"
      },
      "execution_count": null,
      "outputs": []
    },
    {
      "cell_type": "code",
      "source": [
        "# Given a list of numbers `numbers`, find and assign the first pair of numbers that sum to 100 to the variables `num1` and `num2`, or 0 if no such pair exists\n",
        "@check_exercise_165\n",
        "def exercise_165(numbers):\n",
        "    # This line is mandatory and should not be removed\n",
        "    ex_stat_init = True\n",
        "\n",
        "    # BELOW GOES YOUR CODE\n",
        "\n",
        "    # ABOVE GOES YOUR CODE\n",
        "    return {\"num1\": num1, \"num2\": num2}\n",
        "\n",
        "# Run the exercise\n",
        "exercise_165()"
      ],
      "metadata": {
        "id": "AFTnwal_xRwE"
      },
      "execution_count": null,
      "outputs": []
    },
    {
      "cell_type": "code",
      "source": [
        "# Given the value `n`, assign all numbers that are not multiples of 3 or 17 to the list `others` until the list reaches `n` elements\n",
        "@check_exercise_166\n",
        "def exercise_166(n):\n",
        "    # This line is mandatory and should not be removed\n",
        "    ex_stat_init = True\n",
        "\n",
        "    # BELOW GOES YOUR CODE\n",
        "\n",
        "    # ABOVE GOES YOUR CODE\n",
        "    return {\"others\": others}\n",
        "\n",
        "# Run the exercise\n",
        "exercise_166()"
      ],
      "metadata": {
        "id": "CknVgE8SxRto"
      },
      "execution_count": null,
      "outputs": []
    },
    {
      "cell_type": "code",
      "source": [
        "# Given a number `n`, assign its prime factors in ascending order to the list `factors` if any, or assign an empty list if it's a prime number\n",
        "@check_exercise_167\n",
        "def exercise_167(n):\n",
        "    # This line is mandatory and should not be removed\n",
        "    ex_stat_init = True\n",
        "\n",
        "    # BELOW GOES YOUR CODE\n",
        "\n",
        "    # ABOVE GOES YOUR CODE\n",
        "    return {\"factors\": factors}\n",
        "\n",
        "# Run the exercise\n",
        "exercise_167()"
      ],
      "metadata": {
        "id": "odTmEvzPxRi8"
      },
      "execution_count": null,
      "outputs": []
    },
    {
      "cell_type": "code",
      "source": [
        "# Given a list of numbers `numbers`, calculate the sum of all positive numbers and the product of all negative numbers and assign them to the variables `sum_pos` and `prod_neg`\n",
        "@check_exercise_168\n",
        "def exercise_168(numbers):\n",
        "    # This line is mandatory and should not be removed\n",
        "    ex_stat_init = True\n",
        "\n",
        "    # BELOW GOES YOUR CODE\n",
        "\n",
        "    # ABOVE GOES YOUR CODE\n",
        "\n",
        "    return {\"sum_pos\": sum_pos, \"prod_neg\": prod_neg}\n",
        "\n",
        "# Run the exercise\n",
        "exercise_168()"
      ],
      "metadata": {
        "id": "cYu6URUXxRgQ"
      },
      "execution_count": null,
      "outputs": []
    },
    {
      "cell_type": "code",
      "source": [
        "# Given a string `binary_number`, convert it to a deciaml integer and assign it to the variable `decimal_number`\n",
        "@check_exercise_169\n",
        "def exercise_169(binary_number):\n",
        "    # This line is mandatory and should not be removed\n",
        "    ex_stat_init = True\n",
        "\n",
        "    # BELOW GOES YOUR CODE\n",
        "\n",
        "    # ABOVE GOES YOUR CODE\n",
        "\n",
        "    return {\"decimal_number\": decimal_number}\n",
        "\n",
        "# Run the exercise\n",
        "exercise_169()"
      ],
      "metadata": {
        "id": "ChPJzf8jxRdW"
      },
      "execution_count": null,
      "outputs": []
    },
    {
      "cell_type": "code",
      "source": [
        "# Given a 2D list `matrix`, assign to the variable `diagonal` a new list containing the diagonal elements of the matrix\n",
        "@check_exercise_170\n",
        "def exercise_170(matrix):\n",
        "    # This line is mandatory and should not be removed\n",
        "    ex_stat_init = True\n",
        "\n",
        "    # BELOW GOES YOUR CODE\n",
        "\n",
        "    # ABOVE GOES YOUR CODE\n",
        "\n",
        "    return {\"diagonal\": diagonal}\n",
        "\n",
        "# Run the exercise\n",
        "exercise_170()"
      ],
      "metadata": {
        "id": "KVyV6mg2xRTU"
      },
      "execution_count": null,
      "outputs": []
    },
    {
      "cell_type": "code",
      "source": [
        "# Given a 2D list `matrix`, assign to the variable `transpose` a new list containing the transpose of the matrix\n",
        "@check_exercise_171\n",
        "def exercise_171(matrix):\n",
        "    # This line is mandatory and should not be removed\n",
        "    ex_stat_init = True\n",
        "\n",
        "    # BELOW GOES YOUR CODE\n",
        "\n",
        "    # ABOVE GOES YOUR CODE\n",
        "\n",
        "    return {\"transpose\": transpose}\n",
        "\n",
        "# Run the exercise\n",
        "exercise_171()"
      ],
      "metadata": {
        "id": "Ad3QFaqnxRQz"
      },
      "execution_count": null,
      "outputs": []
    },
    {
      "cell_type": "code",
      "source": [
        "# Given a string `text`, count the number of words (assuming words are separated by spaces), ignoring any \"stop words\" (\"the\", \"a\", \"an\") and assign the count to the variable `word_count`\n",
        "@check_exercise_172\n",
        "def exercise_172(text):\n",
        "    # This line is mandatory and should not be removed\n",
        "    ex_stat_init = True\n",
        "\n",
        "    # BELOW GOES YOUR CODE\n",
        "\n",
        "    # ABOVE GOES YOUR CODE\n",
        "\n",
        "    return {\"word_count\": word_count}\n",
        "\n",
        "# Run the exercise\n",
        "exercise_172()"
      ],
      "metadata": {
        "id": "2PJ2ebtVxRN-"
      },
      "execution_count": null,
      "outputs": []
    },
    {
      "cell_type": "code",
      "source": [
        "# Given a list of strings `words` and a target string `target`, assign the index of the first occurrence of the target in the list, or -1 if it's not found\n",
        "@check_exercise_173\n",
        "def exercise_173(words, target):\n",
        "    # This line is mandatory and should not be removed\n",
        "    ex_stat_init = True\n",
        "\n",
        "    # BELOW GOES YOUR CODE\n",
        "\n",
        "    # ABOVE GOES YOUR CODE\n",
        "\n",
        "    return {\"index\": index}\n",
        "\n",
        "# Run the exercise\n",
        "exercise_173()"
      ],
      "metadata": {
        "id": "gFsyuT_2xRCT"
      },
      "execution_count": null,
      "outputs": []
    },
    {
      "cell_type": "code",
      "source": [
        "# Given a dictionary `prices` with item names as keys and prices as values, increase all prices by 10% and round to 2 decimal places\n",
        "@check_exercise_174\n",
        "def exercise_174(prices):\n",
        "    # This line is mandatory and should not be removed\n",
        "    ex_stat_init = True\n",
        "\n",
        "    # BELOW GOES YOUR CODE\n",
        "\n",
        "    # ABOVE GOES YOUR CODE\n",
        "\n",
        "    return {\"updated_prices\": updated_prices}\n",
        "\n",
        "# Run the exercise\n",
        "exercise_174()"
      ],
      "metadata": {
        "id": "LJYWFs3bxQ81"
      },
      "execution_count": null,
      "outputs": []
    },
    {
      "cell_type": "code",
      "source": [
        "# Given a list of numbers `numbers`, create a new list `numeros` where each element is the absolute difference between the current and the next number in the list\n",
        "@check_exercise_175\n",
        "def exercise_175(numbers):\n",
        "    # This line is mandatory and should not be removed\n",
        "    ex_stat_init = True\n",
        "\n",
        "    # BELOW GOES YOUR CODE\n",
        "\n",
        "    # ABOVE GOES YOUR CODE\n",
        "\n",
        "    return {\"numeros\": numeros}\n",
        "\n",
        "# Run the exercise\n",
        "exercise_175()"
      ],
      "metadata": {
        "id": "5EFI-JzQxQ6Q"
      },
      "execution_count": null,
      "outputs": []
    },
    {
      "cell_type": "code",
      "source": [
        "# Given the variable `n`, assign to the list `triangle` the first n triangular numbers (1, 3, 6, 10, 15, ...)\n",
        "@check_exercise_176\n",
        "def exercise_176(n):\n",
        "    # This line is mandatory and should not be removed\n",
        "    ex_stat_init = True\n",
        "\n",
        "    # BELOW GOES YOUR CODE\n",
        "\n",
        "    # ABOVE GOES YOUR CODE\n",
        "\n",
        "    return {\"triangle\": triangle}\n",
        "\n",
        "# Run the exercise\n",
        "exercise_176()"
      ],
      "metadata": {
        "id": "NCi7YofUxQ27"
      },
      "execution_count": null,
      "outputs": []
    },
    {
      "cell_type": "code",
      "source": [
        "# Given a list of numbers `numbers`, create a new list `averages` where each element is the running average of all previous elements (including itself)\n",
        "@check_exercise_177\n",
        "def exercise_177(numbers):\n",
        "    # This line is mandatory and should not be removed\n",
        "    ex_stat_init = True\n",
        "\n",
        "    # BELOW GOES YOUR CODE\n",
        "\n",
        "    # ABOVE GOES YOUR CODE\n",
        "\n",
        "    return {\"averages\": averages}\n",
        "\n",
        "# Run the exercise\n",
        "exercise_177()"
      ],
      "metadata": {
        "id": "Xv4geBFgxQz_"
      },
      "execution_count": null,
      "outputs": []
    },
    {
      "cell_type": "code",
      "source": [
        "# Given a list of passwords `passwords`, assign only the \"strong\" passwords (at least 8 characters, containing uppercase, lowercase, digit, and special character) to the list `strong_passwords`\n",
        "@check_exercise_178\n",
        "def exercise_178(passwords):\n",
        "    # This line is mandatory and should not be removed\n",
        "    ex_stat_init = True\n",
        "\n",
        "    # BELOW GOES YOUR CODE\n",
        "\n",
        "    # ABOVE GOES YOUR CODE\n",
        "\n",
        "    return {\"strong_passwords\": strong_passwords}\n",
        "\n",
        "# Run the exercise\n",
        "exercise_178()"
      ],
      "metadata": {
        "id": "8qf7U7oyxQxa"
      },
      "execution_count": null,
      "outputs": []
    },
    {
      "cell_type": "code",
      "source": [
        "# Given a dictionary `switcher`, create a new dictionary `inverted` where keys and values are swapped\n",
        "@check_exercise_179\n",
        "def exercise_179(switcher):\n",
        "    # This line is mandatory and should not be removed\n",
        "    ex_stat_init = True\n",
        "\n",
        "    # BELOW GOES YOUR CODE\n",
        "\n",
        "    # ABOVE GOES YOUR CODE\n",
        "\n",
        "    return {\"inverted\": inverted}\n",
        "\n",
        "# Run the exercise\n",
        "exercise_179()"
      ],
      "metadata": {
        "id": "a04AHHGdxQuo"
      },
      "execution_count": null,
      "outputs": []
    },
    {
      "cell_type": "code",
      "source": [
        "# Given a list of numbers `numbers` and a window size `k`, compute and assign the moving averages of the numbers in the list with the given window size to the list `averages`\n",
        "@check_exercise_180\n",
        "def exercise_180(numbers, k):\n",
        "    # This line is mandatory and should not be removed\n",
        "    ex_stat_init = True\n",
        "\n",
        "    # BELOW GOES YOUR CODE\n",
        "\n",
        "    # ABOVE GOES YOUR CODE\n",
        "    return {\"averages\": averages}\n",
        "\n",
        "# Run the exercise\n",
        "exercise_180()"
      ],
      "metadata": {
        "id": "j-FGaUWIxQrw"
      },
      "execution_count": null,
      "outputs": []
    },
    {
      "cell_type": "code",
      "source": [
        "# Given the variable `n` generate the first n terms of the sequence defined by a(n) = a(n-1) + a(n-2) + a(n-3), with a(0) = a(1) = a(2) = 1\n",
        "@check_exercise_181\n",
        "def exercise_181(n):\n",
        "    # This line is mandatory and should not be removed\n",
        "    ex_stat_init = True\n",
        "\n",
        "    # BELOW GOES YOUR CODE\n",
        "\n",
        "    # ABOVE GOES YOUR CODE\n",
        "\n",
        "    return {\"sequence\": sequence}\n",
        "\n",
        "# Run the exercise\n",
        "exercise_181()"
      ],
      "metadata": {
        "id": "HSKCN4WbxQpC"
      },
      "execution_count": null,
      "outputs": []
    },
    {
      "cell_type": "code",
      "source": [
        "# Given a dictionary `sales` where keys are product names and values are lists of daily sales, create a new dictionary with total sales for each product\n",
        "@check_exercise_183\n",
        "def exercise_183(sales):\n",
        "    # This line is mandatory and should not be removed\n",
        "    ex_stat_init = True\n",
        "\n",
        "    # BELOW GOES YOUR CODE\n",
        "\n",
        "    # ABOVE GOES YOUR CODE\n",
        "\n",
        "    return {\"total_sales\": total_sales}\n",
        "\n",
        "# Run the exercise\n",
        "exercise_183()"
      ],
      "metadata": {
        "id": "2ekKNzj2xQmW"
      },
      "execution_count": null,
      "outputs": []
    },
    {
      "cell_type": "code",
      "source": [
        "# Given a list of strings `words`, sort the list based on the number of distinct characters in each word (in descending order)\n",
        "@check_exercise_184\n",
        "def exercise_184(words):\n",
        "    # This line is mandatory and should not be removed\n",
        "    ex_stat_init = True\n",
        "\n",
        "    # BELOW GOES YOUR CODE\n",
        "\n",
        "    # ABOVE GOES YOUR CODE\n",
        "    return {\"words\": words}\n",
        "\n",
        "# Run the exercise\n",
        "exercise_184()"
      ],
      "metadata": {
        "id": "66tK6f_2xQj0"
      },
      "execution_count": null,
      "outputs": []
    },
    {
      "cell_type": "code",
      "source": [
        "# Given a list of numbers `numbers`, assign to the variable `max_diff` the maximum difference between any two elements in the list\n",
        "@check_exercise_185\n",
        "def exercise_185(numbers):\n",
        "    # This line is mandatory and should not be removed\n",
        "    ex_stat_init = True\n",
        "\n",
        "    # BELOW GOES YOUR CODE\n",
        "\n",
        "    # ABOVE GOES YOUR CODE\n",
        "\n",
        "    return {\"max_diff\": max_diff}\n",
        "\n",
        "# Run the exercise\n",
        "exercise_185()"
      ],
      "metadata": {
        "id": "mforljB5xQhU"
      },
      "execution_count": null,
      "outputs": []
    },
    {
      "cell_type": "code",
      "source": [
        "# Given the string variables `number`, try to convert it to an integer and assign it to the variable `integer`, or assign -1 if it's not possible\n",
        "@check_exercise_186\n",
        "def exercise_186(number):\n",
        "    # This line is mandatory and should not be removed\n",
        "    ex_stat_init = True\n",
        "\n",
        "    # BELOW GOES YOUR CODE\n",
        "\n",
        "    # ABOVE GOES YOUR CODE\n",
        "\n",
        "    return {\"integer\": integer}\n",
        "\n",
        "# Run the exercise\n",
        "exercise_186()"
      ],
      "metadata": {
        "id": "_QGy-axJxQar"
      },
      "execution_count": null,
      "outputs": []
    },
    {
      "cell_type": "code",
      "source": [
        "# Given the variables `n` and `m`, assign to the variable `division_value` the result of dividing n by m, or -1 if the variables are not numeric or the division is not possible\n",
        "@check_exercise_187\n",
        "def exercise_187(n, m):\n",
        "    # This line is mandatory and should not be removed\n",
        "    ex_stat_init = True\n",
        "\n",
        "    # BELOW GOES YOUR CODE\n",
        "\n",
        "    # ABOVE GOES YOUR CODE\n",
        "\n",
        "    return {\"division_value\": division_value}\n",
        "\n",
        "# Run the exercise\n",
        "exercise_187()"
      ],
      "metadata": {
        "id": "QHJ0Z2h3xQYF"
      },
      "execution_count": null,
      "outputs": []
    },
    {
      "cell_type": "code",
      "source": [
        "# Given a frozen set `fset`, try to add the number 5 to it and assign the result to the variable `updated_fset`, or assign an empty set if it's not possible\n",
        "@check_exercise_188\n",
        "def exercise_188(fset):\n",
        "    # This line is mandatory and should not be removed\n",
        "    ex_stat_init = True\n",
        "\n",
        "    # BELOW GOES YOUR CODE\n",
        "\n",
        "    # ABOVE GOES YOUR CODE\n",
        "\n",
        "    return {\"updated_fset\": updated_fset}\n",
        "\n",
        "# Run the exercise\n",
        "exercise_188()"
      ],
      "metadata": {
        "id": "GHfCPkTmxQV1"
      },
      "execution_count": null,
      "outputs": []
    },
    {
      "cell_type": "code",
      "source": [
        "# Given a variable `x` use a try/except block to assign \"positive\" to the variable `number_status` if `x` is positive and \"negative\" if `x` is negative, handling the `AssertionError` with the message \"another error\".\n",
        "@check_exercise_189\n",
        "def exercise_189(x):\n",
        "    # This line is mandatory and should not be removed\n",
        "    ex_stat_init = True\n",
        "\n",
        "    # BELOW GOES YOUR CODE\n",
        "\n",
        "    # ABOVE GOES YOUR CODE\n",
        "\n",
        "    return {\"number_status\": number_status}\n",
        "\n",
        "# Run the exercise\n",
        "exercise_189()"
      ],
      "metadata": {
        "id": "QYkgCh50xQTP"
      },
      "execution_count": null,
      "outputs": []
    },
    {
      "cell_type": "code",
      "source": [
        "# Given a list of numbers `numbers`, assign to the variable `sum_of_squares` the sum of the squares of all numbers, handling any `TypeError` with the message \"invalid type\" and any other exception with the message \"unknown error\", and always assigning -1 to the variable `finalized`\n",
        "@check_exercise_190\n",
        "def exercise_190(numbers):\n",
        "    # This line is mandatory and should not be removed\n",
        "    ex_stat_init = True\n",
        "\n",
        "    # BELOW GOES YOUR CODE\n",
        "\n",
        "    # ABOVE GOES YOUR CODE\n",
        "    return {\"sum_of_squares\": sum_of_squares, \"finalized\": finalized}\n",
        "\n",
        "# Run the exercise\n",
        "exercise_190()"
      ],
      "metadata": {
        "id": "oxBCUB_SxQQc"
      },
      "execution_count": null,
      "outputs": []
    },
    {
      "cell_type": "code",
      "source": [
        "# Create a function named `multiply` that takes two numbers `a` and `b` as parameters and returns their product.\n",
        "@check_exercise_191\n",
        "def exercise_191():\n",
        "    # This line is mandatory and should not be removed\n",
        "    ex_stat_init = True\n",
        "\n",
        "    # BELOW GOES YOUR CODE\n",
        "\n",
        "    # ABOVE GOES YOUR CODE\n",
        "    return {'multiply': multiply}\n",
        "\n",
        "# Run the exercise\n",
        "exercise_191()"
      ],
      "metadata": {
        "id": "ZLVTdn1yxQLv"
      },
      "execution_count": null,
      "outputs": []
    },
    {
      "cell_type": "code",
      "source": [
        "# Create a function named `is_even` that takes a number `n` as a parameter and returns True if the number is even, otherwise returns False.\n",
        "@check_exercise_192\n",
        "def exercise_192():\n",
        "    # This line is mandatory and should not be removed\n",
        "    ex_stat_init = True\n",
        "\n",
        "    # BELOW GOES YOUR CODE\n",
        "\n",
        "    # ABOVE GOES YOUR CODE\n",
        "    return {'is_even': is_even}\n",
        "\n",
        "# Run the exercise\n",
        "exercise_192()"
      ],
      "metadata": {
        "id": "NYdGLgKtxQH8"
      },
      "execution_count": null,
      "outputs": []
    },
    {
      "cell_type": "code",
      "source": [
        "# Create a function called `find_max` that takes three numbers `a`, `b`, `c` as parameters and returns the largest of them.\n",
        "@check_exercise_193\n",
        "def exercise_193():\n",
        "    # This line is mandatory and should not be removed\n",
        "    ex_stat_init = True\n",
        "\n",
        "    # BELOW GOES YOUR CODE\n",
        "\n",
        "    # ABOVE GOES YOUR CODE\n",
        "    return {'find_max': find_max}\n",
        "\n",
        "# Run the exercise\n",
        "exercise_193()"
      ],
      "metadata": {
        "id": "e-2ccQoKxQEW"
      },
      "execution_count": null,
      "outputs": []
    },
    {
      "cell_type": "code",
      "source": [
        "# Create a function named `reverse_string` that takes a string `text` as a parameter and returns the reversed version of that string.\n",
        "@check_exercise_194\n",
        "def exercise_194():\n",
        "    # This line is mandatory and should not be removed\n",
        "    ex_stat_init = True\n",
        "\n",
        "    # BELOW GOES YOUR CODE\n",
        "\n",
        "    # ABOVE GOES YOUR CODE\n",
        "    return {'reverse_string': reverse_string}\n",
        "\n",
        "# Run the exercise\n",
        "exercise_194()"
      ],
      "metadata": {
        "id": "lRPGNM_IxQA4"
      },
      "execution_count": null,
      "outputs": []
    },
    {
      "cell_type": "code",
      "source": [
        "# Create a function named `factorial` that takes a number `n` as a parameter and returns its factorial.\n",
        "@check_exercise_195\n",
        "def exercise_195():\n",
        "    # This line is mandatory and should not be removed\n",
        "    ex_stat_init = True\n",
        "\n",
        "    # BELOW GOES YOUR CODE\n",
        "\n",
        "    # ABOVE GOES YOUR CODE\n",
        "    return {'factorial': factorial}\n",
        "\n",
        "# Run the exercise\n",
        "exercise_195()"
      ],
      "metadata": {
        "id": "_LKQU58JxP8w"
      },
      "execution_count": null,
      "outputs": []
    },
    {
      "cell_type": "code",
      "source": [
        "# Create a function called `count_vowels` that takes a string `text` as a parameter and returns the number of vowels in the string.\n",
        "@check_exercise_196\n",
        "def exercise_196():\n",
        "    # This line is mandatory and should not be removed\n",
        "    ex_stat_init = True\n",
        "\n",
        "    # BELOW GOES YOUR CODE\n",
        "\n",
        "    # ABOVE GOES YOUR CODE\n",
        "    return {\"count_vowels\": count_vowels}\n",
        "\n",
        "# Run the exercise\n",
        "exercise_196()"
      ],
      "metadata": {
        "id": "9UvIId3UxP6T"
      },
      "execution_count": null,
      "outputs": []
    },
    {
      "cell_type": "code",
      "source": [
        "# Create a function called `area_of_circle` that takes the `radius`` as a parameter and returns the area of the circle.\n",
        "@check_exercise_197\n",
        "def exercise_197():\n",
        "    # This line is mandatory and should not be removed\n",
        "    ex_stat_init = True\n",
        "\n",
        "    # BELOW GOES YOUR CODE\n",
        "\n",
        "    # ABOVE GOES YOUR CODE\n",
        "    return {\"area_of_circle\": area_of_circle}\n",
        "\n",
        "# Run the exercise\n",
        "exercise_197()"
      ],
      "metadata": {
        "id": "otrwZ4yqxP3x"
      },
      "execution_count": null,
      "outputs": []
    },
    {
      "cell_type": "code",
      "source": [
        "# Create a function named `fibonacci` that takes a number `n` and returns the first `n` Fibonacci numbers in a list, where the first two numbers are 0 and 1.\n",
        "@check_exercise_198\n",
        "def exercise_198():\n",
        "    # This line is mandatory and should not be removed\n",
        "    ex_stat_init = True\n",
        "\n",
        "    # BELOW GOES YOUR CODE\n",
        "\n",
        "    # ABOVE GOES YOUR CODE\n",
        "    return {\"fibonacci\": fibonacci}\n",
        "\n",
        "# Run the exercise\n",
        "exercise_198()"
      ],
      "metadata": {
        "id": "rv8jIa_1xP1T"
      },
      "execution_count": null,
      "outputs": []
    },
    {
      "cell_type": "code",
      "source": [
        "# Create a function named `is_prime` that takes a number `n` and returns True if it is a prime number, otherwise False.\n",
        "@check_exercise_199\n",
        "def exercise_199():\n",
        "    # This line is mandatory and should not be removed\n",
        "    ex_stat_init = True\n",
        "\n",
        "    # BELOW GOES YOUR CODE\n",
        "\n",
        "    # ABOVE GOES YOUR CODE\n",
        "    return {\"is_prime\": is_prime}\n",
        "\n",
        "# Run the exercise\n",
        "exercise_199()"
      ],
      "metadata": {
        "id": "hF9ogT09xPyd"
      },
      "execution_count": null,
      "outputs": []
    },
    {
      "cell_type": "code",
      "source": [
        "# Create a function `product` that takes two numbers and an optional parameter for a message, returning the message along with the product of the two numbers: \"[message]: [product]\".\n",
        "@check_exercise_200\n",
        "def exercise_200():\n",
        "    # This line is mandatory and should not be removed\n",
        "    ex_stat_init = True\n",
        "\n",
        "    # BELOW GOES YOUR CODE\n",
        "\n",
        "    # ABOVE GOES YOUR CODE\n",
        "    return {\"product\": product}\n",
        "\n",
        "# Run the exercise\n",
        "exercise_200()"
      ],
      "metadata": {
        "id": "f5M0KpyI4615"
      },
      "execution_count": null,
      "outputs": []
    },
    {
      "cell_type": "code",
      "source": [
        "# Create a function `favorite_foods` that takes a list of `foods` and returns \"favorite foods are [food1], [food2], ...\" where the foods are joined by commas.\n",
        "@check_exercise_201\n",
        "def exercise_201():\n",
        "    # This line is mandatory and should not be removed\n",
        "    ex_stat_init = True\n",
        "\n",
        "    # BELOW GOES YOUR CODE\n",
        "\n",
        "    # ABOVE GOES YOUR CODE\n",
        "    return {\"favorite_foods\": favorite_foods}\n",
        "\n",
        "# Run the exercise\n",
        "exercise_201()"
      ],
      "metadata": {
        "id": "_Ww3STJ646zT"
      },
      "execution_count": null,
      "outputs": []
    },
    {
      "cell_type": "code",
      "source": [
        "# create a function `full_name` that takes a first name and last name as keyword arguments and returns the full name as a string, with a space between the names.\n",
        "@check_exercise_202\n",
        "def exercise_202():\n",
        "    # This line is mandatory and should not be removed\n",
        "    ex_stat_init = True\n",
        "\n",
        "    # BELOW GOES YOUR CODE\n",
        "\n",
        "    # ABOVE GOES YOUR CODE\n",
        "    return {\"full_name\": full_name}\n",
        "\n",
        "# Run the exercise\n",
        "exercise_202()"
      ],
      "metadata": {
        "id": "Prl5Bb1E46ws"
      },
      "execution_count": null,
      "outputs": []
    },
    {
      "cell_type": "code",
      "source": [
        "# Create a function `send_email` that takes a recipient address and an optional subject (default to \"No Subject\") and returns a formatted email string, like \"To: [recipient], Subject: [subject]\".\n",
        "@check_exercise_203\n",
        "def exercise_203():\n",
        "    # This line is mandatory and should not be removed\n",
        "    ex_stat_init = True\n",
        "\n",
        "    # BELOW GOES YOUR CODE\n",
        "\n",
        "    # ABOVE GOES YOUR CODE\n",
        "    return {\"send_email\": send_email}\n",
        "\n",
        "# Run the exercise\n",
        "exercise_203()"
      ],
      "metadata": {
        "id": "APGPlG5V46uJ"
      },
      "execution_count": null,
      "outputs": []
    },
    {
      "cell_type": "code",
      "source": [
        "# create a function `calculate_discount` that takes a `price` and an optional `discount_rate` (default to 0), returning the final price after applying the discount.\n",
        "@check_exercise_204\n",
        "def exercise_204():\n",
        "    # This line is mandatory and should not be removed\n",
        "    ex_stat_init = True\n",
        "\n",
        "    # BELOW GOES YOUR CODE\n",
        "\n",
        "    # ABOVE GOES YOUR CODE\n",
        "    return {\"calculate_discount\": calculate_discount}\n",
        "\n",
        "# Run the exercise\n",
        "exercise_204()"
      ],
      "metadata": {
        "id": "U_jQ0e9g46rl"
      },
      "execution_count": null,
      "outputs": []
    },
    {
      "cell_type": "code",
      "source": [
        "# Create a function `create_user` that takes a username and optional parameters for age and location, returning a user profile string, like \"Username: [username], Age: [age], Location: [location]\" assigning \"None\" to missing values.\n",
        "@check_exercise_205\n",
        "def exercise_205():\n",
        "    # This line is mandatory and should not be removed\n",
        "    ex_stat_init = True\n",
        "\n",
        "    # BELOW GOES YOUR CODE\n",
        "\n",
        "    # ABOVE GOES YOUR CODE\n",
        "    return {\"create_user\": create_user}\n",
        "\n",
        "# Run the exercise\n",
        "exercise_205()"
      ],
      "metadata": {
        "id": "Wsim4Lrz46pb"
      },
      "execution_count": null,
      "outputs": []
    },
    {
      "cell_type": "code",
      "source": [
        "# Create a function `increment` that takes a number and an optional step value (default to 1), returning the incremented value.\n",
        "@check_exercise_206\n",
        "def exercise_206():\n",
        "    # This line is mandatory and should not be removed\n",
        "    ex_stat_init = True\n",
        "\n",
        "    # BELOW GOES YOUR CODE\n",
        "\n",
        "    # ABOVE GOES YOUR CODE\n",
        "    return {\"increment\": increment}\n",
        "\n",
        "# Run the exercise\n",
        "exercise_206()"
      ],
      "metadata": {
        "id": "p0GxwWMT46m_"
      },
      "execution_count": null,
      "outputs": []
    },
    {
      "cell_type": "code",
      "source": [
        "# Create a function `concatenate_strings` that accepts any number of string arguments and returns a single concatenated string.\n",
        "@check_exercise_207\n",
        "def exercise_207():\n",
        "    # This line is mandatory and should not be removed\n",
        "    ex_stat_init = True\n",
        "\n",
        "    # BELOW GOES YOUR CODE\n",
        "\n",
        "    # ABOVE GOES YOUR CODE\n",
        "    return {\"concatenate_strings\": concatenate_strings}\n",
        "\n",
        "# Run the exercise\n",
        "exercise_207()"
      ],
      "metadata": {
        "id": "GNSSX1zO46ka"
      },
      "execution_count": null,
      "outputs": []
    },
    {
      "cell_type": "code",
      "source": [
        "# Create a function `print_scores` that accepts any number of scores and returns a formatted string with all the scores, like \"Scores: [score1], [score2], [score3].\".\n",
        "@check_exercise_208\n",
        "def exercise_208():\n",
        "    # This line is mandatory and should not be removed\n",
        "    ex_stat_init = True\n",
        "\n",
        "    # BELOW GOES YOUR CODE\n",
        "\n",
        "    # ABOVE GOES YOUR CODE\n",
        "    return {\"print_scores\": print_scores}\n",
        "\n",
        "# Run the exercise\n",
        "exercise_208()"
      ],
      "metadata": {
        "id": "xD1a91Pi46hv"
      },
      "execution_count": null,
      "outputs": []
    },
    {
      "cell_type": "code",
      "source": [
        "# Create a function called `merge_dicts` that accepts multiple dictionaries as keyword arguments and returns a single merged dictionary.\n",
        "@check_exercise_209\n",
        "def exercise_209():\n",
        "    # This line is mandatory and should not be removed\n",
        "    ex_stat_init = True\n",
        "\n",
        "    # BELOW GOES YOUR CODE\n",
        "\n",
        "    # ABOVE GOES YOUR CODE\n",
        "    return {\"merge_dicts\": merge_dicts}\n",
        "\n",
        "# Run the exercise\n",
        "exercise_209()"
      ],
      "metadata": {
        "id": "7kwLAQ-g46fc"
      },
      "execution_count": null,
      "outputs": []
    },
    {
      "cell_type": "code",
      "source": [
        "# Create a function named `calculate_average` that takes any number of scores and returns the average.\n",
        "@check_exercise_210\n",
        "def exercise_210():\n",
        "    # This line is mandatory and should not be removed\n",
        "    ex_stat_init = True\n",
        "\n",
        "    # BELOW GOES YOUR CODE\n",
        "\n",
        "    # ABOVE GOES YOUR CODE\n",
        "    return {\"calculate_average\": calculate_average}\n",
        "\n",
        "# Run the exercise\n",
        "exercise_210()"
      ],
      "metadata": {
        "id": "chEwdnJk46dO"
      },
      "execution_count": null,
      "outputs": []
    },
    {
      "cell_type": "code",
      "source": [
        "# Create a function named `compute_class_average` that takes as input any number of dictionaries containing the name as key and a list of scores as value, and returns a dictionary with the average score of all the students.\n",
        "@check_exercise_211\n",
        "def exercise_211():\n",
        "    # This line is mandatory and should not be removed\n",
        "    ex_stat_init = True\n",
        "\n",
        "    # BELOW GOES YOUR CODE\n",
        "\n",
        "    # ABOVE GOES YOUR CODE\n",
        "    return {\"compute_class_average\": compute_class_average}\n",
        "\n",
        "# Run the exercise\n",
        "exercise_211()"
      ],
      "metadata": {
        "id": "RTgSyPMz46aE"
      },
      "execution_count": null,
      "outputs": []
    },
    {
      "cell_type": "code",
      "source": [
        "# Define a function `calculate_area` that takes the radius of a circle as an argument and returns the area. Include a docstring that describes the function, its parameter, and the return value.\n",
        "@check_exercise_212\n",
        "def exercise_212():\n",
        "    # This line is mandatory and should not be removed\n",
        "    ex_stat_init = True\n",
        "\n",
        "    # BELOW GOES YOUR CODE\n",
        "\n",
        "    # ABOVE GOES YOUR CODE\n",
        "    return {\"calculate_area\": calculate_area}\n",
        "\n",
        "# Run the exercise\n",
        "exercise_212()"
      ],
      "metadata": {
        "id": "w5-rtBXH46WX"
      },
      "execution_count": null,
      "outputs": []
    },
    {
      "cell_type": "code",
      "source": [
        "# Define a recursive function `factorial` that calculates the factorial of a given non-negative integer `n`.\n",
        "@check_exercise_213\n",
        "def exercise_213():\n",
        "    # This line is mandatory and should not be removed\n",
        "    ex_stat_init = True\n",
        "\n",
        "    # BELOW GOES YOUR CODE\n",
        "\n",
        "    # ABOVE GOES YOUR CODE\n",
        "    return {\"factorial\": factorial}\n",
        "\n",
        "# Run the exercise\n",
        "exercise_213()"
      ],
      "metadata": {
        "id": "WNbKty5A46SX"
      },
      "execution_count": null,
      "outputs": []
    },
    {
      "cell_type": "code",
      "source": [
        "# Create a lambda function that takes two arguments `a` and `b` and returns their product. Assign this lambda function to a variable called `multiply`.\n",
        "@check_exercise_214\n",
        "def exercise_214():\n",
        "    # This line is mandatory and should not be removed\n",
        "    ex_stat_init = True\n",
        "\n",
        "    # BELOW GOES YOUR CODE\n",
        "\n",
        "    # ABOVE GOES YOUR CODE\n",
        "    return {\"multiply\": multiply}\n",
        "\n",
        "# Run the exercise\n",
        "exercise_214()"
      ],
      "metadata": {
        "id": "SeKCQtoM46QE"
      },
      "execution_count": null,
      "outputs": []
    },
    {
      "cell_type": "code",
      "source": [
        "# Given a list of temperatures in Celsius called `celsius_temps`, use `map` with a lambda function to convert all temperatures to Fahrenheit. Assign the result to a variable `fahrenheit_temps`.\n",
        "@check_exercise_215\n",
        "def exercise_215(celsius_temps):\n",
        "    # This line is mandatory and should not be removed\n",
        "    ex_stat_init = True\n",
        "\n",
        "    # BELOW GOES YOUR CODE\n",
        "\n",
        "    # ABOVE GOES YOUR CODE\n",
        "    return {\"fahrenheit_temps\": fahrenheit_temps}\n",
        "\n",
        "# Run the exercise\n",
        "exercise_215()"
      ],
      "metadata": {
        "id": "_7Shg6Om46M5"
      },
      "execution_count": null,
      "outputs": []
    },
    {
      "cell_type": "code",
      "source": [
        "# Given a list of numbers called `numbers`, use `filter` with a lambda function to keep only the even numbers. Assign the result to a variable `even_numbers`.\n",
        "@check_exercise_216\n",
        "def exercise_216(numbers):\n",
        "    # This line is mandatory and should not be removed\n",
        "    ex_stat_init = True\n",
        "\n",
        "    # BELOW GOES YOUR CODE\n",
        "\n",
        "    # ABOVE GOES YOUR CODE\n",
        "    return {\"even_numbers\": even_numbers}\n",
        "\n",
        "# Run the exercise\n",
        "exercise_216()"
      ],
      "metadata": {
        "id": "scNh_rJE46KS"
      },
      "execution_count": null,
      "outputs": []
    },
    {
      "cell_type": "code",
      "source": [
        "# Given a list of dictionaries called `people`, each containing 'name' and 'age' keys, use the `sorted` function with a lambda to sort the list by age in descending order.\n",
        "@check_exercise_217\n",
        "def exercise_217(people):\n",
        "    # This line is mandatory and should not be removed\n",
        "    ex_stat_init = True\n",
        "\n",
        "    # BELOW GOES YOUR CODE\n",
        "\n",
        "    # ABOVE GOES YOUR CODE\n",
        "    return {\"sorted_people\": sorted_people}\n",
        "\n",
        "# Run the exercise\n",
        "exercise_217()"
      ],
      "metadata": {
        "id": "ac1XTbrA46G4"
      },
      "execution_count": null,
      "outputs": []
    },
    {
      "cell_type": "code",
      "source": [
        "# Given a list of strings called `words`, use `sorted` with a lambda function to sort the words first by length and then alphabetically for words of the same length.\n",
        "@check_exercise_218\n",
        "def exercise_218(words):\n",
        "    # This line is mandatory and should not be removed\n",
        "    ex_stat_init = True\n",
        "\n",
        "    # BELOW GOES YOUR CODE\n",
        "\n",
        "    # ABOVE GOES YOUR CODE\n",
        "    return {\"sorted_words\": sorted_words}\n",
        "\n",
        "# Run the exercise\n",
        "exercise_218()"
      ],
      "metadata": {
        "id": "J7qQEAdMDbew"
      },
      "execution_count": null,
      "outputs": []
    },
    {
      "cell_type": "code",
      "source": [
        "# Define a function `create_greeting` that takes a arguemnt `salutation` with a default value of \"Hello\" and returns a function that takes a `name` argument and returns a greeting message.\n",
        "@check_exercise_219\n",
        "def exercise_219():\n",
        "    # This line is mandatory and should not be removed\n",
        "    ex_stat_init = True\n",
        "\n",
        "    # BELOW GOES YOUR CODE\n",
        "\n",
        "    # ABOVE GOES YOUR CODE\n",
        "    return {\"create_greeting\": create_greeting}\n",
        "\n",
        "# Run the exercise\n",
        "exercise_219()"
      ],
      "metadata": {
        "id": "X7PcpSiNDbbn"
      },
      "execution_count": null,
      "outputs": []
    },
    {
      "cell_type": "code",
      "source": [
        "# Given a list of dictionaries called `products`, each containing 'name' and 'price' keys, use `max` with a lambda function to find the product with the highest price.\n",
        "@check_exercise_220\n",
        "def exercise_220(products):\n",
        "    # This line is mandatory and should not be removed\n",
        "    ex_stat_init = True\n",
        "\n",
        "    # BELOW GOES YOUR CODE\n",
        "\n",
        "    # ABOVE GOES YOUR CODE\n",
        "    return {\"most_expensive\": most_expensive}\n",
        "\n",
        "# Run the exercise\n",
        "exercise_220()"
      ],
      "metadata": {
        "id": "gWX22qKnDbYM"
      },
      "execution_count": null,
      "outputs": []
    },
    {
      "cell_type": "code",
      "source": [
        "# Create a lambda function that adds two numbers `x` and `y` and assign it to a variable `add_lambda`.\n",
        "@check_exercise_221\n",
        "def exercise_221():\n",
        "    # This line is mandatory and should not be removed\n",
        "    ex_stat_init = True\n",
        "\n",
        "    # BELOW GOES YOUR CODE\n",
        "\n",
        "    # ABOVE GOES YOUR CODE\n",
        "    return {\"add_lambda\": add_lambda}\n",
        "\n",
        "# Run the exercise\n",
        "exercise_221()"
      ],
      "metadata": {
        "id": "ahTIe4roDbS4"
      },
      "execution_count": null,
      "outputs": []
    },
    {
      "cell_type": "code",
      "source": [
        "# Use a lambda function to create a function that squares a given number `n` and assigns it to a variable `square_lambda`.\n",
        "@check_exercise_222\n",
        "def exercise_222():\n",
        "    # This line is mandatory and should not be removed\n",
        "    ex_stat_init = True\n",
        "\n",
        "    # BELOW GOES YOUR CODE\n",
        "\n",
        "    # ABOVE GOES YOUR CODE\n",
        "    return {\"square_lambda\": square_lambda}\n",
        "\n",
        "# Run the exercise\n",
        "exercise_222()"
      ],
      "metadata": {
        "id": "Yo8zQ2A1DbQI"
      },
      "execution_count": null,
      "outputs": []
    },
    {
      "cell_type": "code",
      "source": [
        "# Create a decorator named `log_execution` that updates the function to return the string \"Function finished {value}\" instead of the original return `value` of the function.\n",
        "@check_exercise_223\n",
        "def exercise_223():\n",
        "    # This line is mandatory and should not be removed\n",
        "    ex_stat_init = True\n",
        "\n",
        "    # BELOW GOES YOUR CODE\n",
        "\n",
        "    # ABOVE GOES YOUR CODE\n",
        "    return {\"log_execution\": log_execution}\n",
        "\n",
        "# Run the exercise\n",
        "exercise_223()"
      ],
      "metadata": {
        "id": "ivJMbsJlDbNC"
      },
      "execution_count": null,
      "outputs": []
    },
    {
      "cell_type": "code",
      "source": [
        "# Create a decorator named `time_execution` that measures the execution time of a function and returns the string \"less than 5 seconds\" if the execution time is less than 5 seconds, or \"more than 5 seconds\" otherwise.\n",
        "@check_exercise_224\n",
        "def exercise_224():\n",
        "    # This line is mandatory and should not be removed\n",
        "    ex_stat_init = True\n",
        "\n",
        "    # BELOW GOES YOUR CODE\n",
        "\n",
        "    # ABOVE GOES YOUR CODE\n",
        "    return {\"time_execution\": time_execution}\n",
        "\n",
        "# Run the exercise\n",
        "exercise_224()"
      ],
      "metadata": {
        "id": "AkSsUwBHDbKT"
      },
      "execution_count": null,
      "outputs": []
    },
    {
      "cell_type": "code",
      "source": [
        "# Create a decorator that returns a dictionary in the format {\"input\": *the input of the function*, \"output\": *the result*} for a function.\n",
        "@check_exercise_225\n",
        "def exercise_225():\n",
        "    # This line is mandatory and should not be removed\n",
        "    ex_stat_init = True\n",
        "\n",
        "    # BELOW GOES YOUR CODE\n",
        "\n",
        "    # ABOVE GOES YOUR CODE\n",
        "    return {\"input_output_dict\": input_output_dict}\n",
        "\n",
        "# Run the exercise\n",
        "exercise_225()"
      ],
      "metadata": {
        "id": "WFilAsiyDbHm"
      },
      "execution_count": null,
      "outputs": []
    },
    {
      "cell_type": "code",
      "source": [
        "# Create a class called `Car` with attributes `make` and `model`\n",
        "@check_exercise_226\n",
        "def exercise_226():\n",
        "    # This line is mandatory and should not be removed\n",
        "    ex_stat_init = True\n",
        "\n",
        "    # BELOW GOES YOUR CODE\n",
        "\n",
        "    # ABOVE GOES YOUR CODE\n",
        "    return {\"Car\": Car}\n",
        "\n",
        "# Run the exercise\n",
        "exercise_226()"
      ],
      "metadata": {
        "id": "QBipIsZgDbEk"
      },
      "execution_count": null,
      "outputs": []
    },
    {
      "cell_type": "code",
      "source": [
        "# Create a class `Rectangle` with attributes `width` and `height`, and initialize them in the constructor\n",
        "@check_exercise_227\n",
        "def exercise_227():\n",
        "    # This line is mandatory and should not be removed\n",
        "    ex_stat_init = True\n",
        "\n",
        "    # BELOW GOES YOUR CODE\n",
        "\n",
        "    # ABOVE GOES YOUR CODE\n",
        "    return {\"Rectangle\": Rectangle}\n",
        "\n",
        "# Run the exercise\n",
        "exercise_227()"
      ],
      "metadata": {
        "id": "GMRou2qnDbBM"
      },
      "execution_count": null,
      "outputs": []
    },
    {
      "cell_type": "code",
      "source": [
        "# Create a class `Rectangle` with attributes `width` and `height`, and a method `area` that returns the area of the rectangle\n",
        "@check_exercise_228\n",
        "def exercise_228():\n",
        "    # This line is mandatory and should not be removed\n",
        "    ex_stat_init = True\n",
        "\n",
        "    # BELOW GOES YOUR CODE\n",
        "\n",
        "    # ABOVE GOES YOUR CODE\n",
        "    return {\"Rectangle\": Rectangle}\n",
        "\n",
        "# Run the exercise\n",
        "exercise_228()"
      ],
      "metadata": {
        "id": "yVE2PVuzDa-S"
      },
      "execution_count": null,
      "outputs": []
    },
    {
      "cell_type": "code",
      "source": [
        "# Create a class `Vehicle` with attributes `brand` and `year`, then create a class `Motorcycle` that inherits from `Vehicle`\n",
        "@check_exercise_229\n",
        "def exercise_229():\n",
        "    # This line is mandatory and should not be removed\n",
        "    ex_stat_init = True\n",
        "\n",
        "    # BELOW GOES YOUR CODE\n",
        "\n",
        "    # ABOVE GOES YOUR CODE\n",
        "    return {\"Vehicle\": Vehicle, \"Motorcycle\": Motorcycle}\n",
        "\n",
        "# Run the exercise\n",
        "exercise_229()"
      ],
      "metadata": {
        "id": "6XB_JjzuDa7h"
      },
      "execution_count": null,
      "outputs": []
    },
    {
      "cell_type": "code",
      "source": [],
      "metadata": {
        "id": "7nvJqz8TDa4l"
      },
      "execution_count": null,
      "outputs": []
    },
    {
      "cell_type": "code",
      "execution_count": null,
      "metadata": {
        "id": "50f0e6ad",
        "outputId": "9e4392fe-fc88-49c9-a68b-9afcc2d49e8e"
      },
      "outputs": [
        {
          "name": "stdout",
          "output_type": "stream",
          "text": [
            "❗ The implementation is incorrect or the exercise was not implemented. Error: name 'Shape' is not defined\n"
          ]
        }
      ],
      "source": [
        "# Create a class `Shape` with a method `area`, then create classes `Circle` that has a `radius` attribute and `Square` that has a `side` attribute, both with an `area` method that returns the area of the shape\n",
        "@check_exercise_230\n",
        "def exercise_230():\n",
        "    # This line is mandatory and should not be removed\n",
        "    ex_stat_init = True\n",
        "\n",
        "    # BELOW GOES YOUR CODE\n",
        "\n",
        "    # ABOVE GOES YOUR CODE\n",
        "    return {\"Shape\": Shape, \"Circle\": Circle, \"Square\": Square}\n",
        "\n",
        "# Run the exercise\n",
        "exercise_230()"
      ]
    },
    {
      "cell_type": "code",
      "source": [
        "# Create a class `BankAccount` with a private attribute `__balance` and methods `deposit` and `withdraw` that take an amount and update the balance and return the new balance. The `deposit` method should add the amount to the balance and the `withdraw` method should subtract the amount from the balance. The `__balance` attribute should be initialized in the constructor.# Create a class `BankAccount` with a private attribute `__balance` that is initialized in the constructor and methods `deposit` and `withdraw` to modify the balance that add or subtract an amount from the balance\n",
        "@check_exercise_231\n",
        "def exercise_231():\n",
        "    # This line is mandatory and should not be removed\n",
        "    ex_stat_init = True\n",
        "\n",
        "    # BELOW GOES YOUR CODE\n",
        "\n",
        "    # ABOVE GOES YOUR CODE\n",
        "    return {\"BankAccount\": BankAccount}\n",
        "\n",
        "# Run the exercise\n",
        "exercise_231()"
      ],
      "metadata": {
        "id": "sE3vvjj1Da10"
      },
      "execution_count": null,
      "outputs": []
    },
    {
      "cell_type": "code",
      "source": [
        "# Create a class `Employee` with a protected attribute `_salary` and a method `add_raise` that increases the salary by a given percentage and returns the new salary\n",
        "@check_exercise_232\n",
        "def exercise_232():\n",
        "    # This line is mandatory and should not be removed\n",
        "    ex_stat_init = True\n",
        "\n",
        "    # BELOW GOES YOUR CODE\n",
        "\n",
        "    # ABOVE GOES YOUR CODE\n",
        "    return {\"Employee\": Employee}\n",
        "\n",
        "# Run the exercise\n",
        "exercise_232()"
      ],
      "metadata": {
        "id": "5Uzag-bDDayp"
      },
      "execution_count": null,
      "outputs": []
    },
    {
      "cell_type": "code",
      "source": [
        "# Create an abstract class `Animal` with an abstract method `make_sound`, then create concrete classes `Dog` and `Cat` that implement the method and return a string with the sound the string should be \"Woof\" for `Dog` and \"Meow\" for `Cat`\n",
        "@check_exercise_233\n",
        "def exercise_233():\n",
        "    # This line is mandatory and should not be removed\n",
        "    ex_stat_init = True\n",
        "\n",
        "    # BELOW GOES YOUR CODE\n",
        "\n",
        "    # ABOVE GOES YOUR CODE\n",
        "    return {\"Animal\": Animal, \"Dog\": Dog, \"Cat\": Cat}\n",
        "\n",
        "# Run the exercise\n",
        "exercise_233()"
      ],
      "metadata": {
        "id": "rUs8eoEGDat8"
      },
      "execution_count": null,
      "outputs": []
    },
    {
      "cell_type": "code",
      "source": [
        "# Create a class `Book` with attributes `title`, `author`, and `pages`, and initialize them in the __init__ method\n",
        "@check_exercise_234\n",
        "def exercise_234():\n",
        "    # This line is mandatory and should not be removed\n",
        "    ex_stat_init = True\n",
        "\n",
        "    # BELOW GOES YOUR CODE\n",
        "\n",
        "    # ABOVE GOES YOUR CODE\n",
        "    return {\"Book\": Book}\n",
        "\n",
        "# Run the exercise\n",
        "exercise_234()"
      ],
      "metadata": {
        "id": "qqLZFpSHDarE"
      },
      "execution_count": null,
      "outputs": []
    },
    {
      "cell_type": "code",
      "source": [
        "# Create a class `Book` with attributes `title`, `author`, and `pages`, and a method `__str__` that returns a string with the book information\n",
        "@check_exercise_235\n",
        "def exercise_235():\n",
        "    # This line is mandatory and should not be removed\n",
        "    ex_stat_init = True\n",
        "\n",
        "    # BELOW GOES YOUR CODE\n",
        "\n",
        "    # ABOVE GOES YOUR CODE\n",
        "    return {\"Book\": Book}\n",
        "\n",
        "# Run the exercise\n",
        "exercise_235()"
      ],
      "metadata": {
        "id": "G6Ma0ETmDaoG"
      },
      "execution_count": null,
      "outputs": []
    },
    {
      "cell_type": "code",
      "source": [
        "# Create a class `Person` with attributes `name` and `age`, and a method `__repr__` that returns a string in the format \"Person(name=[name], age=[age])\"\n",
        "@check_exercise_236\n",
        "def exercise_236():\n",
        "    # This line is mandatory and should not be removed\n",
        "    ex_stat_init = True\n",
        "\n",
        "    # BELOW GOES YOUR CODE\n",
        "\n",
        "    # ABOVE GOES YOUR CODE\n",
        "    return {\"Person\": Person}\n",
        "\n",
        "# Run the exercise\n",
        "exercise_236()"
      ],
      "metadata": {
        "id": "bwDPYOQCEEWc"
      },
      "execution_count": null,
      "outputs": []
    },
    {
      "cell_type": "code",
      "source": [
        "# Create a class `Point` with attributes `x` and `y`, and a method `__add__` that returns a new point with the sum of the coordinates\n",
        "@check_exercise_237\n",
        "def exercise_237():\n",
        "    # This line is mandatory and should not be removed\n",
        "    ex_stat_init = True\n",
        "\n",
        "    # BELOW GOES YOUR CODE\n",
        "\n",
        "    # ABOVE GOES YOUR CODE\n",
        "    return {\"Point\": Point}\n",
        "\n",
        "# Run the exercise\n",
        "exercise_237()"
      ],
      "metadata": {
        "id": "hzVhRpS6EETv"
      },
      "execution_count": null,
      "outputs": []
    },
    {
      "cell_type": "code",
      "source": [
        "# Create a class `Vector` with attributes `x` and `y`, and a method `__mul__` that returns the dot product of two vectors\n",
        "@check_exercise_238\n",
        "def exercise_238():\n",
        "    # This line is mandatory and should not be removed\n",
        "    ex_stat_init = True\n",
        "\n",
        "    # BELOW GOES YOUR CODE\n",
        "\n",
        "    # ABOVE GOES YOUR CODE\n",
        "    return {\"Vector\": Vector}\n",
        "\n",
        "# Run the exercise\n",
        "exercise_238()"
      ],
      "metadata": {
        "id": "uo_jQUdHEEQO"
      },
      "execution_count": null,
      "outputs": []
    },
    {
      "cell_type": "code",
      "source": [
        "# Create a class `Vector` with attributes `x` and `y`, and a method `__sub__` that returns a new vector with the difference of the coordinates\n",
        "@check_exercise_239\n",
        "def exercise_239():\n",
        "    # This line is mandatory and should not be removed\n",
        "    ex_stat_init = True\n",
        "\n",
        "    # BELOW GOES YOUR CODE\n",
        "\n",
        "    # ABOVE GOES YOUR CODE\n",
        "    return {\"Vector\": Vector}\n",
        "\n",
        "# Run the exercise\n",
        "exercise_239()"
      ],
      "metadata": {
        "id": "PobjtYTwEENg"
      },
      "execution_count": null,
      "outputs": []
    },
    {
      "cell_type": "code",
      "source": [
        "# Create a class `Vector` with attributes `x` and `y`, and a method `__eq__` that returns True if two vectors have the same coordinates\n",
        "@check_exercise_240\n",
        "def exercise_240():\n",
        "    # This line is mandatory and should not be removed\n",
        "    ex_stat_init = True\n",
        "\n",
        "    # BELOW GOES YOUR CODE\n",
        "\n",
        "    # ABOVE GOES YOUR CODE\n",
        "    return {\"Vector\": Vector}\n",
        "\n",
        "# Run the exercise\n",
        "exercise_240()"
      ],
      "metadata": {
        "id": "H4UDx8LCEEKw"
      },
      "execution_count": null,
      "outputs": []
    },
    {
      "cell_type": "code",
      "source": [
        "# Create a class `Vector` with attributes `x` and `y`, and a method `__len__` that returns the magnitude of the vector\n",
        "@check_exercise_241\n",
        "def exercise_241():\n",
        "    # This line is mandatory and should not be removed\n",
        "    ex_stat_init = True\n",
        "\n",
        "    # BELOW GOES YOUR CODE\n",
        "\n",
        "    # ABOVE GOES YOUR CODE\n",
        "    return {\"Vector\": Vector}\n",
        "\n",
        "# Run the exercise\n",
        "exercise_241()"
      ],
      "metadata": {
        "id": "0OMrlraEEEFl"
      },
      "execution_count": null,
      "outputs": []
    },
    {
      "cell_type": "code",
      "source": [
        "# Create a class `Vector` with attributes `x` and `y`, a method `__str__` that returns a string with the vector coordinates in the format \"(x, y)\", a method `__add__` that returns a new vector with the sum of the coordinates, and a method `__mul__` that returns the dot product of two vectors\n",
        "@check_exercise_242\n",
        "def exercise_242():\n",
        "    # This line is mandatory and should not be removed\n",
        "    ex_stat_init = True\n",
        "\n",
        "    # BELOW GOES YOUR CODE\n",
        "\n",
        "    # ABOVE GOES YOUR CODE\n",
        "    return {\"Vector\": Vector}\n",
        "\n",
        "# Run the exercise\n",
        "exercise_242()"
      ],
      "metadata": {
        "id": "it5n4ahFEECy"
      },
      "execution_count": null,
      "outputs": []
    },
    {
      "cell_type": "code",
      "source": [
        "# Create classes `Flying` and `Swimming`, then create a class `Duck` that inherits from both\n",
        "@check_exercise_243\n",
        "def exercise_243():\n",
        "    # This line is mandatory and should not be removed\n",
        "    ex_stat_init = True\n",
        "\n",
        "    # BELOW GOES YOUR CODE\n",
        "\n",
        "    # ABOVE GOES YOUR CODE\n",
        "    return {\"Flying\": Flying, \"Swimming\": Swimming, \"Duck\": Duck}\n",
        "\n",
        "# Run the exercise\n",
        "exercise_243()"
      ],
      "metadata": {
        "id": "A1Z89g6eEEAC"
      },
      "execution_count": null,
      "outputs": []
    },
    {
      "cell_type": "code",
      "source": [
        "# Create a class `Animal` with a method `move`, then create a class `Bird` that inherits from `Animal` and overrides the `move` method\n",
        "@check_exercise_244\n",
        "def exercise_244():\n",
        "    # This line is mandatory and should not be removed\n",
        "    ex_stat_init = True\n",
        "\n",
        "    # BELOW GOES YOUR CODE\n",
        "\n",
        "    # ABOVE GOES YOUR CODE\n",
        "    return {\"Animal\": Animal, \"Bird\": Bird}\n",
        "\n",
        "# Run the exercise\n",
        "exercise_244()"
      ],
      "metadata": {
        "id": "AUNFDVD4ED9F"
      },
      "execution_count": null,
      "outputs": []
    },
    {
      "cell_type": "code",
      "source": [
        "# Create a class `Counter` with a class variable that keeps track of how many instances have been created and a method `get_count` that returns the count\n",
        "@check_exercise_245\n",
        "def exercise_245():\n",
        "    # This line is mandatory and should not be removed\n",
        "    ex_stat_init = True\n",
        "\n",
        "    # BELOW GOES YOUR CODE\n",
        "\n",
        "    # ABOVE GOES YOUR CODE\n",
        "    return {\"Counter\": Counter}\n",
        "\n",
        "# Run the exercise\n",
        "exercise_245()"
      ],
      "metadata": {
        "id": "l3cTuLWDED6S"
      },
      "execution_count": null,
      "outputs": []
    },
    {
      "cell_type": "code",
      "source": [],
      "metadata": {
        "id": "RmY3kQHnaZfX"
      },
      "execution_count": null,
      "outputs": []
    }
  ]
}