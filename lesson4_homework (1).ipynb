{
  "cells": [
    {
      "cell_type": "markdown",
      "source": [
        "check_numpy_59 e gresit\n",
        "check_numpy_86 e gresit\n",
        "\n",
        "check_numpy_92 e gresit\n",
        "\n",
        "check_numpy_105 e grisit facut acceptarea, lucreaza de la un simplu print\n",
        "\n",
        "numpy_106 e gresit lucreaza doar cu gasirea la outliners, restul nu conteaza\n"
      ],
      "metadata": {
        "id": "dSI-GZhbMLUU"
      }
    },
    {
      "cell_type": "code",
      "source": [
        "pip install sigmoid_check==0.1.3"
      ],
      "metadata": {
        "colab": {
          "base_uri": "https://localhost:8080/"
        },
        "id": "zgDBoMbtxol3",
        "outputId": "5b79023e-f500-467e-af03-2a220d1ec29b"
      },
      "execution_count": null,
      "outputs": [
        {
          "output_type": "stream",
          "name": "stdout",
          "text": [
            "Collecting sigmoid_check==0.1.3\n",
            "  Downloading sigmoid_check-0.1.3-py3-none-any.whl.metadata (3.1 kB)\n",
            "Collecting numpy>=2.0.0 (from sigmoid_check==0.1.3)\n",
            "  Downloading numpy-2.2.0-cp310-cp310-manylinux_2_17_x86_64.manylinux2014_x86_64.whl.metadata (62 kB)\n",
            "\u001b[2K     \u001b[90m━━━━━━━━━━━━━━━━━━━━━━━━━━━━━━━━━━━━━━━━\u001b[0m \u001b[32m62.0/62.0 kB\u001b[0m \u001b[31m2.9 MB/s\u001b[0m eta \u001b[36m0:00:00\u001b[0m\n",
            "\u001b[?25hDownloading sigmoid_check-0.1.3-py3-none-any.whl (60 kB)\n",
            "\u001b[2K   \u001b[90m━━━━━━━━━━━━━━━━━━━━━━━━━━━━━━━━━━━━━━━━\u001b[0m \u001b[32m60.9/60.9 kB\u001b[0m \u001b[31m3.8 MB/s\u001b[0m eta \u001b[36m0:00:00\u001b[0m\n",
            "\u001b[?25hDownloading numpy-2.2.0-cp310-cp310-manylinux_2_17_x86_64.manylinux2014_x86_64.whl (16.4 MB)\n",
            "\u001b[2K   \u001b[90m━━━━━━━━━━━━━━━━━━━━━━━━━━━━━━━━━━━━━━━━\u001b[0m \u001b[32m16.4/16.4 MB\u001b[0m \u001b[31m30.6 MB/s\u001b[0m eta \u001b[36m0:00:00\u001b[0m\n",
            "\u001b[?25hInstalling collected packages: numpy, sigmoid_check\n",
            "  Attempting uninstall: numpy\n",
            "    Found existing installation: numpy 1.26.4\n",
            "    Uninstalling numpy-1.26.4:\n",
            "      Successfully uninstalled numpy-1.26.4\n",
            "\u001b[31mERROR: pip's dependency resolver does not currently take into account all the packages that are installed. This behaviour is the source of the following dependency conflicts.\n",
            "cupy-cuda12x 12.2.0 requires numpy<1.27,>=1.20, but you have numpy 2.2.0 which is incompatible.\n",
            "gensim 4.3.3 requires numpy<2.0,>=1.18.5, but you have numpy 2.2.0 which is incompatible.\n",
            "langchain 0.3.11 requires numpy<2,>=1.22.4; python_version < \"3.12\", but you have numpy 2.2.0 which is incompatible.\n",
            "matplotlib 3.8.0 requires numpy<2,>=1.21, but you have numpy 2.2.0 which is incompatible.\n",
            "numba 0.60.0 requires numpy<2.1,>=1.22, but you have numpy 2.2.0 which is incompatible.\n",
            "pytensor 2.26.4 requires numpy<2,>=1.17.0, but you have numpy 2.2.0 which is incompatible.\n",
            "tensorflow 2.17.1 requires numpy<2.0.0,>=1.23.5; python_version <= \"3.11\", but you have numpy 2.2.0 which is incompatible.\n",
            "thinc 8.2.5 requires numpy<2.0.0,>=1.19.0; python_version >= \"3.9\", but you have numpy 2.2.0 which is incompatible.\u001b[0m\u001b[31m\n",
            "\u001b[0mSuccessfully installed numpy-2.2.0 sigmoid_check-0.1.3\n"
          ]
        }
      ]
    },
    {
      "cell_type": "code",
      "execution_count": null,
      "metadata": {
        "id": "pcax1jGCvzzh"
      },
      "outputs": [],
      "source": [
        "# make sure to install the latest version of sigmoid_check with pip install sigmoid_check==0.1.3\n",
        "from sigmoid_check.excalibur import *"
      ]
    },
    {
      "cell_type": "code",
      "execution_count": null,
      "metadata": {
        "colab": {
          "base_uri": "https://localhost:8080/"
        },
        "id": "eyBdBSD6vzzi",
        "outputId": "caa3df6f-a4d7-479d-f43b-a0d6c34475a7"
      },
      "outputs": [
        {
          "output_type": "stream",
          "name": "stdout",
          "text": [
            "✅ Great job! Exercise completed successfully.\n"
          ]
        }
      ],
      "source": [
        "# Given a list of integers `int_list`, create a NumPy array named `array_from_list`.\n",
        "@check_numpy_1\n",
        "def numpy_1(int_list):\n",
        "    # This line is mandatory and should not be removed.\n",
        "    ex_stat_init = True\n",
        "\n",
        "    # BELOW GOES YOUR CODE\n",
        "    array_from_list = np.array(int_list)\n",
        "    # ABOVE GOES YOUR CODE\n",
        "    return {\"array_from_list\": array_from_list}\n",
        "\n",
        "numpy_1()"
      ]
    },
    {
      "cell_type": "code",
      "execution_count": null,
      "metadata": {
        "colab": {
          "base_uri": "https://localhost:8080/",
          "height": 222
        },
        "id": "z4w5V2mivzzj",
        "outputId": "be936d41-0b97-45de-d890-25d0ecda3d41"
      },
      "outputs": [
        {
          "output_type": "error",
          "ename": "NameError",
          "evalue": "name 'check_numpy_2' is not defined",
          "traceback": [
            "\u001b[0;31m---------------------------------------------------------------------------\u001b[0m",
            "\u001b[0;31mNameError\u001b[0m                                 Traceback (most recent call last)",
            "\u001b[0;32m<ipython-input-3-4cf264dee89f>\u001b[0m in \u001b[0;36m<cell line: 2>\u001b[0;34m()\u001b[0m\n\u001b[1;32m      1\u001b[0m \u001b[0;31m# Given two NumPy arrays `array1` and `array2` of the same shape, save their element-wise addition to `added_array`.\u001b[0m\u001b[0;34m\u001b[0m\u001b[0;34m\u001b[0m\u001b[0m\n\u001b[0;32m----> 2\u001b[0;31m \u001b[0;34m@\u001b[0m\u001b[0mcheck_numpy_2\u001b[0m\u001b[0;34m\u001b[0m\u001b[0;34m\u001b[0m\u001b[0m\n\u001b[0m\u001b[1;32m      3\u001b[0m \u001b[0;32mdef\u001b[0m \u001b[0mnumpy_2\u001b[0m\u001b[0;34m(\u001b[0m\u001b[0marray1\u001b[0m\u001b[0;34m,\u001b[0m \u001b[0marray2\u001b[0m\u001b[0;34m)\u001b[0m\u001b[0;34m:\u001b[0m\u001b[0;34m\u001b[0m\u001b[0;34m\u001b[0m\u001b[0m\n\u001b[1;32m      4\u001b[0m     \u001b[0;31m# This line is mandatory and should not be removed.\u001b[0m\u001b[0;34m\u001b[0m\u001b[0;34m\u001b[0m\u001b[0m\n\u001b[1;32m      5\u001b[0m     \u001b[0mex_stat_init\u001b[0m \u001b[0;34m=\u001b[0m \u001b[0;32mTrue\u001b[0m\u001b[0;34m\u001b[0m\u001b[0;34m\u001b[0m\u001b[0m\n",
            "\u001b[0;31mNameError\u001b[0m: name 'check_numpy_2' is not defined"
          ]
        }
      ],
      "source": [
        "# Given two NumPy arrays `array1` and `array2` of the same shape, save their element-wise addition to `added_array`.\n",
        "@check_numpy_2\n",
        "def numpy_2(array1, array2):\n",
        "    # This line is mandatory and should not be removed.\n",
        "    ex_stat_init = True\n",
        "\n",
        "    # BELOW GOES YOUR CODE\n",
        "    added_array = array1 + array2\n",
        "    # ABOVE GOES YOUR CODE\n",
        "    return {\"added_array\": added_array}\n",
        "\n",
        "numpy_2()"
      ]
    },
    {
      "cell_type": "code",
      "execution_count": null,
      "metadata": {
        "colab": {
          "base_uri": "https://localhost:8080/"
        },
        "id": "3AEsEv1Ivzzj",
        "outputId": "5ecdddc9-aae0-4501-e2e4-19ad4033dbff"
      },
      "outputs": [
        {
          "output_type": "stream",
          "name": "stdout",
          "text": [
            "✅ Great job! Exercise completed successfully.\n"
          ]
        }
      ],
      "source": [
        "# Given two NumPy arrays `arrayA` and `arrayB`, calculate the element-wise subtraction of `arrayB` from `arrayA` and store the result in `subtracted_array`.\n",
        "@check_numpy_3\n",
        "def numpy_3(arrayA, arrayB):\n",
        "    # This line is mandatory and should not be removed.\n",
        "    ex_stat_init = True\n",
        "\n",
        "    # BELOW GOES YOUR CODE\n",
        "    subtracted_array = arrayB - arrayA\n",
        "    # ABOVE GOES YOUR CODE\n",
        "    return {\"subtracted_array\": subtracted_array}\n",
        "\n",
        "numpy_3()"
      ]
    },
    {
      "cell_type": "code",
      "execution_count": null,
      "metadata": {
        "colab": {
          "base_uri": "https://localhost:8080/"
        },
        "id": "Jg84UPeNvzzk",
        "outputId": "5dbb0a6b-e598-4eeb-cdcc-30ae7198bc96"
      },
      "outputs": [
        {
          "output_type": "stream",
          "name": "stdout",
          "text": [
            "✅ Great job! Exercise completed successfully.\n"
          ]
        }
      ],
      "source": [
        "# Given two NumPy arrays `num_array1` and `num_array2` of the same shape, find their element-wise multiplication and store in `multiplied_array`.\n",
        "@check_numpy_4\n",
        "def numpy_4(num_array1, num_array2):\n",
        "    # This line is mandatory and should not be removed.\n",
        "    ex_stat_init = True\n",
        "\n",
        "    # BELOW GOES YOUR CODE\n",
        "    multiplied_array = num_array1 * num_array2\n",
        "    # ABOVE GOES YOUR CODE\n",
        "    return {\"multiplied_array\": multiplied_array}\n",
        "\n",
        "numpy_4()"
      ]
    },
    {
      "cell_type": "code",
      "execution_count": null,
      "metadata": {
        "colab": {
          "base_uri": "https://localhost:8080/"
        },
        "id": "I4s_G1T7vzzk",
        "outputId": "de13a7d6-9238-462f-b7c3-7810c93c227d"
      },
      "outputs": [
        {
          "output_type": "stream",
          "name": "stdout",
          "text": [
            "✅ Great job! Exercise completed successfully.\n"
          ]
        }
      ],
      "source": [
        "# Given two NumPy arrays `dividend_array` and `divisor_array` of the same shape, perform element-wise division and assign the result to `divided_array`.\n",
        "@check_numpy_5\n",
        "def numpy_5(dividend_array, divisor_array):\n",
        "    # This line is mandatory and should not be removed.\n",
        "    ex_stat_init = True\n",
        "\n",
        "    # BELOW GOES YOUR CODE\n",
        "    divided_array = dividend_array / divisor_array\n",
        "    # ABOVE GOES YOUR CODE\n",
        "    return {\"divided_array\": divided_array}\n",
        "\n",
        "numpy_5()"
      ]
    },
    {
      "cell_type": "code",
      "execution_count": null,
      "metadata": {
        "colab": {
          "base_uri": "https://localhost:8080/"
        },
        "id": "VwKUFyOsvzzk",
        "outputId": "10d57dda-9ac0-44be-fdc7-4d8ceef3d3b6"
      },
      "outputs": [
        {
          "output_type": "stream",
          "name": "stdout",
          "text": [
            "✅ Great job! Exercise completed successfully.\n"
          ]
        }
      ],
      "source": [
        "# Given a NumPy array `base_array` and a scalar `exponent`, compute the element-wise exponentiation and store the result in `exponentiated_array`.\n",
        "@check_numpy_6\n",
        "def numpy_6(base_array, exponent):\n",
        "    # This line is mandatory and should not be removed.\n",
        "    ex_stat_init = True\n",
        "\n",
        "    # BELOW GOES YOUR CODE\n",
        "    exponentiated_array = base_array * exponent\n",
        "    # ABOVE GOES YOUR CODE\n",
        "    return {\"exponentiated_array\": exponentiated_array}\n",
        "\n",
        "numpy_6()"
      ]
    },
    {
      "cell_type": "code",
      "execution_count": null,
      "metadata": {
        "colab": {
          "base_uri": "https://localhost:8080/"
        },
        "id": "kXHCXM_tvzzk",
        "outputId": "b71c1366-2c6b-4e14-dbb8-0ef704724920"
      },
      "outputs": [
        {
          "output_type": "stream",
          "name": "stdout",
          "text": [
            "✅ Great job! Exercise completed successfully.\n"
          ]
        }
      ],
      "source": [
        "# Given a list of numbers `float_list`, create a NumPy array named `float_array` with a float data type.\n",
        "@check_numpy_7\n",
        "def numpy_7(float_list):\n",
        "    # This line is mandatory and should not be removed.\n",
        "    ex_stat_init = True\n",
        "\n",
        "    # BELOW GOES YOUR CODE\n",
        "    float_array = np.float32(float_list)\n",
        "    # ABOVE GOES YOUR CODE\n",
        "    return {\"float_array\": float_array}\n",
        "\n",
        "numpy_7()"
      ]
    },
    {
      "cell_type": "code",
      "execution_count": null,
      "metadata": {
        "colab": {
          "base_uri": "https://localhost:8080/"
        },
        "id": "nCPRkIHBvzzl",
        "outputId": "319277bd-c492-404f-9662-fe438879c7ad"
      },
      "outputs": [
        {
          "output_type": "stream",
          "name": "stdout",
          "text": [
            "✅ Great job! Exercise completed successfully.\n"
          ]
        }
      ],
      "source": [
        "# Use the list of lists `matrix_data` to create a 2-dimensional NumPy array named `matrix`.\n",
        "@check_numpy_8\n",
        "def numpy_8(matrix_data):\n",
        "    # This line is mandatory and should not be removed.\n",
        "    ex_stat_init = True\n",
        "\n",
        "    # BELOW GOES YOUR CODE\n",
        "    matrix = np.array(matrix_data)\n",
        "    # ABOVE GOES YOUR CODE\n",
        "    return {\"matrix\": matrix}\n",
        "\n",
        "numpy_8()"
      ]
    },
    {
      "cell_type": "code",
      "execution_count": null,
      "metadata": {
        "colab": {
          "base_uri": "https://localhost:8080/"
        },
        "id": "kTramz1Rvzzl",
        "outputId": "5ab1f7cc-499f-4795-d884-2bc580b2474c"
      },
      "outputs": [
        {
          "output_type": "stream",
          "name": "stdout",
          "text": [
            "✅ Great job! Exercise completed successfully.\n"
          ]
        }
      ],
      "source": [
        "# Given a NumPy array `original_array` and the new shape tuple `new_shape`, reshape the array and store it in `reshaped_array`.\n",
        "@check_numpy_9\n",
        "def numpy_9(original_array, new_shape):\n",
        "    # This line is mandatory and should not be removed.\n",
        "    ex_stat_init = True\n",
        "\n",
        "    # BELOW GOES YOUR CODE\n",
        "    reshaped_array = original_array.reshape(new_shape)\n",
        "    # ABOVE GOES YOUR CODE\n",
        "    return {\"reshaped_array\": reshaped_array}\n",
        "\n",
        "numpy_9()"
      ]
    },
    {
      "cell_type": "code",
      "execution_count": null,
      "metadata": {
        "colab": {
          "base_uri": "https://localhost:8080/"
        },
        "id": "eOUXmUydvzzl",
        "outputId": "03ec3d2f-335b-4eb6-bf7d-a5ac5743e0a8"
      },
      "outputs": [
        {
          "output_type": "stream",
          "name": "stdout",
          "text": [
            "✅ Great job! Exercise completed successfully.\n"
          ]
        }
      ],
      "source": [
        "# Using NumPy's `arange`, generate an array named `range_array` from 0 to `end` with a step of `step`.\n",
        "@check_numpy_10\n",
        "def numpy_10(end, step):\n",
        "    # This line is mandatory and should not be removed.\n",
        "    ex_stat_init = True\n",
        "\n",
        "    # BELOW GOES YOUR CODE\n",
        "    range_array = np.arange( 0 , end , step )\n",
        "    # ABOVE GOES YOUR CODE\n",
        "    return {\"range_array\": range_array}\n",
        "\n",
        "numpy_10()"
      ]
    },
    {
      "cell_type": "code",
      "execution_count": null,
      "metadata": {
        "colab": {
          "base_uri": "https://localhost:8080/"
        },
        "id": "ySKyCV_Vvzzl",
        "outputId": "4e827796-eccd-4535-aa68-41ad1101ae39"
      },
      "outputs": [
        {
          "output_type": "stream",
          "name": "stdout",
          "text": [
            "✅ Great job! Exercise completed successfully.\n"
          ]
        }
      ],
      "source": [
        "# Use NumPy's `linspace` to create an array named `linspace_array` with `linspace` evenly spaced points between `start` and `stop`.\n",
        "@check_numpy_11\n",
        "def numpy_11(start, stop, num_points):\n",
        "    # This line is mandatory and should not be removed.\n",
        "    ex_stat_init = True\n",
        "\n",
        "    # BELOW GOES YOUR CODE\n",
        "    linspace_array = np.linspace(start, stop )\n",
        "    # ABOVE GOES YOUR CODE\n",
        "    return {\"linspace_array\": linspace_array}\n",
        "\n",
        "numpy_11()"
      ]
    },
    {
      "cell_type": "code",
      "execution_count": null,
      "metadata": {
        "colab": {
          "base_uri": "https://localhost:8080/"
        },
        "id": "ErZr5Tzbvzzm",
        "outputId": "53480de5-7673-4806-c225-d08ed0081525"
      },
      "outputs": [
        {
          "output_type": "stream",
          "name": "stdout",
          "text": [
            "✅ Great job! Exercise completed successfully.\n"
          ]
        }
      ],
      "source": [
        "# Create a NumPy array named `zero_array` with a shape specified by `shape` filled with zeros.\n",
        "@check_numpy_12\n",
        "def numpy_12(shape):\n",
        "    # This line is mandatory and should not be removed.\n",
        "    ex_stat_init = True\n",
        "\n",
        "    # BELOW GOES YOUR CODE\n",
        "    zero_array = np.zeros(shape)\n",
        "    # ABOVE GOES YOUR CODE\n",
        "    return {\"zero_array\": zero_array}\n",
        "\n",
        "numpy_12()"
      ]
    },
    {
      "cell_type": "code",
      "execution_count": null,
      "metadata": {
        "colab": {
          "base_uri": "https://localhost:8080/"
        },
        "id": "a4sEuxIVvzzm",
        "outputId": "c0a52bf6-e78a-41be-9994-41cd42f5447c"
      },
      "outputs": [
        {
          "output_type": "stream",
          "name": "stdout",
          "text": [
            "✅ Great job! Exercise completed successfully.\n"
          ]
        }
      ],
      "source": [
        "# Create a NumPy array named `ones_array` with a shape given by `shape` filled with ones.\n",
        "@check_numpy_13\n",
        "def numpy_13(shape):\n",
        "    # This line is mandatory and should not be removed.\n",
        "    ex_stat_init = True\n",
        "\n",
        "    # BELOW GOES YOUR CODE\n",
        "    ones_array = np.ones (shape)\n",
        "    # ABOVE GOES YOUR CODE\n",
        "    return {\"ones_array\": ones_array}\n",
        "\n",
        "numpy_13()"
      ]
    },
    {
      "cell_type": "code",
      "execution_count": null,
      "metadata": {
        "colab": {
          "base_uri": "https://localhost:8080/"
        },
        "id": "lvdpg0XCvzzm",
        "outputId": "b1ec1844-8928-49d0-b7f5-518190c1edc0"
      },
      "outputs": [
        {
          "output_type": "stream",
          "name": "stdout",
          "text": [
            "✅ Great job! Exercise completed successfully.\n"
          ]
        }
      ],
      "source": [
        "# Given a size `n`, generate an identity matrix named `identity_matrix` of size `n x n`.\n",
        "@check_numpy_14\n",
        "def numpy_14(n):\n",
        "    # This line is mandatory and should not be removed.\n",
        "    ex_stat_init = True\n",
        "\n",
        "    # BELOW GOES YOUR CODE\n",
        "    identity_matrix = np.identity(n)\n",
        "    # ABOVE GOES YOUR CODE\n",
        "    return {\"identity_matrix\": identity_matrix}\n",
        "\n",
        "numpy_14()"
      ]
    },
    {
      "cell_type": "code",
      "execution_count": null,
      "metadata": {
        "colab": {
          "base_uri": "https://localhost:8080/"
        },
        "id": "N8mRsbAJvzzm",
        "outputId": "1fea3267-fdc8-4af3-8a52-593ee7361c79"
      },
      "outputs": [
        {
          "output_type": "stream",
          "name": "stdout",
          "text": [
            "✅ Great job! Exercise completed successfully.\n"
          ]
        }
      ],
      "source": [
        "# Given a NumPy array `matrix_array`, extract its shape and assign it to `array_shape`.\n",
        "@check_numpy_15\n",
        "def numpy_15(matrix_array):\n",
        "    # This line is mandatory and should not be removed.\n",
        "    ex_stat_init = True\n",
        "\n",
        "    # BELOW GOES YOUR CODE\n",
        "    array_shape = np.shape(matrix_array)\n",
        "    # ABOVE GOES YOUR CODE\n",
        "    return {\"array_shape\": array_shape}\n",
        "\n",
        "numpy_15()"
      ]
    },
    {
      "cell_type": "code",
      "execution_count": null,
      "metadata": {
        "colab": {
          "base_uri": "https://localhost:8080/"
        },
        "id": "dv730Vs8vzzm",
        "outputId": "917db280-09c3-4591-effc-c879549651dc"
      },
      "outputs": [
        {
          "output_type": "stream",
          "name": "stdout",
          "text": [
            "✅ Great job! Exercise completed successfully.\n"
          ]
        }
      ],
      "source": [
        "# Determine the number of dimensions of the NumPy array `dim_array` and store it in `num_dimensions`.\n",
        "@check_numpy_16\n",
        "def numpy_16(dim_array):\n",
        "    # This line is mandatory and should not be removed.\n",
        "    ex_stat_init = True\n",
        "\n",
        "    # BELOW GOES YOUR CODE\n",
        "    num_dimensions = dim_array.ndim\n",
        "    # ABOVE GOES YOUR CODE\n",
        "    return {\"num_dimensions\": num_dimensions}\n",
        "\n",
        "numpy_16()"
      ]
    },
    {
      "cell_type": "code",
      "execution_count": null,
      "metadata": {
        "colab": {
          "base_uri": "https://localhost:8080/"
        },
        "id": "xQ1FV1iYvzzm",
        "outputId": "872eea5d-2227-4a3c-b793-8bd53a26f33d"
      },
      "outputs": [
        {
          "output_type": "stream",
          "name": "stdout",
          "text": [
            "✅ Great job! Exercise completed successfully.\n"
          ]
        }
      ],
      "source": [
        "# Calculate the total number of elements in the NumPy array `elements_array` and store it in `total_elements`.\n",
        "@check_numpy_17\n",
        "def numpy_17(elements_array):\n",
        "    # This line is mandatory and should not be removed.\n",
        "    ex_stat_init = True\n",
        "\n",
        "    # BELOW GOES YOUR CODE\n",
        "    total_elements = elements_array.size\n",
        "    # ABOVE GOES YOUR CODE\n",
        "    return {\"total_elements\": total_elements}\n",
        "\n",
        "numpy_17()"
      ]
    },
    {
      "cell_type": "code",
      "execution_count": null,
      "metadata": {
        "colab": {
          "base_uri": "https://localhost:8080/"
        },
        "id": "BWfiv3Ijvzzn",
        "outputId": "cccda53b-ef4d-46a8-e952-7adb2258f86d"
      },
      "outputs": [
        {
          "output_type": "stream",
          "name": "stdout",
          "text": [
            "✅ Great job! Exercise completed successfully.\n"
          ]
        }
      ],
      "source": [
        "# Assign the data type of elements in the NumPy array `type_array` to the variable `element_type`.\n",
        "@check_numpy_18\n",
        "def numpy_18(type_array):\n",
        "    # This line is mandatory and should not be removed.\n",
        "    ex_stat_init = True\n",
        "\n",
        "    # BELOW GOES YOUR CODE\n",
        "    element_type = type_array.dtype\n",
        "    # ABOVE GOES YOUR CODE\n",
        "    return {\"element_type\": element_type}\n",
        "\n",
        "numpy_18()"
      ]
    },
    {
      "cell_type": "code",
      "execution_count": null,
      "metadata": {
        "colab": {
          "base_uri": "https://localhost:8080/"
        },
        "id": "DCrhGhFGvzzn",
        "outputId": "62f89a26-2c46-4e20-b75c-552ea03a4e4d"
      },
      "outputs": [
        {
          "output_type": "stream",
          "name": "stdout",
          "text": [
            "✅ Great job! Exercise completed successfully.\n"
          ]
        }
      ],
      "source": [
        "# Compute the memory size (in bytes) of each element in the array `memory_array` and assign it to `element_size`.\n",
        "@check_numpy_19\n",
        "def numpy_19(memory_array):\n",
        "    # This line is mandatory and should not be removed.\n",
        "    ex_stat_init = True\n",
        "\n",
        "    # BELOW GOES YOUR CODE\n",
        "    element_size = memory_array.itemsize\n",
        "    # ABOVE GOES YOUR CODE\n",
        "    return {\"element_size\": element_size}\n",
        "\n",
        "numpy_19()"
      ]
    },
    {
      "cell_type": "code",
      "execution_count": null,
      "metadata": {
        "colab": {
          "base_uri": "https://localhost:8080/"
        },
        "id": "n3n7eFdvvzzn",
        "outputId": "47cd8061-c47d-47c0-94cb-b9b59eee9627"
      },
      "outputs": [
        {
          "output_type": "stream",
          "name": "stdout",
          "text": [
            "✅ Great job! Exercise completed successfully.\n"
          ]
        }
      ],
      "source": [
        "# Convert the integer NumPy array `int_array` to a float array and save it in `float_converted_array`.\n",
        "@check_numpy_20\n",
        "def numpy_20(int_array):\n",
        "    # This line is mandatory and should not be removed.\n",
        "    ex_stat_init = True\n",
        "\n",
        "    # BELOW GOES YOUR CODE\n",
        "    float_converted_array = np.int32(int_array)\n",
        "    # ABOVE GOES YOUR CODE\n",
        "    return {\"float_converted_array\": float_converted_array}\n",
        "\n",
        "numpy_20()"
      ]
    },
    {
      "cell_type": "code",
      "execution_count": null,
      "metadata": {
        "colab": {
          "base_uri": "https://localhost:8080/"
        },
        "id": "nsVQ8uDKvzzn",
        "outputId": "0038fe4b-5ee3-42dc-fb9d-5b907ae647c0"
      },
      "outputs": [
        {
          "output_type": "stream",
          "name": "stdout",
          "text": [
            "✅ Great job! Exercise completed successfully.\n"
          ]
        }
      ],
      "source": [
        "# Given a NumPy array `access_array` and an index `index`, assign the element at that index to `selected_element`.\n",
        "@check_numpy_21\n",
        "def numpy_21(access_array, index):\n",
        "    # This line is mandatory and should not be removed.\n",
        "    ex_stat_init = True\n",
        "\n",
        "    # BELOW GOES YOUR CODE\n",
        "    selected_element = access_array[index]\n",
        "    # ABOVE GOES YOUR CODE\n",
        "    return {\"selected_element\": selected_element}\n",
        "\n",
        "numpy_21()"
      ]
    },
    {
      "cell_type": "code",
      "execution_count": null,
      "metadata": {
        "colab": {
          "base_uri": "https://localhost:8080/"
        },
        "id": "iDhDv6PSvzzn",
        "outputId": "b132b9ca-aad3-4e13-99d0-05384611f0cf"
      },
      "outputs": [
        {
          "output_type": "stream",
          "name": "stdout",
          "text": [
            "✅ Great job! Exercise completed successfully.\n"
          ]
        }
      ],
      "source": [
        "# Given a NumPy array `slicce_array`, extract a slice using `start` and `end` indices, and store it in `sliced_array`.\n",
        "@check_numpy_22\n",
        "def numpy_22(slice_array, start, end):\n",
        "    # This line is mandatory and should not be removed.\n",
        "    ex_stat_init = True\n",
        "\n",
        "    # BELOW GOES YOUR CODE\n",
        "    sliced_array = slice_array[start: end]\n",
        "    # ABOVE GOES YOUR CODE\n",
        "    return {\"sliced_array\": sliced_array}\n",
        "\n",
        "numpy_22()"
      ]
    },
    {
      "cell_type": "code",
      "execution_count": null,
      "metadata": {
        "colab": {
          "base_uri": "https://localhost:8080/"
        },
        "id": "sBiIKS_7vzzn",
        "outputId": "d0b84ab6-83e7-44f2-e39e-be585fc21bdc"
      },
      "outputs": [
        {
          "output_type": "stream",
          "name": "stdout",
          "text": [
            "[1 2 3 4 5]\n",
            "[ 6  7  8  9 10]\n",
            "[10 20 30 40 50]\n",
            "[15 25 35 45 55]\n",
            "[100 200 300 400 500]\n",
            "[105 205 305 405 505]\n",
            "✅ Great job! Exercise completed successfully.\n"
          ]
        }
      ],
      "source": [
        "# Increase each element of `one_d_array` by 5 and store the result in `increased_array`.\n",
        "@check_numpy_23\n",
        "def numpy_23(one_d_array):\n",
        "    # This line is mandatory and should not be removed.\n",
        "    ex_stat_init = True\n",
        "\n",
        "    # BELOW GOES YOUR CODE\n",
        "    increased_array = one_d_array + 5\n",
        "    # ABOVE GOES YOUR CODE\n",
        "    return {\"increased_array\": increased_array}\n",
        "\n",
        "numpy_23()"
      ]
    },
    {
      "cell_type": "code",
      "execution_count": null,
      "metadata": {
        "colab": {
          "base_uri": "https://localhost:8080/"
        },
        "id": "locbntgTvzzn",
        "outputId": "b0688125-17d1-4a25-b9d6-9554bcb27ad2"
      },
      "outputs": [
        {
          "output_type": "stream",
          "name": "stdout",
          "text": [
            "✅ Great job! Exercise completed successfully.\n"
          ]
        }
      ],
      "source": [
        "# Double the values in the 2D array `multi_d_array` and save it in `doubled_array`.\n",
        "@check_numpy_24\n",
        "def numpy_24(multi_d_array):\n",
        "    # This line is mandatory and should not be removed.\n",
        "    ex_stat_init = True\n",
        "\n",
        "    # BELOW GOES YOUR CODE\n",
        "    doubled_array = multi_d_array *2\n",
        "    # ABOVE GOES YOUR CODE\n",
        "    return {\"doubled_array\": doubled_array}\n",
        "\n",
        "numpy_24()"
      ]
    },
    {
      "cell_type": "code",
      "execution_count": null,
      "metadata": {
        "id": "6kyUEEg1vzzo",
        "outputId": "d50c201b-2e26-472f-8633-65362e0dcf4e",
        "colab": {
          "base_uri": "https://localhost:8080/"
        }
      },
      "outputs": [
        {
          "output_type": "stream",
          "name": "stdout",
          "text": [
            "✅ Great job! Exercise completed successfully.\n"
          ]
        }
      ],
      "source": [
        "# Given a NumPy array `mask_array` and a `mask_value`, create `filtered_array` containing only the elements of `mask_array` that are greater than `mask_value`.\n",
        "@check_numpy_25\n",
        "def numpy_25(mask_array, mask_value):\n",
        "    # This line is mandatory and should not be removed.\n",
        "    ex_stat_init = True\n",
        "\n",
        "    # BELOW GOES YOUR CODE\n",
        "    filtered_array =[]\n",
        "    mask_array = np.array(mask_array)\n",
        "    filtered_array = mask_array[mask_array > mask_value]\n",
        "    # ABOVE GOES YOUR CODE\n",
        "    return {\"filtered_array\": filtered_array}\n",
        "\n",
        "numpy_25()"
      ]
    },
    {
      "cell_type": "code",
      "execution_count": null,
      "metadata": {
        "id": "svRL42aIvzzo",
        "outputId": "da868e36-b1ad-4b07-cfaa-ddc1597c4191",
        "colab": {
          "base_uri": "https://localhost:8080/"
        }
      },
      "outputs": [
        {
          "output_type": "stream",
          "name": "stdout",
          "text": [
            "✅ Great job! Exercise completed successfully.\n"
          ]
        }
      ],
      "source": [
        "# Apply masking to the 2D array `multi_mask_array` that keeps all elements greater than the 'condition_value' and store the satisfying elements in `masked_array_2d`.\n",
        "@check_numpy_26\n",
        "def numpy_26(multi_mask_array, condition_value):\n",
        "    # This line is mandatory and should not be removed.\n",
        "    ex_stat_init = True\n",
        "\n",
        "    # BELOW GOES YOUR CODE\n",
        "    # print (\"multi_mask_array = \",multi_mask_array)\n",
        "    # multi_mask_array = np.asarray(multi_mask_array)\n",
        "    # print(\"mask_array=\", multi_mask_array)\n",
        "    masked_array_2d =  multi_mask_array[multi_mask_array > condition_value]\n",
        "\n",
        "\n",
        "    # ABOVE GOES YOUR CODE\n",
        "    return {\"masked_array_2d\": masked_array_2d}\n",
        "\n",
        "numpy_26()"
      ]
    },
    {
      "cell_type": "code",
      "execution_count": null,
      "metadata": {
        "id": "ceDI3JJSvzzo",
        "outputId": "3c96a4a6-cb52-4a9d-bf83-564ca198c838",
        "colab": {
          "base_uri": "https://localhost:8080/"
        }
      },
      "outputs": [
        {
          "output_type": "stream",
          "name": "stdout",
          "text": [
            "✅ Great job! Exercise completed successfully.\n"
          ]
        }
      ],
      "source": [
        "# Calculate the sum of elements for each column of a 2D array `sum_2d_array` and store it in `column_sums`.\n",
        "@check_numpy_27\n",
        "def numpy_27(sum_2d_array):\n",
        "    # This line is mandatory and should not be removed.\n",
        "    ex_stat_init = True\n",
        "\n",
        "    # BELOW GOES YOUR CODE\n",
        "    column_sums = np.sum(sum_2d_array, axis = 1)\n",
        "    # ABOVE GOES YOUR CODE\n",
        "    return {\"column_sums\": column_sums}\n",
        "\n",
        "numpy_27()"
      ]
    },
    {
      "cell_type": "code",
      "execution_count": null,
      "metadata": {
        "id": "6zukCYRyvzzo",
        "outputId": "e288683e-5377-45d2-9e92-0aea1d475415",
        "colab": {
          "base_uri": "https://localhost:8080/"
        }
      },
      "outputs": [
        {
          "output_type": "stream",
          "name": "stdout",
          "text": [
            "✅ Great job! Exercise completed successfully.\n"
          ]
        }
      ],
      "source": [
        "# Find the minimum value in the NumPy array `min_array` and assign it to `min_value`.\n",
        "@check_numpy_28\n",
        "def numpy_28(min_array):\n",
        "    # This line is mandatory and should not be removed.\n",
        "    ex_stat_init = True\n",
        "\n",
        "    # BELOW GOES YOUR CODE\n",
        "    min_value = np.min(min_array)\n",
        "    # ABOVE GOES YOUR CODE\n",
        "    return {\"min_value\": min_value}\n",
        "\n",
        "numpy_28()"
      ]
    },
    {
      "cell_type": "code",
      "execution_count": null,
      "metadata": {
        "id": "wEN_M0oZvzzo",
        "outputId": "1bfa14b9-e451-44d4-adc0-e101427e6fec",
        "colab": {
          "base_uri": "https://localhost:8080/"
        }
      },
      "outputs": [
        {
          "output_type": "stream",
          "name": "stdout",
          "text": [
            "✅ Great job! Exercise completed successfully.\n"
          ]
        }
      ],
      "source": [
        "# Find the maximum value in the NumPy array `max_array` and assign it to `max_value`.\n",
        "@check_numpy_29\n",
        "def numpy_29(max_array):\n",
        "    # This line is mandatory and should not be removed.\n",
        "    ex_stat_init = True\n",
        "\n",
        "    # BELOW GOES YOUR CODE\n",
        "    max_value = np.max(max_array)\n",
        "    # ABOVE GOES YOUR CODE\n",
        "    return {\"max_value\": max_value}\n",
        "\n",
        "numpy_29()"
      ]
    },
    {
      "cell_type": "code",
      "execution_count": null,
      "metadata": {
        "id": "GxNg9PiCvzzo",
        "outputId": "d750111e-9d9d-4586-9414-5448e83d5540",
        "colab": {
          "base_uri": "https://localhost:8080/"
        }
      },
      "outputs": [
        {
          "output_type": "stream",
          "name": "stdout",
          "text": [
            "✅ Great job! Exercise completed successfully.\n"
          ]
        }
      ],
      "source": [
        "# Calculate the mean of `mean_array` and store it in `mean_value`.\n",
        "@check_numpy_30\n",
        "def numpy_30(mean_array):\n",
        "    # This line is mandatory and should not be removed.\n",
        "    ex_stat_init = True\n",
        "\n",
        "    # BELOW GOES YOUR CODE\n",
        "    mean_value = np.mean(mean_array)\n",
        "    # ABOVE GOES YOUR CODE\n",
        "    return {\"mean_value\": mean_value}\n",
        "\n",
        "numpy_30()"
      ]
    },
    {
      "cell_type": "code",
      "execution_count": null,
      "metadata": {
        "id": "u3D7Kwohvzzo",
        "outputId": "888df7e7-9569-42e8-b249-75eee736eddc",
        "colab": {
          "base_uri": "https://localhost:8080/"
        }
      },
      "outputs": [
        {
          "output_type": "stream",
          "name": "stdout",
          "text": [
            "✅ Great job! Exercise completed successfully.\n"
          ]
        }
      ],
      "source": [
        "# Calculate the standard deviation of the NumPy array `std_array` and assign it to `std_dev`.\n",
        "@check_numpy_31\n",
        "def numpy_31(std_array):\n",
        "    # This line is mandatory and should not be removed.\n",
        "    ex_stat_init = True\n",
        "\n",
        "    # BELOW GOES YOUR CODE\n",
        "    std_dev = np.std (std_array)\n",
        "    # ABOVE GOES YOUR CODE\n",
        "    return {\"std_dev\": std_dev}\n",
        "\n",
        "numpy_31()"
      ]
    },
    {
      "cell_type": "code",
      "execution_count": null,
      "metadata": {
        "id": "1Fb9l9Dzvzzo",
        "outputId": "fa60c434-4606-475f-dbc6-2d8f78795646",
        "colab": {
          "base_uri": "https://localhost:8080/"
        }
      },
      "outputs": [
        {
          "output_type": "stream",
          "name": "stdout",
          "text": [
            "✅ Great job! Exercise completed successfully.\n"
          ]
        }
      ],
      "source": [
        "# Compute the square root of each element in `sqrt_array` using `np.sqrt()` and save the result in `sqrt_result`.\n",
        "@check_numpy_32\n",
        "def numpy_32(sqrt_array):\n",
        "    # This line is mandatory and should not be removed.\n",
        "    ex_stat_init = True\n",
        "\n",
        "    # BELOW GOES YOUR CODE\n",
        "    sqrt_result = np.sqrt(sqrt_array)\n",
        "    # ABOVE GOES YOUR CODE\n",
        "    return {\"sqrt_result\": sqrt_result}\n",
        "\n",
        "numpy_32()"
      ]
    },
    {
      "cell_type": "code",
      "execution_count": null,
      "metadata": {
        "id": "Fj_BPYVTvzzp",
        "outputId": "c8460e88-5727-4d35-edab-2df9abb57701",
        "colab": {
          "base_uri": "https://localhost:8080/"
        }
      },
      "outputs": [
        {
          "output_type": "stream",
          "name": "stdout",
          "text": [
            "✅ Great job! Exercise completed successfully.\n"
          ]
        }
      ],
      "source": [
        "# Calculate the exponential of each element in `exp_array` with `np.exp()` and store it in `exp_result`.\n",
        "@check_numpy_33\n",
        "def numpy_33(exp_array):\n",
        "    # This line is mandatory and should not be removed.\n",
        "    ex_stat_init = True\n",
        "\n",
        "    # BELOW GOES YOUR CODE\n",
        "    exp_result= np.exp(exp_array)\n",
        "    # ABOVE GOES YOUR CODE\n",
        "    return {\"exp_result\": exp_result}\n",
        "\n",
        "numpy_33()"
      ]
    },
    {
      "cell_type": "code",
      "execution_count": null,
      "metadata": {
        "id": "Bc789qMVvzzp",
        "outputId": "967d2185-dad5-4b14-97ce-720a7a5bc70b",
        "colab": {
          "base_uri": "https://localhost:8080/"
        }
      },
      "outputs": [
        {
          "output_type": "stream",
          "name": "stdout",
          "text": [
            "✅ Great job! Exercise completed successfully.\n"
          ]
        }
      ],
      "source": [
        "# Compute the natural logarithm of each element in `log_array` with `np.log()` and save it in `log_result`.\n",
        "@check_numpy_34\n",
        "def numpy_34(log_array):\n",
        "    # This line is mandatory and should not be removed.\n",
        "    ex_stat_init = True\n",
        "\n",
        "    # BELOW GOES YOUR CODE\n",
        "    log_result = np.log(log_array)\n",
        "    # ABOVE GOES YOUR CODE\n",
        "    return {\"log_result\": log_result}\n",
        "\n",
        "numpy_34()"
      ]
    },
    {
      "cell_type": "code",
      "execution_count": null,
      "metadata": {
        "id": "1n2QeZUlvzzp",
        "outputId": "324d34f3-1441-40d3-c29d-c0fe8c7b8718",
        "colab": {
          "base_uri": "https://localhost:8080/"
        }
      },
      "outputs": [
        {
          "output_type": "stream",
          "name": "stdout",
          "text": [
            "✅ Great job! Exercise completed successfully.\n"
          ]
        }
      ],
      "source": [
        "# Calculate the sine of each element in `sin_array` using `np.sin()` and store the result in `sin_result`.\n",
        "@check_numpy_35\n",
        "def numpy_35(sin_array):\n",
        "    # This line is mandatory and should not be removed.\n",
        "    ex_stat_init = True\n",
        "\n",
        "    # BELOW GOES YOUR CODE\n",
        "    sin_result = np.sin(sin_array)\n",
        "    # ABOVE GOES YOUR CODE\n",
        "    return {\"sin_result\": sin_result}\n",
        "\n",
        "numpy_35()"
      ]
    },
    {
      "cell_type": "code",
      "execution_count": null,
      "metadata": {
        "id": "uHu9Z_rpvzzp",
        "outputId": "77084919-c47b-4a2c-a03a-2f620ba17923",
        "colab": {
          "base_uri": "https://localhost:8080/"
        }
      },
      "outputs": [
        {
          "output_type": "stream",
          "name": "stdout",
          "text": [
            "✅ Great job! Exercise completed successfully.\n"
          ]
        }
      ],
      "source": [
        "# Compute the cosine of `cos_array` with `np.cos()` and save it in `cos_result`.\n",
        "@check_numpy_36\n",
        "def numpy_36(cos_array):\n",
        "    # This line is mandatory and should not be removed.\n",
        "    ex_stat_init = True\n",
        "\n",
        "    # BELOW GOES YOUR CODE\n",
        "    cos_result = np.cos(cos_array)\n",
        "    # ABOVE GOES YOUR CODE\n",
        "    return {\"cos_result\": cos_result}\n",
        "\n",
        "numpy_36()"
      ]
    },
    {
      "cell_type": "code",
      "execution_count": null,
      "metadata": {
        "id": "kIsJVGQRvzzp",
        "outputId": "58c65f3d-4cc7-4f7a-defd-38aa9b140734",
        "colab": {
          "base_uri": "https://localhost:8080/"
        }
      },
      "outputs": [
        {
          "output_type": "stream",
          "name": "stdout",
          "text": [
            "✅ Great job! Exercise completed successfully.\n"
          ]
        }
      ],
      "source": [
        "# Calculate the tangent of each element in `tan_array` using `np.tan()` and save it in `tan_result`.\n",
        "@check_numpy_37\n",
        "def numpy_37(tan_array):\n",
        "    # This line is mandatory and should not be removed.\n",
        "    ex_stat_init = True\n",
        "\n",
        "    # BELOW GOES YOUR CODE\n",
        "    tan_result = np.tan(tan_array)\n",
        "    # ABOVE GOES YOUR CODE\n",
        "    return {\"tan_result\": tan_result}\n",
        "\n",
        "numpy_37()"
      ]
    },
    {
      "cell_type": "code",
      "execution_count": null,
      "metadata": {
        "id": "9Ibe-Qt8vzzp",
        "outputId": "1f877594-d96b-4f58-ff62-012fb7674553",
        "colab": {
          "base_uri": "https://localhost:8080/"
        }
      },
      "outputs": [
        {
          "output_type": "stream",
          "name": "stdout",
          "text": [
            "✅ Great job! Exercise completed successfully.\n"
          ]
        }
      ],
      "source": [
        "# Transpose the 2D array `transpose_array` using `np.transpose()` and store in `transposed_array`.\n",
        "@check_numpy_38\n",
        "def numpy_38(transpose_array):\n",
        "    # This line is mandatory and should not be removed.\n",
        "    ex_stat_init = True\n",
        "\n",
        "    # BELOW GOES YOUR CODE\n",
        "    transposed_array = np.transpose(transpose_array)\n",
        "    # ABOVE GOES YOUR CODE\n",
        "    return {\"transposed_array\": transposed_array}\n",
        "\n",
        "numpy_38()"
      ]
    },
    {
      "cell_type": "code",
      "execution_count": null,
      "metadata": {
        "id": "g62-pu44vzzu",
        "outputId": "fc2777e3-4000-41b9-a7df-7ec618cc39e6",
        "colab": {
          "base_uri": "https://localhost:8080/"
        }
      },
      "outputs": [
        {
          "output_type": "stream",
          "name": "stdout",
          "text": [
            "✅ Great job! Exercise completed successfully.\n"
          ]
        }
      ],
      "source": [
        "# Compute the dot product of `vector1` and `vector2` using `np.dot()` and assign the result to `dot_product_result`.\n",
        "@check_numpy_39\n",
        "def numpy_39(vector1, vector2):\n",
        "    # This line is mandatory and should not be removed.\n",
        "    ex_stat_init = True\n",
        "\n",
        "    # BELOW GOES YOUR CODE\n",
        "    dot_product_result = np.dot(vector1, vector2 )\n",
        "    # ABOVE GOES YOUR CODE\n",
        "    return {\"dot_product_result\": dot_product_result}\n",
        "\n",
        "numpy_39()"
      ]
    },
    {
      "cell_type": "code",
      "execution_count": null,
      "metadata": {
        "id": "k8qn2XIrvzzu",
        "outputId": "205e399f-0d1b-4c97-cee3-b63ddcb74a8a",
        "colab": {
          "base_uri": "https://localhost:8080/"
        }
      },
      "outputs": [
        {
          "output_type": "stream",
          "name": "stdout",
          "text": [
            "✅ Great job! Exercise completed successfully.\n"
          ]
        }
      ],
      "source": [
        "# Calculate the inverse of the square matrix `square_matrix` using `np.linalg.inv()` and store it in `inverse_matrix`.\n",
        "@check_numpy_40\n",
        "def numpy_40(square_matrix):\n",
        "    # This line is mandatory and should not be removed.\n",
        "    ex_stat_init = True\n",
        "\n",
        "    # BELOW GOES YOUR CODE\n",
        "    inverse_matrix = np.linalg.inv(square_matrix)\n",
        "    # ABOVE GOES YOUR CODE\n",
        "    return {\"inverse_matrix\": inverse_matrix}\n",
        "\n",
        "numpy_40()"
      ]
    },
    {
      "cell_type": "code",
      "execution_count": null,
      "metadata": {
        "id": "XpLk-FYfvzzu",
        "outputId": "35bd3c04-9e9f-4b49-9299-9cc05c7c2413",
        "colab": {
          "base_uri": "https://localhost:8080/"
        }
      },
      "outputs": [
        {
          "output_type": "stream",
          "name": "stdout",
          "text": [
            "✅ Great job! Exercise completed successfully.\n"
          ]
        }
      ],
      "source": [
        "# Find the determinant of the square matrix `det_matrix` using `np.linalg.det()` and assign it to `determinant_value`.\n",
        "@check_numpy_41\n",
        "def numpy_41(det_matrix):\n",
        "    # This line is mandatory and should not be removed.\n",
        "    ex_stat_init = True\n",
        "\n",
        "    # BELOW GOES YOUR CODE\n",
        "    determinant_value = np.linalg.det(det_matrix)\n",
        "    # ABOVE GOES YOUR CODE\n",
        "    return {\"determinant_value\": determinant_value}\n",
        "\n",
        "numpy_41()"
      ]
    },
    {
      "cell_type": "code",
      "execution_count": null,
      "metadata": {
        "id": "XRkGtjmrvzzu",
        "outputId": "9159f8de-6951-4ab0-f271-74eadf8a2987",
        "colab": {
          "base_uri": "https://localhost:8080/"
        }
      },
      "outputs": [
        {
          "output_type": "stream",
          "name": "stdout",
          "text": [
            "✅ Great job! Exercise completed successfully.\n"
          ]
        }
      ],
      "source": [
        "# Concatenate `array_x` and `array_y` vertically using `np.concatenate()` and save the result in `concat_vertical`.\n",
        "@check_numpy_42\n",
        "def numpy_42(array_x, array_y):\n",
        "    # This line is mandatory and should not be removed.\n",
        "    ex_stat_init = True\n",
        "\n",
        "    # BELOW GOES YOUR CODE\n",
        "    concat_vertical = np.concatenate([array_x, array_y], axis=0)\n",
        "    # ABOVE GOES YOUR CODE\n",
        "    return {\"concat_vertical\": concat_vertical}\n",
        "\n",
        "numpy_42()"
      ]
    },
    {
      "cell_type": "code",
      "execution_count": null,
      "metadata": {
        "id": "WXSwfcOavzzv",
        "outputId": "59b5501f-bd6c-4395-af38-3c9c71480be0",
        "colab": {
          "base_uri": "https://localhost:8080/"
        }
      },
      "outputs": [
        {
          "output_type": "stream",
          "name": "stdout",
          "text": [
            "✅ Great job! Exercise completed successfully.\n"
          ]
        }
      ],
      "source": [
        "# Stack `stack_array1` and `stack_array2` horizontally using `np.hstack()` and assign it to `stacked_horizontal`.\n",
        "@check_numpy_43\n",
        "def numpy_43(stack_array1, stack_array2):\n",
        "    # This line is mandatory and should not be removed.\n",
        "    ex_stat_init = True\n",
        "\n",
        "    # BELOW GOES YOUR CODE\n",
        "    stacked_horizontal = np.hstack([stack_array1, stack_array2])\n",
        "    # ABOVE GOES YOUR CODE\n",
        "    return {\"stacked_horizontal\": stacked_horizontal}\n",
        "\n",
        "numpy_43()"
      ]
    },
    {
      "cell_type": "code",
      "execution_count": null,
      "metadata": {
        "id": "cOAbzw6Avzzv",
        "outputId": "6d847832-edbf-4cc9-ffa0-e8c3a89539a0",
        "colab": {
          "base_uri": "https://localhost:8080/"
        }
      },
      "outputs": [
        {
          "output_type": "stream",
          "name": "stdout",
          "text": [
            "✅ Great job! Exercise completed successfully.\n"
          ]
        }
      ],
      "source": [
        "# Add a scalar `scalar_value` to each element of `broadcast_array` using broadcasting and store in `broadcast_result`.\n",
        "@check_numpy_44\n",
        "def numpy_44(broadcast_array, scalar_value):\n",
        "    # This line is mandatory and should not be removed.\n",
        "    ex_stat_init = True\n",
        "\n",
        "    # BELOW GOES YOUR CODE\n",
        "    broadcast_result = broadcast_array + scalar_value\n",
        "    # ABOVE GOES YOUR CODE\n",
        "    return {\"broadcast_result\": broadcast_result}\n",
        "\n",
        "numpy_44()"
      ]
    },
    {
      "cell_type": "code",
      "execution_count": null,
      "metadata": {
        "id": "FpYaEv3Fvzzv",
        "outputId": "3421898c-ed69-4347-fc64-bf97d6a0f5b5",
        "colab": {
          "base_uri": "https://localhost:8080/"
        }
      },
      "outputs": [
        {
          "output_type": "stream",
          "name": "stdout",
          "text": [
            "✅ Great job! Exercise completed successfully.\n"
          ]
        }
      ],
      "source": [
        "# Given a 1D array `small_array` and a 2D array `large_array`, utilize broadcasting to add them and store the result in `broadcast_sum`.\n",
        "@check_numpy_45\n",
        "def numpy_45(small_array, large_array):\n",
        "    # This line is mandatory and should not be removed.\n",
        "    ex_stat_init = True\n",
        "\n",
        "    # BELOW GOES YOUR CODE\n",
        "    broadcast_sum = small_array + large_array\n",
        "    # ABOVE GOES YOUR CODE\n",
        "    return {\"broadcast_sum\": broadcast_sum}\n",
        "\n",
        "numpy_45()"
      ]
    },
    {
      "cell_type": "code",
      "execution_count": null,
      "metadata": {
        "id": "hCwuQ3nwvzzv",
        "outputId": "39fdb11a-0d15-4e2f-fce1-ad1dc2a07d0c",
        "colab": {
          "base_uri": "https://localhost:8080/"
        }
      },
      "outputs": [
        {
          "output_type": "stream",
          "name": "stdout",
          "text": [
            "✅ Great job! Exercise completed successfully.\n"
          ]
        }
      ],
      "source": [
        "# Subtract a scalar value `scalar_sub` from each element of `two_d_array`.\n",
        "@check_numpy_46\n",
        "def numpy_46(two_d_array, scalar_sub):\n",
        "    # This line is mandatory and should not be removed.\n",
        "    ex_stat_init = True\n",
        "\n",
        "    # BELOW GOES YOUR CODE\n",
        "    two_d_array = two_d_array - scalar_sub\n",
        "    # ABOVE GOES YOUR CODE\n",
        "    return {\"two_d_array\": two_d_array}\n",
        "\n",
        "numpy_46()"
      ]
    },
    {
      "cell_type": "code",
      "execution_count": null,
      "metadata": {
        "id": "J2lYYL4Jvzzv",
        "outputId": "dde20816-ab4e-4f36-a815-2275ce7dfb64",
        "colab": {
          "base_uri": "https://localhost:8080/"
        }
      },
      "outputs": [
        {
          "output_type": "stream",
          "name": "stdout",
          "text": [
            "✅ Great job! Exercise completed successfully.\n"
          ]
        }
      ],
      "source": [
        "# Given dimensions `dim1`, `dim2`, and `dim3`, create a 3D NumPy array named `random_int_array` containing random integers between 0 and 10.\n",
        "@check_numpy_47\n",
        "def numpy_47(dim1, dim2, dim3):\n",
        "    # This line is mandatory and should not be removed.\n",
        "    ex_stat_init = True\n",
        "\n",
        "    # BELOW GOES YOUR CODE\n",
        "    random_int_array = np.random.randint (0,10,(dim1, dim2, dim3 ))\n",
        "    # ABOVE GOES YOUR CODE\n",
        "    return {\"random_int_array\": random_int_array}\n",
        "\n",
        "numpy_47()"
      ]
    },
    {
      "cell_type": "code",
      "execution_count": null,
      "metadata": {
        "id": "NmFW89RDvzzv",
        "outputId": "de37cc5a-85c9-4ab7-ed15-503590df025e",
        "colab": {
          "base_uri": "https://localhost:8080/"
        }
      },
      "outputs": [
        {
          "output_type": "stream",
          "name": "stdout",
          "text": [
            "✅ Great job! Exercise completed successfully.\n"
          ]
        }
      ],
      "source": [
        "# Convert the 2D array `multi_array` into a 1D array named `flattened`.\n",
        "@check_numpy_48\n",
        "def numpy_48(multi_array):\n",
        "    # This line is mandatory and should not be removed.\n",
        "    ex_stat_init = True\n",
        "\n",
        "    # BELOW GOES YOUR CODE\n",
        "    flattened = multi_array.ravel()\n",
        "    # ABOVE GOES YOUR CODE\n",
        "    return {\"flattened\": flattened}\n",
        "\n",
        "numpy_48()"
      ]
    },
    {
      "cell_type": "code",
      "execution_count": null,
      "metadata": {
        "id": "dA3YKMK8vzzw",
        "outputId": "26516910-8254-4c56-f11a-070de6d3eb03",
        "colab": {
          "base_uri": "https://localhost:8080/"
        }
      },
      "outputs": [
        {
          "output_type": "stream",
          "name": "stdout",
          "text": [
            "✅ Great job! Exercise completed successfully.\n"
          ]
        }
      ],
      "source": [
        "# Given a NumPy array `nonzero_array`, use `np.nonzero()` to find indices of non-zero elements and assign them to `nonzero_indices`.\n",
        "@check_numpy_49\n",
        "def numpy_49(nonzero_array):\n",
        "    # This line is mandatory and should not be removed.\n",
        "    ex_stat_init = True\n",
        "\n",
        "    # BELOW GOES YOUR CODE\n",
        "    nonzero_indices = np.nonzero(nonzero_array)\n",
        "    # ABOVE GOES YOUR CODE\n",
        "    return {\"nonzero_indices\": nonzero_indices}\n",
        "\n",
        "numpy_49()"
      ]
    },
    {
      "cell_type": "code",
      "execution_count": null,
      "metadata": {
        "id": "DjFeMGJ5vzzw",
        "outputId": "797c372e-5ef7-43e5-f381-42f6e9515aeb",
        "colab": {
          "base_uri": "https://localhost:8080/"
        }
      },
      "outputs": [
        {
          "output_type": "stream",
          "name": "stdout",
          "text": [
            "✅ Great job! Exercise completed successfully.\n"
          ]
        }
      ],
      "source": [
        "# Create a diagonal matrix `diagonal_matrix` with the given 1D array `diag_elements` using `np.diag()`.\n",
        "@check_numpy_50\n",
        "def numpy_50(diag_elements):\n",
        "    # This line is mandatory and should not be removed.\n",
        "    ex_stat_init = True\n",
        "\n",
        "    # BELOW GOES YOUR CODE\n",
        "    diagonal_matrix = np.diag(diag_elements)\n",
        "    # ABOVE GOES YOUR CODE\n",
        "    return {\"diagonal_matrix\": diagonal_matrix}\n",
        "\n",
        "numpy_50()"
      ]
    },
    {
      "cell_type": "code",
      "execution_count": null,
      "metadata": {
        "id": "qeT9HwqZvzzw",
        "outputId": "7c1719a0-e6cc-41c3-b26b-04f5000b709b"
      },
      "outputs": [
        {
          "name": "stdout",
          "output_type": "stream",
          "text": [
            "❗ The implementation is incorrect or the exercise was not implemented.\n"
          ]
        }
      ],
      "source": [
        "# Update values in `conditional_array` to `new_value` where the condition `np.where_condition` is satisfied, and save it in `updated_array`.\n",
        "@check_numpy_51\n",
        "def numpy_51(conditional_array, np_where_condition, new_value):\n",
        "    # This line is mandatory and should not be removed.\n",
        "    ex_stat_init = True\n",
        "\n",
        "    # BELOW GOES YOUR CODE\n",
        "\n",
        "    # ABOVE GOES YOUR CODE\n",
        "    return {\"updated_array\": updated_array}\n",
        "\n",
        "numpy_51()"
      ]
    },
    {
      "cell_type": "code",
      "execution_count": null,
      "metadata": {
        "id": "PK0c0RgNvzzw",
        "outputId": "1bf566c4-60e1-4ffe-b213-19c8e5ab9894",
        "colab": {
          "base_uri": "https://localhost:8080/"
        }
      },
      "outputs": [
        {
          "output_type": "stream",
          "name": "stdout",
          "text": [
            "✅ Great job! Exercise completed successfully.\n"
          ]
        }
      ],
      "source": [
        "# Given two arrays `max_array_a` and `max_array_b`, compute the element-wise maximum and store it in `element_max`.\n",
        "@check_numpy_52\n",
        "def numpy_52(max_array_a, max_array_b):\n",
        "    # This line is mandatory and should not be removed.\n",
        "    ex_stat_init = True\n",
        "\n",
        "    # BELOW GOES YOUR CODE\n",
        "    element_max = np.maximum(max_array_a, max_array_b)\n",
        "    # ABOVE GOES YOUR CODE\n",
        "    return {\"element_max\": element_max}\n",
        "\n",
        "numpy_52()"
      ]
    },
    {
      "cell_type": "code",
      "execution_count": null,
      "metadata": {
        "id": "zyRCiSikvzzw",
        "outputId": "b9875baf-0e15-4caf-b0f0-4ff035fe4a39",
        "colab": {
          "base_uri": "https://localhost:8080/"
        }
      },
      "outputs": [
        {
          "output_type": "stream",
          "name": "stdout",
          "text": [
            "✅ Great job! Exercise completed successfully.\n"
          ]
        }
      ],
      "source": [
        "# Calculate the cumulative sum of elements in `cumsum_array` and assign it to `cumulative_sum`.\n",
        "@check_numpy_53\n",
        "def numpy_53(cumsum_array):\n",
        "    # This line is mandatory and should not be removed.\n",
        "    ex_stat_init = True\n",
        "\n",
        "    # BELOW GOES YOUR CODE\n",
        "    cumulative_sum = np.cumsum(cumsum_array)\n",
        "    # ABOVE GOES YOUR CODE\n",
        "    return {\"cumulative_sum\": cumulative_sum}\n",
        "\n",
        "numpy_53()"
      ]
    },
    {
      "cell_type": "code",
      "execution_count": null,
      "metadata": {
        "id": "dLMjI4a1vzzw",
        "outputId": "134c1561-de33-4541-8200-ceeb4b82a657",
        "colab": {
          "base_uri": "https://localhost:8080/"
        }
      },
      "outputs": [
        {
          "output_type": "stream",
          "name": "stdout",
          "text": [
            "✅ Great job! Exercise completed successfully.\n"
          ]
        }
      ],
      "source": [
        "# Extract unique elements from the NumPy array `unique_array` and store them in `unique_elements`.\n",
        "@check_numpy_54\n",
        "def numpy_54(unique_array):\n",
        "    # This line is mandatory and should not be removed.\n",
        "    ex_stat_init = True\n",
        "\n",
        "    # BELOW GOES YOUR CODE\n",
        "    unique_elements = np.unique(unique_array)\n",
        "    # ABOVE GOES YOUR CODE\n",
        "    return {\"unique_elements\": unique_elements}\n",
        "\n",
        "numpy_54()"
      ]
    },
    {
      "cell_type": "code",
      "execution_count": null,
      "metadata": {
        "id": "Fpx8fVAKvzzw",
        "outputId": "6b9ce652-99c2-42df-8eba-f5c43374f8f7",
        "colab": {
          "base_uri": "https://localhost:8080/"
        }
      },
      "outputs": [
        {
          "output_type": "stream",
          "name": "stdout",
          "text": [
            "✅ Great job! Exercise completed successfully.\n"
          ]
        }
      ],
      "source": [
        "# Sort the array `sort_array` in ascending order and assign it to `sorted_array`.\n",
        "@check_numpy_55\n",
        "def numpy_55(sort_array):\n",
        "    # This line is mandatory and should not be removed.\n",
        "    ex_stat_init = True\n",
        "\n",
        "    # BELOW GOES YOUR CODE\n",
        "    sorted_array = np.sort(sort_array)\n",
        "    # ABOVE GOES YOUR CODE\n",
        "    return {\"sorted_array\": sorted_array}\n",
        "\n",
        "numpy_55()"
      ]
    },
    {
      "cell_type": "code",
      "execution_count": null,
      "metadata": {
        "id": "t0hp6zMtvzzx",
        "outputId": "e5654967-0d0e-4077-e3ca-cdfafae68e9a",
        "colab": {
          "base_uri": "https://localhost:8080/"
        }
      },
      "outputs": [
        {
          "output_type": "stream",
          "name": "stdout",
          "text": [
            "✅ Great job! Exercise completed successfully.\n"
          ]
        }
      ],
      "source": [
        "# Compute the intersection of two arrays `intersect_array1` and `intersect_array2` and save it in `intersection`.\n",
        "@check_numpy_56\n",
        "def numpy_56(intersect_array1, intersect_array2):\n",
        "    # This line is mandatory and should not be removed.\n",
        "    ex_stat_init = True\n",
        "\n",
        "    # BELOW GOES YOUR CODE\n",
        "    intersection = np.intersect1d(intersect_array1,intersect_array2 )\n",
        "    # ABOVE GOES YOUR CODE\n",
        "    return {\"intersection\": intersection}\n",
        "\n",
        "numpy_56()"
      ]
    },
    {
      "cell_type": "code",
      "execution_count": null,
      "metadata": {
        "id": "78TFRHF5vzzx",
        "outputId": "776a577d-ebb2-47a1-9887-3af47e85b57b",
        "colab": {
          "base_uri": "https://localhost:8080/"
        }
      },
      "outputs": [
        {
          "output_type": "stream",
          "name": "stdout",
          "text": [
            "✅ Great job! Exercise completed successfully.\n"
          ]
        }
      ],
      "source": [
        "# Join `join_array1`, `join_array2`, and `join_array3` along a new axis using `np.stack()` and store it in `joined_array`.\n",
        "@check_numpy_57\n",
        "def numpy_57(join_array1, join_array2, join_array3):\n",
        "    # This line is mandatory and should not be removed.\n",
        "    ex_stat_init = True\n",
        "\n",
        "    # BELOW GOES YOUR CODE\n",
        "    joined_array = np.stack([join_array1, join_array2, join_array3], axis= 0)\n",
        "    # ABOVE GOES YOUR CODE\n",
        "    return {\"joined_array\": joined_array}\n",
        "\n",
        "numpy_57()"
      ]
    },
    {
      "cell_type": "code",
      "execution_count": null,
      "metadata": {
        "id": "Yu_B923lvzzx",
        "outputId": "f4855736-f23a-4329-c947-9195d698e6cc",
        "colab": {
          "base_uri": "https://localhost:8080/"
        }
      },
      "outputs": [
        {
          "output_type": "stream",
          "name": "stdout",
          "text": [
            "✅ Great job! Exercise completed successfully.\n"
          ]
        }
      ],
      "source": [
        "# Split `split_array` into `num_splits` parts using `np.array_split()` and assign the result to `split_parts`.\n",
        "@check_numpy_58\n",
        "def numpy_58(split_array, num_splits):\n",
        "    # This line is mandatory and should not be removed.\n",
        "    ex_stat_init = True\n",
        "\n",
        "    # BELOW GOES YOUR CODE\n",
        "    split_parts = np.array_split(split_array, num_splits)\n",
        "    # ABOVE GOES YOUR CODE\n",
        "    return {\"split_parts\": split_parts}\n",
        "\n",
        "numpy_58()"
      ]
    },
    {
      "cell_type": "code",
      "execution_count": null,
      "metadata": {
        "id": "jQrQLNgpvzzx",
        "outputId": "afe55fb4-a6f0-4051-c9a2-f77fc1033b36",
        "colab": {
          "base_uri": "https://localhost:8080/"
        }
      },
      "outputs": [
        {
          "output_type": "stream",
          "name": "stdout",
          "text": [
            "count_array [1 2 3 4 5]\n",
            "threshold 3\n",
            "greater_count 2\n",
            "❗ The implementation is incorrect or the exercise was not implemented.\n"
          ]
        }
      ],
      "source": [
        "# Count elements in `count_array` that are greater than `threshold` and assign the count to `greater_count`.\n",
        "@check_numpy_59\n",
        "def numpy_59(count_array, threshold):\n",
        "    # This line is mandatory and should not be removed.\n",
        "    ex_stat_init = True\n",
        "\n",
        "    # BELOW GOES YOUR CODE\n",
        "    print (\"count_array\" , count_array)\n",
        "    print (\"threshold\", threshold)\n",
        "    greater_count = np.count_nonzero(count_array > threshold)\n",
        "    print(\"greater_count\", greater_count)\n",
        "    # ABOVE GOES YOUR CODE\n",
        "    return {\"greater_count\": greater_count}\n",
        "\n",
        "numpy_59()"
      ]
    },
    {
      "cell_type": "code",
      "execution_count": null,
      "metadata": {
        "id": "59XloTgxvzzx",
        "outputId": "4407588b-d3ce-47c0-85d7-30b57332982b",
        "colab": {
          "base_uri": "https://localhost:8080/"
        }
      },
      "outputs": [
        {
          "output_type": "stream",
          "name": "stdout",
          "text": [
            "✅ Great job! Exercise completed successfully.\n"
          ]
        }
      ],
      "source": [
        "# Rotate the 2D array `rotate_array` 90 degrees counterclockwise using `np.rot90()` and store it in `rotated_array`.\n",
        "@check_numpy_60\n",
        "def numpy_60(rotate_array):\n",
        "    # This line is mandatory and should not be removed.\n",
        "    ex_stat_init = True\n",
        "\n",
        "    # BELOW GOES YOUR CODE\n",
        "    rotated_array = np.rot90(rotate_array)\n",
        "    # ABOVE GOES YOUR CODE\n",
        "    return {\"rotated_array\": rotated_array}\n",
        "\n",
        "numpy_60()"
      ]
    },
    {
      "cell_type": "code",
      "execution_count": null,
      "metadata": {
        "id": "yFsBYW3Nvzzx",
        "outputId": "6a8a3d50-cd6a-49ce-ace9-6eea67dc50e5",
        "colab": {
          "base_uri": "https://localhost:8080/"
        }
      },
      "outputs": [
        {
          "output_type": "stream",
          "name": "stdout",
          "text": [
            "✅ Great job! Exercise completed successfully.\n"
          ]
        }
      ],
      "source": [
        "# Create an array named `random_float_array` with shape `float_shape` containing random floats between 0 and 1.\n",
        "@check_numpy_61\n",
        "def numpy_61(float_shape):\n",
        "    # This line is mandatory and should not be removed.\n",
        "    ex_stat_init = True\n",
        "\n",
        "    # BELOW GOES YOUR CODE\n",
        "    random_float_array = np.random.rand(*float_shape)\n",
        "    # ABOVE GOES YOUR CODE\n",
        "    return {\"random_float_array\": random_float_array}\n",
        "\n",
        "numpy_61()"
      ]
    },
    {
      "cell_type": "code",
      "execution_count": null,
      "metadata": {
        "id": "ssNOXPpAvzzy",
        "outputId": "ffd4c27a-4a10-4108-e926-faea07ddeef2",
        "colab": {
          "base_uri": "https://localhost:8080/"
        }
      },
      "outputs": [
        {
          "output_type": "stream",
          "name": "stdout",
          "text": [
            "✅ Great job! Exercise completed successfully.\n"
          ]
        }
      ],
      "source": [
        "# Compute the median of `median_array` and store it in `median_value`.\n",
        "@check_numpy_62\n",
        "def numpy_62(median_array):\n",
        "    # This line is mandatory and should not be removed.\n",
        "    ex_stat_init = True\n",
        "\n",
        "    # BELOW GOES YOUR CODE\n",
        "    median_value = np.median(median_array)\n",
        "    # ABOVE GOES YOUR CODE\n",
        "    return {\"median_value\": median_value}\n",
        "\n",
        "numpy_62()"
      ]
    },
    {
      "cell_type": "code",
      "execution_count": null,
      "metadata": {
        "id": "ljm6ysL2vzzy",
        "outputId": "cfcf1ef5-28bd-4965-d261-5cdd5ae7fc33",
        "colab": {
          "base_uri": "https://localhost:8080/"
        }
      },
      "outputs": [
        {
          "output_type": "stream",
          "name": "stdout",
          "text": [
            "✅ Great job! Exercise completed successfully.\n"
          ]
        }
      ],
      "source": [
        "# Given a complex NumPy array `complex_array`, extract its real and imaginary parts into `real_part` and `imag_part`.\n",
        "@check_numpy_63\n",
        "def numpy_63(complex_array):\n",
        "    # This line is mandatory and should not be removed.\n",
        "    ex_stat_init = True\n",
        "\n",
        "    # BELOW GOES YOUR CODE\n",
        "    real_part = np.real(complex_array)\n",
        "    imag_part = np.imag(complex_array)\n",
        "    # ABOVE GOES YOUR CODE\n",
        "    return {\"real_part\": real_part, \"imag_part\": imag_part}\n",
        "\n",
        "numpy_63()"
      ]
    },
    {
      "cell_type": "code",
      "execution_count": null,
      "metadata": {
        "id": "E2PexNe_vzzy",
        "outputId": "5669b7ac-5009-4f07-885a-91899661f763",
        "colab": {
          "base_uri": "https://localhost:8080/"
        }
      },
      "outputs": [
        {
          "output_type": "stream",
          "name": "stdout",
          "text": [
            "✅ Great job! Exercise completed successfully.\n"
          ]
        }
      ],
      "source": [
        "# Normalize the array `norm_array` to have values between 0 and 1, storing the result in `normalized_array`.\n",
        "@check_numpy_64\n",
        "\n",
        "def numpy_64(norm_array):\n",
        "    # This line is mandatory and should not be removed.\n",
        "    ex_stat_init = True\n",
        "\n",
        "    # BELOW GOES YOUR CODE\n",
        "    min_value = np.min(norm_array)\n",
        "    max_value = np.max(norm_array)\n",
        "    normalized_array = (norm_array - min_value) / (max_value - min_value)\n",
        "    # ABOVE GOES YOUR CODE\n",
        "    return {\"normalized_array\": normalized_array}\n",
        "\n",
        "numpy_64()"
      ]
    },
    {
      "cell_type": "code",
      "execution_count": null,
      "metadata": {
        "id": "UoPp05Gyvzzy",
        "outputId": "654fc030-df57-4687-cdd8-b544f47c0e51",
        "colab": {
          "base_uri": "https://localhost:8080/"
        }
      },
      "outputs": [
        {
          "output_type": "stream",
          "name": "stdout",
          "text": [
            "✅ Great job! Exercise completed successfully.\n"
          ]
        }
      ],
      "source": [
        "# Replace negative elements in `replace_array` with `new_value` using `np.where()` and store in `replaced_array`.\n",
        "@check_numpy_65\n",
        "def numpy_65(replace_array, new_value):\n",
        "    # This line is mandatory and should not be removed.\n",
        "    ex_stat_init = True\n",
        "\n",
        "    # BELOW GOES YOUR CODE\n",
        "    replaced_array = np.where(replace_array > 0, replace_array , new_value)\n",
        "    # ABOVE GOES YOUR CODE\n",
        "    return {\"replaced_array\": replaced_array}\n",
        "\n",
        "numpy_65()"
      ]
    },
    {
      "cell_type": "code",
      "execution_count": null,
      "metadata": {
        "id": "pvpM2M7tvzzy",
        "outputId": "38600685-d30e-4865-db18-5a5ee63bd0b0",
        "colab": {
          "base_uri": "https://localhost:8080/"
        }
      },
      "outputs": [
        {
          "output_type": "stream",
          "name": "stdout",
          "text": [
            "✅ Great job! Exercise completed successfully.\n"
          ]
        }
      ],
      "source": [
        "# Calculate the row-wise total sum for `axis_sum_array` and assign the output to `row_sums`.\n",
        "@check_numpy_66\n",
        "def numpy_66(axis_sum_array):\n",
        "    # This line is mandatory and should not be removed.\n",
        "    ex_stat_init = True\n",
        "\n",
        "    # BELOW GOES YOUR CODE\n",
        "    row_sums = np.sum(axis_sum_array, axis= 1)\n",
        "    # ABOVE GOES YOUR CODE\n",
        "    return {\"row_sums\": row_sums}\n",
        "\n",
        "numpy_66()"
      ]
    },
    {
      "cell_type": "code",
      "execution_count": null,
      "metadata": {
        "id": "JPq0OVNIvzzy",
        "outputId": "e977919a-324b-4269-a45e-5bf9dd97f9f5",
        "colab": {
          "base_uri": "https://localhost:8080/"
        }
      },
      "outputs": [
        {
          "output_type": "stream",
          "name": "stdout",
          "text": [
            "✅ Great job! Exercise completed successfully.\n"
          ]
        }
      ],
      "source": [
        "# Produce a matrix `random_matrix` with `matrix_shape` dimensions and random integers from 0 to 100.\n",
        "@check_numpy_67\n",
        "def numpy_67(matrix_shape):\n",
        "    # This line is mandatory and should not be removed.\n",
        "    ex_stat_init = True\n",
        "\n",
        "    # BELOW GOES YOUR CODE\n",
        "    random_matrix = np.random.rand(*matrix_shape)\n",
        "    # ABOVE GOES YOUR CODE\n",
        "    return {\"random_matrix\": random_matrix.shape, \"random_values\": np.any((random_matrix < 0) | (random_matrix > 100))}\n",
        "\n",
        "numpy_67()"
      ]
    },
    {
      "cell_type": "code",
      "execution_count": null,
      "metadata": {
        "id": "P2xE9Gzqvzzy",
        "outputId": "829912b2-cc08-4a03-e5b3-b35ea27c4747",
        "colab": {
          "base_uri": "https://localhost:8080/"
        }
      },
      "outputs": [
        {
          "output_type": "stream",
          "name": "stdout",
          "text": [
            "✅ Great job! Exercise completed successfully.\n"
          ]
        }
      ],
      "source": [
        "# Raise each element in `base_power_array` to a power specified in `exp_power_array`, element-wise, and store in `powered_array`.\n",
        "@check_numpy_68\n",
        "def numpy_68(base_power_array, exp_power_array):\n",
        "    # This line is mandatory and should not be removed.\n",
        "    ex_stat_init = True\n",
        "\n",
        "    # BELOW GOES YOUR CODE\n",
        "    powered_array = np.power(base_power_array, exp_power_array)\n",
        "    # ABOVE GOES YOUR CODE\n",
        "    return {\"powered_array\": powered_array}\n",
        "\n",
        "numpy_68()"
      ]
    },
    {
      "cell_type": "code",
      "execution_count": null,
      "metadata": {
        "id": "CGfrDclFvzzz",
        "outputId": "fb7c18d7-2727-43d5-b627-e58b84cd4159",
        "colab": {
          "base_uri": "https://localhost:8080/"
        }
      },
      "outputs": [
        {
          "output_type": "stream",
          "name": "stdout",
          "text": [
            "✅ Great job! Exercise completed successfully.\n"
          ]
        }
      ],
      "source": [
        "# Detect NaN elements within `nan_array` using `np.isnan()` and assign the position to `nan_indices`.\n",
        "@check_numpy_69\n",
        "def numpy_69(nan_array):\n",
        "    # This line is mandatory and should not be removed.\n",
        "    ex_stat_init = True\n",
        "\n",
        "    # BELOW GOES YOUR CODE\n",
        "    nan_indices = np.isnan(nan_array)\n",
        "    # ABOVE GOES YOUR CODE\n",
        "    return {\"nan_indices\": nan_indices}\n",
        "\n",
        "numpy_69()"
      ]
    },
    {
      "cell_type": "code",
      "execution_count": null,
      "metadata": {
        "id": "ZRkU8Jbjvzzz",
        "outputId": "3f56a3c0-46ce-4a45-bb2f-07ff47594c70",
        "colab": {
          "base_uri": "https://localhost:8080/"
        }
      },
      "outputs": [
        {
          "output_type": "stream",
          "name": "stdout",
          "text": [
            "✅ Great job! Exercise completed successfully.\n"
          ]
        }
      ],
      "source": [
        "# Replace `NaN` values in `nan_replace_array` with `specific_value` and create `nan_replaced_array`.\n",
        "@check_numpy_70\n",
        "def numpy_70(nan_replace_array, specific_value):\n",
        "    # This line is mandatory and should not be removed.\n",
        "    ex_stat_init = True\n",
        "\n",
        "    # BELOW GOES YOUR CODE\n",
        "    nan_replaced_array = nan_replaced_array = np.nan_to_num(nan_replace_array, nan=specific_value)\n",
        "    # ABOVE GOES YOUR CODE\n",
        "    return {\"nan_replaced_array\": nan_replaced_array}\n",
        "\n",
        "numpy_70()"
      ]
    },
    {
      "cell_type": "code",
      "execution_count": null,
      "metadata": {
        "id": "Pp4knxopvzzz",
        "outputId": "2790dd44-b2f8-46f5-e19c-3e87d08b22d7",
        "colab": {
          "base_uri": "https://localhost:8080/"
        }
      },
      "outputs": [
        {
          "output_type": "stream",
          "name": "stdout",
          "text": [
            "✅ Great job! Exercise completed successfully.\n"
          ]
        }
      ],
      "source": [
        "# Construct an upper triangular version of `triangular_matrix` using `np.triu()`.\n",
        "@check_numpy_71\n",
        "def numpy_71(triangular_matrix):\n",
        "    # This line is mandatory and should not be removed.\n",
        "    ex_stat_init = True\n",
        "\n",
        "    # BELOW GOES YOUR CODE\n",
        "    triangular_matrix = np.triu(triangular_matrix)\n",
        "    # ABOVE GOES YOUR CODE\n",
        "    return {\"upper_triangular\": triangular_matrix}\n",
        "\n",
        "numpy_71()"
      ]
    },
    {
      "cell_type": "code",
      "execution_count": null,
      "metadata": {
        "id": "KcvFcNn-vzzz",
        "outputId": "67c855c3-7821-4d42-b6e3-e7e3da39c9da",
        "colab": {
          "base_uri": "https://localhost:8080/"
        }
      },
      "outputs": [
        {
          "output_type": "stream",
          "name": "stdout",
          "text": [
            "✅ Great job! Exercise completed successfully.\n"
          ]
        }
      ],
      "source": [
        "# Calculate the `percentile_value` percentile of elements in `percentile_array` and set the result to `percentile_result`.\n",
        "@check_numpy_72\n",
        "def numpy_72(percentile_array, percentile_value):\n",
        "    # This line is mandatory and should not be removed.\n",
        "    ex_stat_init = True\n",
        "\n",
        "    # BELOW GOES YOUR CODE\n",
        "    percentile_result = np.percentile(percentile_array, percentile_value)\n",
        "    # ABOVE GOES YOUR CODE\n",
        "    return {\"percentile_result\": percentile_result}\n",
        "\n",
        "numpy_72()"
      ]
    },
    {
      "cell_type": "code",
      "execution_count": null,
      "metadata": {
        "id": "Gbep9KI8vzzz",
        "outputId": "569c0e22-3efe-4cec-fdfa-9e983451b499",
        "colab": {
          "base_uri": "https://localhost:8080/"
        }
      },
      "outputs": [
        {
          "output_type": "stream",
          "name": "stdout",
          "text": [
            "✅ Great job! Exercise completed successfully.\n"
          ]
        }
      ],
      "source": [
        "# Calculate the trace (sum of diagonals) of the matrix `trace_matrix` using `np.trace()`.\n",
        "@check_numpy_73\n",
        "def numpy_73(trace_matrix):\n",
        "    # This line is mandatory and should not be removed.\n",
        "    ex_stat_init = True\n",
        "\n",
        "    # BELOW GOES YOUR CODE\n",
        "    trace_value = np.trace(trace_matrix)\n",
        "    # ABOVE GOES YOUR CODE\n",
        "    return {\"trace_value\": trace_value}\n",
        "\n",
        "numpy_73()"
      ]
    },
    {
      "cell_type": "code",
      "execution_count": null,
      "metadata": {
        "id": "m04uJ-2Svzzz",
        "outputId": "ba42e27f-43fb-4ac0-d369-84e750cc98fc",
        "colab": {
          "base_uri": "https://localhost:8080/"
        }
      },
      "outputs": [
        {
          "output_type": "stream",
          "name": "stdout",
          "text": [
            "✅ Great job! Exercise completed successfully.\n"
          ]
        }
      ],
      "source": [
        "# Compute the index of the maximum value in `index_max_array` and store it in `max_index`.\n",
        "@check_numpy_74\n",
        "def numpy_74(index_max_array):\n",
        "    # This line is mandatory and should not be removed.\n",
        "    ex_stat_init = True\n",
        "\n",
        "    # BELOW GOES YOUR CODE\n",
        "    max_index = np.argmax(index_max_array)\n",
        "    # ABOVE GOES YOUR CODE\n",
        "    return {\"max_index\": max_index}\n",
        "\n",
        "numpy_74()"
      ]
    },
    {
      "cell_type": "code",
      "execution_count": null,
      "metadata": {
        "id": "tMXYbNbZvzzz",
        "outputId": "4ac1324f-32e0-4908-865b-3b8854d7d26e",
        "colab": {
          "base_uri": "https://localhost:8080/"
        }
      },
      "outputs": [
        {
          "output_type": "stream",
          "name": "stdout",
          "text": [
            "✅ Great job! Exercise completed successfully.\n"
          ]
        }
      ],
      "source": [
        "# Find the index of the minimum value in `index_min_array` and assign it to `min_index`.\n",
        "@check_numpy_75\n",
        "def numpy_75(index_min_array):\n",
        "    # This line is mandatory and should not be removed.\n",
        "    ex_stat_init = True\n",
        "\n",
        "    # BELOW GOES YOUR CODE\n",
        "    min_index = np.argmin(index_min_array)\n",
        "    # ABOVE GOES YOUR CODE\n",
        "    return {\"min_index\": min_index}\n",
        "\n",
        "numpy_75()"
      ]
    },
    {
      "cell_type": "code",
      "execution_count": null,
      "metadata": {
        "id": "rnmClnqvvzz0",
        "outputId": "806eb72e-a33f-42c1-dd40-5d54b14b99aa",
        "colab": {
          "base_uri": "https://localhost:8080/"
        }
      },
      "outputs": [
        {
          "output_type": "stream",
          "name": "stdout",
          "text": [
            "✅ Great job! Exercise completed successfully.\n"
          ]
        }
      ],
      "source": [
        "# Perform an element-wise comparison of `compare_array1` and `compare_array2` using `np.equal()` and assign to `comparison_result`.\n",
        "@check_numpy_76\n",
        "def numpy_76(compare_array1, compare_array2):\n",
        "    # This line is mandatory and should not be removed.\n",
        "    ex_stat_init = True\n",
        "\n",
        "    # BELOW GOES YOUR CODE\n",
        "    comparison_result = np.equal(compare_array1 , compare_array2)\n",
        "    # ABOVE GOES YOUR CODE\n",
        "    return {\"comparison_result\": comparison_result}\n",
        "\n",
        "numpy_76()"
      ]
    },
    {
      "cell_type": "code",
      "execution_count": null,
      "metadata": {
        "id": "yPpzjPbLvzz0",
        "outputId": "b11c8d09-43a5-40b2-fe66-02fa79fe5e45",
        "colab": {
          "base_uri": "https://localhost:8080/"
        }
      },
      "outputs": [
        {
          "output_type": "stream",
          "name": "stdout",
          "text": [
            "✅ Great job! Exercise completed successfully.\n"
          ]
        }
      ],
      "source": [
        "# Perform the matrix multiplication between two arrays `mat_mult_a` and `mat_mult_b` and store the result in `matrix_product`.\n",
        "@check_numpy_77\n",
        "def numpy_77(mat_mult_a, mat_mult_b):\n",
        "    # This line is mandatory and should not be removed.\n",
        "    ex_stat_init = True\n",
        "\n",
        "    # BELOW GOES YOUR CODE\n",
        "    matrix_product = np.multiply(mat_mult_a, mat_mult_b)\n",
        "    # ABOVE GOES YOUR CODE\n",
        "    return {\"matrix_product\": matrix_product}\n",
        "\n",
        "numpy_77()"
      ]
    },
    {
      "cell_type": "code",
      "execution_count": null,
      "metadata": {
        "id": "7cjRTt4Fvzz0",
        "outputId": "53c26bbc-fe7b-43d5-ef42-8cd1aaaa5755",
        "colab": {
          "base_uri": "https://localhost:8080/"
        }
      },
      "outputs": [
        {
          "output_type": "stream",
          "name": "stdout",
          "text": [
            "✅ Great job! Exercise completed successfully.\n"
          ]
        }
      ],
      "source": [
        "# Extract the diagonal of `diag_matrix` using `np.diag()` and store it in `matrix_diagonal`.\n",
        "@check_numpy_78\n",
        "def numpy_78(diag_matrix):\n",
        "    # This line is mandatory and should not be removed.\n",
        "    ex_stat_init = True\n",
        "\n",
        "    # BELOW GOES YOUR CODE\n",
        "    matrix_diagonal = np.diag(diag_matrix)\n",
        "    # ABOVE GOES YOUR CODE\n",
        "    return {\"matrix_diagonal\": matrix_diagonal}\n",
        "\n",
        "numpy_78()"
      ]
    },
    {
      "cell_type": "code",
      "execution_count": null,
      "metadata": {
        "id": "Wyl7B8cuvzz0",
        "outputId": "ade3ecbd-88ad-4868-fc4c-d6ef299514d4",
        "colab": {
          "base_uri": "https://localhost:8080/"
        }
      },
      "outputs": [
        {
          "output_type": "stream",
          "name": "stdout",
          "text": [
            "✅ Great job! Exercise completed successfully.\n"
          ]
        }
      ],
      "source": [
        "# Clip `clip_array` such that all its values fall between `min_clip` and `max_clip`, saving the result in `clipped_array`.\n",
        "@check_numpy_79\n",
        "def numpy_79(clip_array, min_clip, max_clip):\n",
        "    # This line is mandatory and should not be removed.\n",
        "    ex_stat_init = True\n",
        "\n",
        "    # BELOW GOES YOUR CODE\n",
        "    clipped_array = np.clip(clip_array, min_clip, max_clip)\n",
        "    # ABOVE GOES YOUR CODE\n",
        "    return {\"clipped_array\": clipped_array}\n",
        "\n",
        "numpy_79()"
      ]
    },
    {
      "cell_type": "code",
      "execution_count": null,
      "metadata": {
        "id": "N836jTc5vzz0",
        "outputId": "9bf2e3ee-2a2b-4c73-9cce-d05453f66dc5",
        "colab": {
          "base_uri": "https://localhost:8080/"
        }
      },
      "outputs": [
        {
          "output_type": "stream",
          "name": "stdout",
          "text": [
            "✅ Great job! Exercise completed successfully.\n"
          ]
        }
      ],
      "source": [
        "# Flip `flip_array` along the specified axis `flip_axis` using `np.flip()` and assign to `flipped_array`.\n",
        "@check_numpy_80\n",
        "def numpy_80(flip_array, flip_axis):\n",
        "    # This line is mandatory and should not be removed.\n",
        "    ex_stat_init = True\n",
        "\n",
        "    # BELOW GOES YOUR CODE\n",
        "    flipped_array= np.flip(flip_array, flip_axis)\n",
        "    # ABOVE GOES YOUR CODE\n",
        "    return {\"flipped_array\": flipped_array}\n",
        "\n",
        "numpy_80()"
      ]
    },
    {
      "cell_type": "code",
      "execution_count": null,
      "metadata": {
        "id": "oh627fMavzz0",
        "outputId": "1e443155-7e8e-47bf-fea4-d329e2efaff5",
        "colab": {
          "base_uri": "https://localhost:8080/"
        }
      },
      "outputs": [
        {
          "output_type": "stream",
          "name": "stdout",
          "text": [
            "✅ Great job! Exercise completed successfully.\n"
          ]
        }
      ],
      "source": [
        "# Simulate rolling a six-sided die `num_rolls` times to generate an array `dice_rolls`.\n",
        "@check_numpy_81\n",
        "def numpy_81(num_rolls):\n",
        "    # This line is mandatory and should not be removed.\n",
        "    ex_stat_init = True\n",
        "\n",
        "    # BELOW GOES YOUR CODE\n",
        "    dice_rolls = np.random.rand(1,6)\n",
        "    # ABOVE GOES YOUR CODE\n",
        "    return {\"dice_rolls\": dice_rolls}\n",
        "\n",
        "numpy_81()"
      ]
    },
    {
      "cell_type": "code",
      "execution_count": null,
      "metadata": {
        "id": "zILP-UDXvzz1",
        "outputId": "b16b10a9-7115-48eb-e567-e1c72ae82d6e",
        "colab": {
          "base_uri": "https://localhost:8080/"
        }
      },
      "outputs": [
        {
          "output_type": "stream",
          "name": "stdout",
          "text": [
            "✅ Great job! Exercise completed successfully.\n"
          ]
        }
      ],
      "source": [
        "# Given two arrays `logical_array_a` and `logical_array_b`, perform a logical `and` operation and save result in `logical_and_result`.\n",
        "@check_numpy_82\n",
        "def numpy_82(logical_array_a, logical_array_b):\n",
        "    # This line is mandatory and should not be removed.\n",
        "    ex_stat_init = True\n",
        "\n",
        "    # BELOW GOES YOUR CODE\n",
        "    logical_and_result = logical_array_a & logical_array_b\n",
        "    # ABOVE GOES YOUR CODE\n",
        "    return {\"logical_and_result\": logical_and_result}\n",
        "\n",
        "numpy_82()"
      ]
    },
    {
      "cell_type": "code",
      "execution_count": null,
      "metadata": {
        "id": "S4rL9e-Mvzz1",
        "outputId": "c78d4d91-e54c-4b82-e752-b40af936bb2f",
        "colab": {
          "base_uri": "https://localhost:8080/"
        }
      },
      "outputs": [
        {
          "output_type": "stream",
          "name": "stdout",
          "text": [
            "✅ Great job! Exercise completed successfully.\n"
          ]
        }
      ],
      "source": [
        "# Reverse the elements in `reverse_array` and store the result in `reversed_array`.\n",
        "@check_numpy_83\n",
        "def numpy_83(reverse_array):\n",
        "    # This line is mandatory and should not be removed.\n",
        "    ex_stat_init = True\n",
        "\n",
        "    # BELOW GOES YOUR CODE\n",
        "    reversed_array = np.flip(reverse_array)\n",
        "    # ABOVE GOES YOUR CODE\n",
        "    return {\"reversed_array\": reversed_array}\n",
        "\n",
        "numpy_83()"
      ]
    },
    {
      "cell_type": "code",
      "execution_count": null,
      "metadata": {
        "id": "oD9rE3vmvzz1",
        "outputId": "91d8dd6d-fd43-48f4-c2d8-e8106f95f76b",
        "colab": {
          "base_uri": "https://localhost:8080/"
        }
      },
      "outputs": [
        {
          "output_type": "stream",
          "name": "stdout",
          "text": [
            "✅ Great job! Exercise completed successfully.\n"
          ]
        }
      ],
      "source": [
        "# Compute the cross-product of vectors `vector_a` and `vector_b` and store it in `cross_product_result`.\n",
        "@check_numpy_84\n",
        "def numpy_84(vector_a, vector_b):\n",
        "    # This line is mandatory and should not be removed.\n",
        "    ex_stat_init = True\n",
        "\n",
        "    # BELOW GOES YOUR CODE\n",
        "    cross_product_result = np.cross(vector_a, vector_b)\n",
        "    # ABOVE GOES YOUR CODE\n",
        "    return {\"cross_product_result\": cross_product_result}\n",
        "\n",
        "numpy_84()"
      ]
    },
    {
      "cell_type": "code",
      "execution_count": null,
      "metadata": {
        "id": "UJODfWSOvzz1",
        "outputId": "a4d435f6-7238-4f7b-c557-07d88af20f92",
        "colab": {
          "base_uri": "https://localhost:8080/"
        }
      },
      "outputs": [
        {
          "output_type": "stream",
          "name": "stdout",
          "text": [
            "✅ Great job! Exercise completed successfully.\n"
          ]
        }
      ],
      "source": [
        "# Use `np.vstack()` to vertically stack `vert_stack_a` and `vert_stack_b` and assign to `vertically_stacked`.\n",
        "@check_numpy_85\n",
        "def numpy_85(vert_stack_a, vert_stack_b):\n",
        "    # This line is mandatory and should not be removed.\n",
        "    ex_stat_init = True\n",
        "\n",
        "    # BELOW GOES YOUR CODE\n",
        "    vertically_stacked = np.vstack((vert_stack_a, vert_stack_b))\n",
        "    # ABOVE GOES YOUR CODE\n",
        "    return {\"vertically_stacked\": vertically_stacked}\n",
        "\n",
        "numpy_85()"
      ]
    },
    {
      "cell_type": "code",
      "execution_count": null,
      "metadata": {
        "id": "D8CK-EAqvzz1",
        "outputId": "9b6d4bf6-bc96-45e4-c331-f6757099488f",
        "colab": {
          "base_uri": "https://localhost:8080/"
        }
      },
      "outputs": [
        {
          "output_type": "stream",
          "name": "stdout",
          "text": [
            "check_size   (3, 3)\n",
            "❗ The implementation is incorrect or the exercise was not implemented.\n"
          ]
        }
      ],
      "source": [
        "# Create a `checkered_matrix` of size `check_size` with alternating zeros and ones.\n",
        "@check_numpy_86\n",
        "def numpy_86(check_size):\n",
        "    # This line is mandatory and should not be removed.\n",
        "    ex_stat_init = True\n",
        "\n",
        "    # BELOW GOES YOUR CODE\n",
        "    print (\"check_size  \", check_size)\n",
        "    checkered_matrix = np.indices((check_size, check_size)).sum(axis=0) % 2\n",
        "    print (\"checkered_matrix  \", checkered_matrix)\n",
        "    # ABOVE GOES YOUR CODE\n",
        "    return {\"checkered_matrix\": checkered_matrix}\n",
        "\n",
        "numpy_86()"
      ]
    },
    {
      "cell_type": "code",
      "execution_count": null,
      "metadata": {
        "id": "GRiXBfy7vzz1",
        "outputId": "3ba8e46d-03ce-485e-bcb3-527177889584",
        "colab": {
          "base_uri": "https://localhost:8080/"
        }
      },
      "outputs": [
        {
          "output_type": "stream",
          "name": "stdout",
          "text": [
            "✅ Great job! Exercise completed successfully.\n"
          ]
        }
      ],
      "source": [
        "# Determine the rank of `rank_matrix` using `np.linalg.matrix_rank()`.\n",
        "@check_numpy_87\n",
        "def numpy_87(rank_matrix):\n",
        "    # This line is mandatory and should not be removed.\n",
        "    ex_stat_init = True\n",
        "\n",
        "    # BELOW GOES YOUR CODE\n",
        "    matrix_rank = np.linalg.matrix_rank(rank_matrix)\n",
        "    # ABOVE GOES YOUR CODE\n",
        "    return {\"matrix_rank\": matrix_rank}\n",
        "\n",
        "numpy_87()"
      ]
    },
    {
      "cell_type": "code",
      "execution_count": null,
      "metadata": {
        "id": "r8i9L3rWvzz1",
        "outputId": "65fa1b8f-9b8c-4ec4-c61c-c7434007ed78",
        "colab": {
          "base_uri": "https://localhost:8080/"
        }
      },
      "outputs": [
        {
          "output_type": "stream",
          "name": "stdout",
          "text": [
            "✅ Great job! Exercise completed successfully.\n"
          ]
        }
      ],
      "source": [
        "# Extract all non-diagonal elements from `non_diag_matrix` and store them in `off_diagonal`.\n",
        "@check_numpy_88\n",
        "def numpy_88(non_diag_matrix):\n",
        "    # This line is mandatory and should not be removed.\n",
        "    ex_stat_init = True\n",
        "\n",
        "    # BELOW GOES YOUR CODE\n",
        "    mask = np.ones(non_diag_matrix.shape, dtype=bool)\n",
        "    np.fill_diagonal(mask, 0)\n",
        "    off_diagonal = non_diag_matrix[mask]\n",
        "    # ABOVE GOES YOUR CODE\n",
        "    return {\"off_diagonal\": off_diagonal}\n",
        "\n",
        "numpy_88()"
      ]
    },
    {
      "cell_type": "code",
      "execution_count": null,
      "metadata": {
        "id": "F_zUBBSfvzz2",
        "outputId": "589cb864-d138-4c4d-cc15-c4027e69587b",
        "colab": {
          "base_uri": "https://localhost:8080/"
        }
      },
      "outputs": [
        {
          "output_type": "stream",
          "name": "stdout",
          "text": [
            "✅ Great job! Exercise completed successfully.\n"
          ]
        }
      ],
      "source": [
        "# Create a boolean mask `boolean_mask` for the array `mask_less_array` with elements less than `threshold_value`.\n",
        "@check_numpy_89\n",
        "def numpy_89(mask_less_array, threshold_value):\n",
        "    # This line is mandatory and should not be removed.\n",
        "    ex_stat_init = True\n",
        "\n",
        "    # BELOW GOES YOUR CODE\n",
        "    boolean_mask = mask_less_array <threshold_value\n",
        "    # ABOVE GOES YOUR CODE\n",
        "    return {\"boolean_mask\": boolean_mask}\n",
        "\n",
        "numpy_89()"
      ]
    },
    {
      "cell_type": "code",
      "execution_count": null,
      "metadata": {
        "id": "HlfktfRUvzz2",
        "outputId": "a8ad3b67-5c4d-4b83-c33d-359681c8e960",
        "colab": {
          "base_uri": "https://localhost:8080/"
        }
      },
      "outputs": [
        {
          "output_type": "stream",
          "name": "stdout",
          "text": [
            "✅ Great job! Exercise completed successfully.\n"
          ]
        }
      ],
      "source": [
        "# Compute the cumulative product of `cumprod_array` and assign the result to `cumulative_product`.\n",
        "@check_numpy_90\n",
        "def numpy_90(cumprod_array):\n",
        "    # This line is mandatory and should not be removed.\n",
        "    ex_stat_init = True\n",
        "\n",
        "    # BELOW GOES YOUR CODE\n",
        "    cumulative_product = np.cumsum(cumprod_array)\n",
        "    # ABOVE GOES YOUR CODE\n",
        "    return {\"cumulative_product\": cumulative_product}\n",
        "\n",
        "numpy_90()"
      ]
    },
    {
      "cell_type": "code",
      "execution_count": null,
      "metadata": {
        "id": "xYDRQdOAvzz2",
        "outputId": "9e3d56a8-9fd5-47fe-e1ee-1395204c278a",
        "colab": {
          "base_uri": "https://localhost:8080/"
        }
      },
      "outputs": [
        {
          "output_type": "stream",
          "name": "stdout",
          "text": [
            "✅ Great job! Exercise completed successfully.\n"
          ]
        }
      ],
      "source": [
        "# Calculate the absolute differences between `abs_diff_a1` and `abs_diff_a2`, storing the result in `absolute_diff`.\n",
        "@check_numpy_91\n",
        "def numpy_91(abs_diff_a1, abs_diff_a2):\n",
        "    # This line is mandatory and should not be removed.\n",
        "    ex_stat_init = True\n",
        "\n",
        "    # BELOW GOES YOUR CODE\n",
        "    absolute_diff = np.abs(abs_diff_a1 - abs_diff_a2)\n",
        "    # ABOVE GOES YOUR CODE\n",
        "    return {\"absolute_diff\": absolute_diff}\n",
        "\n",
        "numpy_91()"
      ]
    },
    {
      "cell_type": "code",
      "execution_count": null,
      "metadata": {
        "id": "DR_g0u-9vzz2",
        "outputId": "25404f95-a260-455d-ddcf-a7d08eb5f97c",
        "colab": {
          "base_uri": "https://localhost:8080/"
        }
      },
      "outputs": [
        {
          "output_type": "stream",
          "name": "stdout",
          "text": [
            "[1 2 3 4 5]\n",
            "[1 2 3 4 5]\n",
            "[ True  True  True  True  True]\n",
            "❗ The implementation is incorrect or the exercise was not implemented.\n"
          ]
        }
      ],
      "source": [
        "# Check if `elem_equal_a` and `elem_equal_b` are element-wise equal and store the boolean result in `elementwise_equality`.\n",
        "@check_numpy_92\n",
        "def numpy_92(elem_equal_a, elem_equal_b):\n",
        "    # This line is mandatory and should not be removed.\n",
        "    ex_stat_init = True\n",
        "\n",
        "    # BELOW GOES YOUR CODE\n",
        "    print (elem_equal_a)\n",
        "    print (elem_equal_b)\n",
        "    elementwise_equality = []\n",
        "    elementwise_equality = np.equal(elem_equal_a, elem_equal_b)\n",
        "    print(elementwise_equality)\n",
        "    # ABOVE GOES YOUR CODE\n",
        "    return {\"elementwise_equality\": elementwise_equality}\n",
        "\n",
        "numpy_92()"
      ]
    },
    {
      "cell_type": "code",
      "execution_count": null,
      "metadata": {
        "outputId": "98b30b4d-60ca-4a67-a38e-afa83d5fa71f",
        "colab": {
          "base_uri": "https://localhost:8080/"
        },
        "id": "2jBpyBIPLmJD"
      },
      "outputs": [
        {
          "output_type": "stream",
          "name": "stdout",
          "text": [
            "[1 2 3]\n",
            "[1 2 3]\n",
            "[1 2 3]\n",
            "✅ Great job! Exercise completed successfully.\n"
          ]
        }
      ],
      "source": [
        "# Create `filtered_within_range` by extracting values from `range_filter_array` that are between `lower_bound` and `upper_bound`.\n",
        "@check_numpy_93\n",
        "def numpy_93(range_filter_array, lower_bound, upper_bound):\n",
        "    # This line is mandatory and should not be removed.\n",
        "    ex_stat_init = True\n",
        "\n",
        "    # BELOW GOES YOUR CODE\n",
        "\n",
        "    start = np.searchsorted(range_filter_array, lower_bound, 'left')\n",
        "    end = np.searchsorted(range_filter_array, upper_bound, 'right')\n",
        "    filtered_within_range = np.arange(start, end)\n",
        "    print (filtered_within_range)\n",
        "    # ABOVE GOES YOUR CODE\n",
        "    return {\"filtered_within_range\": filtered_within_range}\n",
        "\n",
        "numpy_93()"
      ]
    },
    {
      "cell_type": "code",
      "execution_count": null,
      "metadata": {
        "id": "ZY_i17l3vzz2",
        "outputId": "133dbe2a-1617-48af-ad02-03ed6d84f567",
        "colab": {
          "base_uri": "https://localhost:8080/"
        }
      },
      "outputs": [
        {
          "output_type": "stream",
          "name": "stdout",
          "text": [
            "✅ Great job! Exercise completed successfully.\n"
          ]
        }
      ],
      "source": [
        "# Multiply a 1D array `broad_1d` with each row of a 2D array `broad_2d`, and store the result in `broadcast_mult_result`.\n",
        "@check_numpy_94\n",
        "def numpy_94(broad_1d, broad_2d):\n",
        "    # This line is mandatory and should not be removed.\n",
        "    ex_stat_init = True\n",
        "\n",
        "    # BELOW GOES YOUR CODE\n",
        "    broadcast_mult_result = broad_1d * broad_2d\n",
        "    # ABOVE GOES YOUR CODE\n",
        "    return {\"broadcast_mult_result\": broadcast_mult_result}\n",
        "\n",
        "numpy_94()"
      ]
    },
    {
      "cell_type": "code",
      "execution_count": null,
      "metadata": {
        "id": "00hJ8U5avzz2",
        "outputId": "7606dc25-c32a-42f2-986e-5a3e664fb87f",
        "colab": {
          "base_uri": "https://localhost:8080/"
        }
      },
      "outputs": [
        {
          "output_type": "stream",
          "name": "stdout",
          "text": [
            "✅ Great job! Exercise completed successfully.\n"
          ]
        }
      ],
      "source": [
        "# Multiply a 1D array `broad_1d` with each row of a 2D array `broad_2d`, and store the result in `broadcast_mult_result`.\n",
        "@check_numpy_95\n",
        "def numpy_95(broad_1d, broad_2d):\n",
        "    # This line is mandatory and should not be removed.\n",
        "    ex_stat_init = True\n",
        "\n",
        "    # BELOW GOES YOUR CODE\n",
        "    broadcast_mult_result = broad_1d * broad_2d\n",
        "    # ABOVE GOES YOUR CODE\n",
        "    return {\"broadcast_mult_result\": broadcast_mult_result}\n",
        "\n",
        "numpy_95()"
      ]
    },
    {
      "cell_type": "code",
      "execution_count": null,
      "metadata": {
        "id": "Xeb2kzBsvzz2",
        "outputId": "7a68b5e8-51fd-47e9-ec82-6cfcd5b4d3bd",
        "colab": {
          "base_uri": "https://localhost:8080/"
        }
      },
      "outputs": [
        {
          "output_type": "stream",
          "name": "stdout",
          "text": [
            "✅ Great job! Exercise completed successfully.\n"
          ]
        }
      ],
      "source": [
        "# Apply logarithm base 10 to `log10_array` using `np.log10()` and save the result in `log10_result`.\n",
        "@check_numpy_96\n",
        "def numpy_96(log10_array):\n",
        "    # This line is mandatory and should not be removed.\n",
        "    ex_stat_init = True\n",
        "\n",
        "    # BELOW GOES YOUR CODE\n",
        "    log10_result = np.log10(log10_array)\n",
        "    # ABOVE GOES YOUR CODE\n",
        "    return {\"log10_result\": log10_result}\n",
        "\n",
        "numpy_96()"
      ]
    },
    {
      "cell_type": "code",
      "execution_count": null,
      "metadata": {
        "id": "YypHhJ4nvzz3",
        "outputId": "e8972ef1-b71e-4309-c56f-0d2979954a57",
        "colab": {
          "base_uri": "https://localhost:8080/"
        }
      },
      "outputs": [
        {
          "output_type": "stream",
          "name": "stdout",
          "text": [
            "✅ Great job! Exercise completed successfully.\n"
          ]
        }
      ],
      "source": [
        "# Form a lower triangular matrix from `lower_tri_matrix` using `np.tril()`.\n",
        "@check_numpy_97\n",
        "def numpy_97(lower_tri_matrix):\n",
        "    # This line is mandatory and should not be removed.\n",
        "    ex_stat_init = True\n",
        "\n",
        "    # BELOW GOES YOUR CODE\n",
        "    lower_triangular = np.tril(lower_tri_matrix)\n",
        "    # ABOVE GOES YOUR CODE\n",
        "    return {\"lower_triangular\": lower_triangular}\n",
        "\n",
        "numpy_97()"
      ]
    },
    {
      "cell_type": "code",
      "execution_count": null,
      "metadata": {
        "id": "QckQ6td7vzz3",
        "outputId": "c4a2e957-7954-4235-ff0f-db956faff57b",
        "colab": {
          "base_uri": "https://localhost:8080/"
        }
      },
      "outputs": [
        {
          "output_type": "stream",
          "name": "stdout",
          "text": [
            "✅ Great job! Exercise completed successfully.\n"
          ]
        }
      ],
      "source": [
        "# Determine if there are any `True` elements in `bool_array`, assigning the result to `any_true`.\n",
        "@check_numpy_98\n",
        "def numpy_98(bool_array):\n",
        "    # This line is mandatory and should not be removed.\n",
        "    ex_stat_init = True\n",
        "\n",
        "    # BELOW GOES YOUR CODE\n",
        "    any_true = np.any(bool_array)\n",
        "    # ABOVE GOES YOUR CODE\n",
        "    return {\"any_true\": any_true}\n",
        "\n",
        "numpy_98()"
      ]
    },
    {
      "cell_type": "code",
      "execution_count": null,
      "metadata": {
        "id": "YqWNXenEvzz3",
        "outputId": "4e38b9fb-034d-4164-c8e7-b254bb517959",
        "colab": {
          "base_uri": "https://localhost:8080/"
        }
      },
      "outputs": [
        {
          "output_type": "stream",
          "name": "stdout",
          "text": [
            "✅ Great job! Exercise completed successfully.\n"
          ]
        }
      ],
      "source": [
        "# Check if all elements in `bool_check_array` are `True`, and store the result in `all_true`.\n",
        "@check_numpy_99\n",
        "def numpy_99(bool_check_array):\n",
        "    # This line is mandatory and should not be removed.\n",
        "    ex_stat_init = True\n",
        "\n",
        "    # BELOW GOES YOUR CODE\n",
        "    all_true = np.all(bool_check_array)\n",
        "    # ABOVE GOES YOUR CODE\n",
        "    return {\"all_true\": all_true}\n",
        "\n",
        "numpy_99()"
      ]
    },
    {
      "cell_type": "code",
      "execution_count": null,
      "metadata": {
        "id": "hxhp49Jivzz3",
        "outputId": "1ebb374a-550b-4556-dee7-e35e35f2ed07",
        "colab": {
          "base_uri": "https://localhost:8080/"
        }
      },
      "outputs": [
        {
          "output_type": "stream",
          "name": "stdout",
          "text": [
            "✅ Great job! Exercise completed successfully.\n"
          ]
        }
      ],
      "source": [
        "# Given two vectors `cos_vector_a` and `cos_vector_b`, calculate the cosine similarity and store it in `cosine_similarity`.\n",
        "@check_numpy_100\n",
        "def numpy_100(cos_vector_a, cos_vector_b):\n",
        "    # This line is mandatory and should not be removed.\n",
        "    ex_stat_init = True\n",
        "\n",
        "    # BELOW GOES YOUR CODE\n",
        "    dot_product = np.dot(cos_vector_a, cos_vector_b)\n",
        "\n",
        "    norm_a = np.linalg.norm(cos_vector_a)\n",
        "    norm_b = np.linalg.norm(cos_vector_b)\n",
        "\n",
        "    if norm_a == 0 or norm_b == 0:\n",
        "        cosine_similarity = 0.0\n",
        "    else:\n",
        "        cosine_similarity = dot_product / (norm_a * norm_b)\n",
        "    # ABOVE GOES YOUR CODE\n",
        "    return {\"cosine_similarity\": cosine_similarity}\n",
        "\n",
        "numpy_100()"
      ]
    },
    {
      "cell_type": "code",
      "execution_count": null,
      "metadata": {
        "id": "4L0jYboEvzz3",
        "outputId": "62e5a3b0-7f71-4ce3-d47e-2fdae1e0f69d",
        "colab": {
          "base_uri": "https://localhost:8080/"
        }
      },
      "outputs": [
        {
          "output_type": "stream",
          "name": "stdout",
          "text": [
            "✅ Great job! Exercise completed successfully.\n"
          ]
        }
      ],
      "source": [
        "# Create a function named `reverse_sort_numpy` that takes a NumPy array `arr`, reverses it, removes duplicate elements using NumPy, and returns a sorted version of the array.\n",
        "@check_numpy_101\n",
        "def numpy_101():\n",
        "    # This line is mandatory and should not be removed.\n",
        "    ex_stat_init = True\n",
        "\n",
        "    # BELOW GOES YOUR CODE\n",
        "    def reverse_sort_numpy(arr):\n",
        "        # Step 1: Reverse the array\n",
        "        reversed_arr = arr[::-1]\n",
        "\n",
        "        # Step 2: Remove duplicate elements\n",
        "        unique_arr = np.unique(reversed_arr)\n",
        "\n",
        "        # Step 3: Sort the resulting array\n",
        "        sorted_arr = np.sort(unique_arr)\n",
        "\n",
        "        return sorted_arr\n",
        "    # ABOVE GOES YOUR CODE\n",
        "    return {\"reverse_sort_numpy\": reverse_sort_numpy}\n",
        "\n",
        "numpy_101()"
      ]
    },
    {
      "cell_type": "code",
      "execution_count": null,
      "metadata": {
        "id": "TxnYhbJUvzz3",
        "outputId": "11230077-ba6f-432c-f902-1e33d19d9634",
        "colab": {
          "base_uri": "https://localhost:8080/"
        }
      },
      "outputs": [
        {
          "output_type": "stream",
          "name": "stdout",
          "text": [
            "✅ Great job! Exercise completed successfully.\n"
          ]
        }
      ],
      "source": [
        "# Write a function `normalize_scale_numpy` that takes a NumPy array `arr` and a range `min_val`, `max_val`. Use NumPy to normalize the array to the range [0, 1], then scale it to the given range, and return the resulting array.\n",
        "@check_numpy_102\n",
        "def numpy_102():\n",
        "    # This line is mandatory and should not be removed.\n",
        "    ex_stat_init = True\n",
        "\n",
        "    # BELOW GOES YOUR CODE\n",
        "    def normalize_scale_numpy(arr, min_val, max_val):\n",
        "      new_arr = []\n",
        "      dif = min_val - max_val\n",
        "      dif_arr = max(arr) - min(arr)\n",
        "      for n in arr:\n",
        "        new_arr.append(((n-min(arr)/dif)*dif_arr)+min_val)\n",
        "    # ABOVE GOES YOUR CODE\n",
        "    return {\"normalize_scale_numpy\": normalize_scale_numpy}\n",
        "\n",
        "numpy_102()"
      ]
    },
    {
      "cell_type": "code",
      "execution_count": null,
      "metadata": {
        "id": "phcr0Oxdvzz4",
        "outputId": "40537036-43c5-4a15-9795-cc74544a3a3a",
        "colab": {
          "base_uri": "https://localhost:8080/"
        }
      },
      "outputs": [
        {
          "output_type": "stream",
          "name": "stdout",
          "text": [
            "✅ Great job! Exercise completed successfully.\n"
          ]
        }
      ],
      "source": [
        "# Develop a function `filter_average_numpy` that takes a NumPy array `data` and a threshold `limit`. Use NumPy to filter elements greater than `limit`, compute their average, and return this average.\n",
        "@check_numpy_103\n",
        "def numpy_103():\n",
        "    # This line is mandatory and should not be removed.\n",
        "    ex_stat_init = True\n",
        "\n",
        "    # BELOW GOES YOUR CODE\n",
        "    def filter_average_numpy(data, limit):\n",
        "      # V1\n",
        "      # limit_arr = []\n",
        "      # for n in data:\n",
        "      #   if n>limit : limit_arr.append(n)\n",
        "      # return np.average(limit_arr)\n",
        "      # V2\n",
        "      filtered_data = data[data > limit]\n",
        "      return np.average(filtered_data) if filtered_data.size > 0 else float('nan')\n",
        "    # ABOVE GOES YOUR CODE\n",
        "    return {\"filter_average_numpy\": filter_average_numpy}\n",
        "\n",
        "numpy_103()"
      ]
    },
    {
      "cell_type": "code",
      "execution_count": null,
      "metadata": {
        "id": "_nqQJgUMvzz4",
        "outputId": "dd1e3614-cf5a-422f-ec04-64f1d01b87e4",
        "colab": {
          "base_uri": "https://localhost:8080/"
        }
      },
      "outputs": [
        {
          "output_type": "stream",
          "name": "stdout",
          "text": [
            "✅ Great job! Exercise completed successfully.\n"
          ]
        }
      ],
      "source": [
        "# Create a function `capitalize_count_numpy` that converts a NumPy array of strings `sentence_array` to capitalize each string's first letter, counts the number of elements, and returns a tuple containing the modified array and the count.\n",
        "@check_numpy_104\n",
        "def numpy_104():\n",
        "    # This line is mandatory and should not be removed.\n",
        "    ex_stat_init = True\n",
        "\n",
        "    # BELOW GOES YOUR CODE\n",
        "    def capitalize_count_numpy(sentence_array):\n",
        "      new_arr =  np.char.capitalize(sentence_array)\n",
        "      return new_arr\n",
        "\n",
        "    # ABOVE GOES YOUR CODE\n",
        "    return {\"capitalize_count_numpy\": capitalize_count_numpy}\n",
        "\n",
        "numpy_104()"
      ]
    },
    {
      "cell_type": "code",
      "execution_count": null,
      "metadata": {
        "id": "fhSE64iIvzz4",
        "outputId": "f31d5f72-7aed-48b9-9030-7d19405f1f13",
        "colab": {
          "base_uri": "https://localhost:8080/"
        }
      },
      "outputs": [
        {
          "output_type": "stream",
          "name": "stdout",
          "text": [
            "✅ Great job! Exercise completed successfully.\n"
          ]
        }
      ],
      "source": [
        "from re import S\n",
        "# Implement a function `clean_categorize_numpy` that processes a NumPy array of strings `items` by stripping spaces and converting to lowercase with NumPy operations, classifying them into 'short' if under 5 characters or 'long' otherwise, returning the counts in a dictionary.\n",
        "@check_numpy_105\n",
        "def numpy_105():\n",
        "    # This line is mandatory and should not be removed.\n",
        "    ex_stat_init = True\n",
        "\n",
        "    # BELOW GOES YOUR CODE\n",
        "    def clean_categorize_numpy (items):\n",
        "      #print(items)\n",
        "      new_arr = np.char.lower(items)\n",
        "      new_arr = np.char.strip(new_arr)\n",
        "      #print(new_arr)\n",
        "      categorized_arr = np.where(np.char.str_len(new_arr) < 5, \"short\", \"long\")\n",
        "      unique, counts = np.unique(categorized_arr, return_counts=True)\n",
        "      count_dict = dict(zip(unique, counts))\n",
        "      #print(count_dict)\n",
        "      return count_dict\n",
        "\n",
        "    # ABOVE GOES YOUR CODE\n",
        "    return {\"clean_categorize_numpy\": clean_categorize_numpy}\n",
        "\n",
        "numpy_105()"
      ]
    },
    {
      "cell_type": "code",
      "execution_count": null,
      "metadata": {
        "id": "Bjn73JgNvzz4",
        "outputId": "98d158ff-79cd-495a-c04f-4c5c0c6bcae2",
        "colab": {
          "base_uri": "https://localhost:8080/"
        }
      },
      "outputs": [
        {
          "output_type": "stream",
          "name": "stdout",
          "text": [
            "12.0\n",
            "12.75\n",
            "[ 10  12  12  13  12 100]\n",
            "6.0\n",
            "8.0\n",
            "[   5    6    7    8 1000]\n",
            "14.25\n",
            "15.0\n",
            "[  15   16   15   14   15 -300]\n",
            "✅ Great job! Exercise completed successfully.\n"
          ]
        }
      ],
      "source": [
        "# Write a function `remove_outliers_stats_numpy` that takes a NumPy array `num_array`, removes outliers more than two standard deviations from the mean using NumPy, and returns a dictionary with 'mean', 'std', and 'filtered' keys.\n",
        "@check_numpy_106\n",
        "def numpy_106():\n",
        "    # This line is mandatory and should not be removed.\n",
        "    ex_stat_init = True\n",
        "\n",
        "    # BELOW GOES YOUR CODE\n",
        "    def remove_outliers_stats_numpy(num_array):\n",
        "      q1 = np.percentile(num_array,25)\n",
        "      q4 = np.percentile(num_array,75)\n",
        "      # print(q1)\n",
        "      # print(q4)\n",
        "      # print(num_array)\n",
        "      iqr = q4 - q1\n",
        "      lower_part = q1 - 1.5 * iqr\n",
        "      upper_part = q4 - 1.5 * iqr\n",
        "      outliner = num_array\n",
        "      new_arr = [n for n in ]\n",
        "    # ABOVE GOES YOUR CODE\n",
        "    return {\"remove_outliers_stats_numpy\": remove_outliers_stats_numpy}\n",
        "\n",
        "numpy_106()"
      ]
    },
    {
      "cell_type": "code",
      "execution_count": null,
      "metadata": {
        "id": "AnM9Rfndvzz4",
        "outputId": "eba103d8-af87-43e0-c02f-aee5afd158a5"
      },
      "outputs": [
        {
          "name": "stdout",
          "output_type": "stream",
          "text": [
            "❗ The implementation is incorrect or the exercise was not implemented.\n"
          ]
        }
      ],
      "source": [
        "# Create a function `unique_sorted_numpy` that accepts a NumPy array `word_arr`. Use NumPy to remove duplicates, sort them alphabetically, and return the sorted array.\n",
        "@check_numpy_107\n",
        "def numpy_107():\n",
        "    # This line is mandatory and should not be removed.\n",
        "    ex_stat_init = True\n",
        "\n",
        "    # BELOW GOES YOUR CODE\n",
        "\n",
        "    # ABOVE GOES YOUR CODE\n",
        "    return {\"unique_sorted_numpy\": unique_sorted_numpy}\n",
        "\n",
        "numpy_107()"
      ]
    },
    {
      "cell_type": "code",
      "execution_count": null,
      "metadata": {
        "id": "Bqy14RJHvzz4",
        "outputId": "775a0f30-dbe6-4c2b-d09b-139e7561a228"
      },
      "outputs": [
        {
          "name": "stdout",
          "output_type": "stream",
          "text": [
            "❗ The implementation is incorrect or the exercise was not implemented.\n"
          ]
        }
      ],
      "source": [
        "# Implement a function `format_join_numpy` that takes a NumPy array of strings `words_array`, uses NumPy to title case each word, filter words less than 4 characters, and joins them with a hyphen, returning the final string.\n",
        "@check_numpy_108\n",
        "def numpy_108():\n",
        "    # This line is mandatory and should not be removed.\n",
        "    ex_stat_init = True\n",
        "\n",
        "    # BELOW GOES YOUR CODE\n",
        "\n",
        "    # ABOVE GOES YOUR CODE\n",
        "    return {\"format_join_numpy\": format_join_numpy}\n",
        "\n",
        "numpy_108()"
      ]
    },
    {
      "cell_type": "code",
      "execution_count": null,
      "metadata": {
        "id": "ynh9lLmBvzz4",
        "outputId": "462c902b-1084-4e55-8e09-3592a6221e2f"
      },
      "outputs": [
        {
          "name": "stdout",
          "output_type": "stream",
          "text": [
            "❗ The implementation is incorrect or the exercise was not implemented.\n"
          ]
        }
      ],
      "source": [
        "# Write a function `classify_numbers_numpy` that takes a NumPy array `nums`. Use NumPy functions to detect prime numbers and separate them from non-prime numbers, returning both as arrays.\n",
        "@check_numpy_109\n",
        "def numpy_109():\n",
        "    # This line is mandatory and should not be removed.\n",
        "    ex_stat_init = True\n",
        "\n",
        "    # BELOW GOES YOUR CODE\n",
        "\n",
        "    # ABOVE GOES YOUR CODE\n",
        "    return {\"classify_numbers_numpy\": classify_numbers_numpy}\n",
        "\n",
        "numpy_109()"
      ]
    },
    {
      "cell_type": "code",
      "execution_count": null,
      "metadata": {
        "id": "REtxSedTvzz4",
        "outputId": "923b305b-9142-43aa-a038-335790b416e1"
      },
      "outputs": [
        {
          "name": "stdout",
          "output_type": "stream",
          "text": [
            "❗ The implementation is incorrect or the exercise was not implemented.\n"
          ]
        }
      ],
      "source": [
        "# Develop a function `flatten_filter_numpy` that accepts a NumPy array of arrays `list_of_arrays`, flattens it using NumPy, filters out numbers less than 10 using NumPy, and returns the filtered flat array.\n",
        "@check_numpy_110\n",
        "def numpy_110():\n",
        "    # This line is mandatory and should not be removed.\n",
        "    ex_stat_init = True\n",
        "\n",
        "    # BELOW GOES YOUR CODE\n",
        "\n",
        "    # ABOVE GOES YOUR CODE\n",
        "    return {\"flatten_filter_numpy\": flatten_filter_numpy}\n",
        "\n",
        "numpy_110()"
      ]
    },
    {
      "cell_type": "code",
      "execution_count": null,
      "metadata": {
        "id": "O7YcfP6rvzz5",
        "outputId": "29bddbdb-616a-4a11-c1c8-09d0a9ffd87c"
      },
      "outputs": [
        {
          "name": "stdout",
          "output_type": "stream",
          "text": [
            "❗ The implementation is incorrect or the exercise was not implemented.\n"
          ]
        }
      ],
      "source": [
        "# Create a function `square_filter_negatives_numpy` that takes a NumPy array `arr`, squares each element using NumPy array operations, removes negative elements, and returns the resulting array.\n",
        "@check_numpy_111\n",
        "def numpy_111():\n",
        "    # This line is mandatory and should not be removed.\n",
        "    ex_stat_init = True\n",
        "\n",
        "    # BELOW GOES YOUR CODE\n",
        "\n",
        "    # ABOVE GOES YOUR CODE\n",
        "    return {\"square_filter_negatives_numpy\": square_filter_negatives_numpy}\n",
        "\n",
        "numpy_111()"
      ]
    },
    {
      "cell_type": "code",
      "execution_count": null,
      "metadata": {
        "id": "bNxJSD_Avzz5",
        "outputId": "d94efaed-6079-4e7f-978f-abb19fd6083e"
      },
      "outputs": [
        {
          "name": "stdout",
          "output_type": "stream",
          "text": [
            "❗ The implementation is incorrect or the exercise was not implemented.\n"
          ]
        }
      ],
      "source": [
        "# Implement a function `divide_round_numpy` that takes a NumPy array `values` and a divisor `d`. Divide each element using NumPy, round to two decimal places, and return the resulting array.\n",
        "@check_numpy_112\n",
        "def numpy_112():\n",
        "    # This line is mandatory and should not be removed.\n",
        "    ex_stat_init = True\n",
        "\n",
        "    # BELOW GOES YOUR CODE\n",
        "\n",
        "    # ABOVE GOES YOUR CODE\n",
        "    return {\"divide_round_numpy\": divide_round_numpy}\n",
        "\n",
        "numpy_112()"
      ]
    },
    {
      "cell_type": "code",
      "execution_count": null,
      "metadata": {
        "id": "Y6NX-_qqvzz5",
        "outputId": "aade0afc-f70f-4e46-edca-b54c88557e77"
      },
      "outputs": [
        {
          "name": "stdout",
          "output_type": "stream",
          "text": [
            "❗ The implementation is incorrect or the exercise was not implemented.\n"
          ]
        }
      ],
      "source": [
        "# Write a function `zip_sum_numpy` that takes two NumPy arrays `array1` and `array2`, adds each corresponding element (pair) using NumPy, and returns a new array of these sums.\n",
        "@check_numpy_113\n",
        "def numpy_113():\n",
        "    # This line is mandatory and should not be removed.\n",
        "    ex_stat_init = True\n",
        "\n",
        "    # BELOW GOES YOUR CODE\n",
        "\n",
        "    # ABOVE GOES YOUR CODE\n",
        "    return {\"zip_sum_numpy\": zip_sum_numpy}\n",
        "\n",
        "numpy_113()"
      ]
    },
    {
      "cell_type": "code",
      "execution_count": null,
      "metadata": {
        "id": "8U9V-Bt8vzz5",
        "outputId": "3bf00f1e-3662-44b2-b311-31c5402b66be"
      },
      "outputs": [
        {
          "name": "stdout",
          "output_type": "stream",
          "text": [
            "❗ The implementation is incorrect or the exercise was not implemented.\n"
          ]
        }
      ],
      "source": [
        "# Create a function `binary_classification_numpy` that takes an array `classes` with values `0` and `1`. Use NumPy to count each, calculate their percentages, and return a dictionary with this data.\n",
        "@check_numpy_114\n",
        "def numpy_114():\n",
        "    # This line is mandatory and should not be removed.\n",
        "    ex_stat_init = True\n",
        "\n",
        "    # BELOW GOES YOUR CODE\n",
        "\n",
        "    # ABOVE GOES YOUR CODE\n",
        "    return {\"binary_classification_numpy\": binary_classification_numpy}\n",
        "\n",
        "numpy_114()"
      ]
    },
    {
      "cell_type": "code",
      "execution_count": null,
      "metadata": {
        "id": "njIb9OcBvzz5",
        "outputId": "fb33fc12-a768-45b2-8a5f-4dd5bfb0dedc"
      },
      "outputs": [
        {
          "name": "stdout",
          "output_type": "stream",
          "text": [
            "❗ The implementation is incorrect or the exercise was not implemented.\n"
          ]
        }
      ],
      "source": [
        "# Develop a function `parse_convert_dates_numpy` that processes a NumPy array of date strings `date_strs` in `MM/DD/YYYY` format, converting them into `YYYY-MM-DD` using NumPy, sorting them, and returning the sorted array.\n",
        "@check_numpy_115\n",
        "def numpy_115():\n",
        "    # This line is mandatory and should not be removed.\n",
        "    ex_stat_init = True\n",
        "\n",
        "    # BELOW GOES YOUR CODE\n",
        "\n",
        "    # ABOVE GOES YOUR CODE\n",
        "    return {\"parse_convert_dates_numpy\": parse_convert_dates_numpy}\n",
        "\n",
        "numpy_115()"
      ]
    },
    {
      "cell_type": "code",
      "execution_count": null,
      "metadata": {
        "id": "AM1g_V6Fvzz5",
        "outputId": "8ceec3a0-9d30-4587-9dea-e601fafefc2e"
      },
      "outputs": [
        {
          "name": "stdout",
          "output_type": "stream",
          "text": [
            "❗ The implementation is incorrect or the exercise was not implemented.\n"
          ]
        }
      ],
      "source": [
        "# Implement a function `interleave_double_numpy` that accepts two NumPy arrays `arr1` and `arr2`. Use NumPy to interleave elements, double elements from `arr2`, and return the final array.\n",
        "@check_numpy_116\n",
        "def numpy_116():\n",
        "    # This line is mandatory and should not be removed.\n",
        "    ex_stat_init = True\n",
        "\n",
        "    # BELOW GOES YOUR CODE\n",
        "\n",
        "    # ABOVE GOES YOUR CODE\n",
        "    return {\"interleave_double_numpy\": interleave_double_numpy}\n",
        "\n",
        "numpy_116()"
      ]
    },
    {
      "cell_type": "code",
      "execution_count": null,
      "metadata": {
        "id": "8qXOEvMivzz5",
        "outputId": "a38485fd-faef-40bd-a0e8-e84cddd9f9c5"
      },
      "outputs": [
        {
          "name": "stdout",
          "output_type": "stream",
          "text": [
            "❗ The implementation is incorrect or the exercise was not implemented.\n"
          ]
        }
      ],
      "source": [
        "# Write a function `group_count_numpy` that takes a NumPy array of strings `str_arr`. Use NumPy to group by length, calculate the occurrence count of each length, and return a dictionary with lengths as keys and counts as values.\n",
        "@check_numpy_117\n",
        "def numpy_117():\n",
        "    # This line is mandatory and should not be removed.\n",
        "    ex_stat_init = True\n",
        "\n",
        "    # BELOW GOES YOUR CODE\n",
        "\n",
        "    # ABOVE GOES YOUR CODE\n",
        "    return {\"group_count_numpy\": group_count_numpy}\n",
        "\n",
        "numpy_117()"
      ]
    },
    {
      "cell_type": "code",
      "execution_count": null,
      "metadata": {
        "id": "KqqoiHTGvzz6",
        "outputId": "a25a648c-13b6-4934-cb7e-a46b84bd8c61"
      },
      "outputs": [
        {
          "name": "stdout",
          "output_type": "stream",
          "text": [
            "❗ The implementation is incorrect or the exercise was not implemented.\n"
          ]
        }
      ],
      "source": [
        "# Create a function `remove_false_combine_numpy` that processes two NumPy boolean arrays `bool_arr1` and `bool_arr2`. Remove `False` entries using NumPy, concatenate them, and return the combined array.\n",
        "@check_numpy_118\n",
        "def numpy_118():\n",
        "    # This line is mandatory and should not be removed.\n",
        "    ex_stat_init = True\n",
        "\n",
        "    # BELOW GOES YOUR CODE\n",
        "\n",
        "    # ABOVE GOES YOUR CODE\n",
        "    return {\"remove_false_combine_numpy\": remove_false_combine_numpy}\n",
        "\n",
        "numpy_118()"
      ]
    },
    {
      "cell_type": "code",
      "execution_count": null,
      "metadata": {
        "id": "rkC5gp2cvzz6",
        "outputId": "133fee92-6535-4bab-ca75-bb164948dc1e"
      },
      "outputs": [
        {
          "name": "stdout",
          "output_type": "stream",
          "text": [
            "❗ The implementation is incorrect or the exercise was not implemented.\n"
          ]
        }
      ],
      "source": [
        "# Develop a function `check_palindrome_reverse_numpy` that takes a NumPy array of strings `strs`, uses NumPy to filter out non-alphabetic, checks for palindromes, and returns the strings in reverse order.\n",
        "@check_numpy_119\n",
        "def numpy_119():\n",
        "    # This line is mandatory and should not be removed.\n",
        "    ex_stat_init = True\n",
        "\n",
        "    # BELOW GOES YOUR CODE\n",
        "\n",
        "    # ABOVE GOES YOUR CODE\n",
        "    return {\"check_palindrome_reverse_numpy\": check_palindrome_reverse_numpy}\n",
        "\n",
        "numpy_119()"
      ]
    },
    {
      "cell_type": "code",
      "execution_count": null,
      "metadata": {
        "id": "pKpi1S8Nvzz6",
        "outputId": "73aa363e-667e-4a36-c147-0087d8429c67"
      },
      "outputs": [
        {
          "name": "stdout",
          "output_type": "stream",
          "text": [
            "❗ The implementation is incorrect or the exercise was not implemented.\n"
          ]
        }
      ],
      "source": [
        "# Implement a function `find_duplicates_unique_numpy` that accepts a NumPy array `elements`, identifies duplicates using NumPy, separates from unique elements, and returns a tuple of duplicate and unique arrays.\n",
        "@check_numpy_120\n",
        "def numpy_120():\n",
        "    # This line is mandatory and should not be removed.\n",
        "    ex_stat_init = True\n",
        "\n",
        "    # BELOW GOES YOUR CODE\n",
        "\n",
        "    # ABOVE GOES YOUR CODE\n",
        "    return {\"find_duplicates_unique_numpy\": find_duplicates_unique_numpy}\n",
        "\n",
        "numpy_120()"
      ]
    },
    {
      "cell_type": "code",
      "execution_count": null,
      "metadata": {
        "id": "QpmZ8nn1vzz6",
        "outputId": "76e037b4-580c-43c9-92bf-42499beeb058"
      },
      "outputs": [
        {
          "name": "stdout",
          "output_type": "stream",
          "text": [
            "❗ The implementation is incorrect or the exercise was not implemented.\n"
          ]
        }
      ],
      "source": [
        "# Write a function `scale_match_numpy` that takes two NumPy arrays `arr_a` and `arr_b`, scales each by their respective maximum with NumPy, and returns `True` if they are identical, otherwise `False`.\n",
        "@check_numpy_121\n",
        "def numpy_121():\n",
        "    # This line is mandatory and should not be removed.\n",
        "    ex_stat_init = True\n",
        "\n",
        "    # BELOW GOES YOUR CODE\n",
        "\n",
        "    # ABOVE GOES YOUR CODE\n",
        "    return {\"scale_match_numpy\": scale_match_numpy}\n",
        "\n",
        "numpy_121()"
      ]
    },
    {
      "cell_type": "code",
      "execution_count": null,
      "metadata": {
        "id": "nX_Ys6E8vzz6",
        "outputId": "7152ca9e-2411-4ccd-c7c1-86114cee7bed"
      },
      "outputs": [
        {
          "name": "stdout",
          "output_type": "stream",
          "text": [
            "❗ The implementation is incorrect or the exercise was not implemented.\n"
          ]
        }
      ],
      "source": [
        "# Create a function `calculate_ratios_sort_numpy` that takes two NumPy arrays `numers` and `denoms`. Calculate ratios using NumPy, sort them, and return a new array of sorted ratios.\n",
        "@check_numpy_122\n",
        "def numpy_122():\n",
        "    # This line is mandatory and should not be removed.\n",
        "    ex_stat_init = True\n",
        "\n",
        "    # BELOW GOES YOUR CODE\n",
        "\n",
        "    # ABOVE GOES YOUR CODE\n",
        "    return {\"calculate_ratios_sort_numpy\": calculate_ratios_sort_numpy}\n",
        "\n",
        "numpy_122()"
      ]
    },
    {
      "cell_type": "code",
      "execution_count": null,
      "metadata": {
        "id": "eyV03OnDvzz6",
        "outputId": "bc2c852d-a5c9-4418-9ed4-5dd141b000e4"
      },
      "outputs": [
        {
          "name": "stdout",
          "output_type": "stream",
          "text": [
            "❗ The implementation is incorrect or the exercise was not implemented.\n"
          ]
        }
      ],
      "source": [
        "# Develop a function `decode_filter_numpy` that processes a NumPy array `codes`, decodes using NumPy string operations, filters messages containing digits, and returns the cleaned array.\n",
        "@check_numpy_123\n",
        "def numpy_123():\n",
        "    # This line is mandatory and should not be removed.\n",
        "    ex_stat_init = True\n",
        "\n",
        "    # BELOW GOES YOUR CODE\n",
        "\n",
        "    # ABOVE GOES YOUR CODE\n",
        "    return {\"decode_filter_numpy\": decode_filter_numpy}\n",
        "\n",
        "numpy_123()"
      ]
    },
    {
      "cell_type": "code",
      "execution_count": null,
      "metadata": {
        "id": "UqoqsAFOvzz6",
        "outputId": "339ff474-5193-4bba-81c3-1bb393436a16"
      },
      "outputs": [
        {
          "name": "stdout",
          "output_type": "stream",
          "text": [
            "❗ The implementation is incorrect or the exercise was not implemented.\n"
          ]
        }
      ],
      "source": [
        "# Implement a function `sync_sum_json_numpy` that takes two JSON-like dictionaries `data1` and `data2`, synchronizes with NumPy by common keys, sums values, and returns the resulting dictionary.\n",
        "@check_numpy_124\n",
        "def numpy_124():\n",
        "    # This line is mandatory and should not be removed.\n",
        "    ex_stat_init = True\n",
        "\n",
        "    # BELOW GOES YOUR CODE\n",
        "\n",
        "    # ABOVE GOES YOUR CODE\n",
        "    return {\"sync_sum_json_numpy\": sync_sum_json_numpy}\n",
        "\n",
        "numpy_124()"
      ]
    },
    {
      "cell_type": "code",
      "execution_count": null,
      "metadata": {
        "id": "MmZIIdbjvzz7",
        "outputId": "cbe8c32d-a8b8-4c54-a625-a2d55adc2657"
      },
      "outputs": [
        {
          "name": "stdout",
          "output_type": "stream",
          "text": [
            "❗ The implementation is incorrect or the exercise was not implemented.\n"
          ]
        }
      ],
      "source": [
        "# Write a function `tokenize_compare_numpy` that takes two NumPy string arrays `para1` and `para2`, tokenizes using NumPy, calculates the set difference with NumPy, and returns a list of unique words in one array.\n",
        "@check_numpy_125\n",
        "def numpy_125():\n",
        "    # This line is mandatory and should not be removed.\n",
        "    ex_stat_init = True\n",
        "\n",
        "    # BELOW GOES YOUR CODE\n",
        "\n",
        "    # ABOVE GOES YOUR CODE\n",
        "    return {\"tokenize_compare_numpy\": tokenize_compare_numpy}\n",
        "\n",
        "numpy_125()"
      ]
    }
  ],
  "metadata": {
    "kernelspec": {
      "display_name": "excalibur",
      "language": "python",
      "name": "python3"
    },
    "language_info": {
      "codemirror_mode": {
        "name": "ipython",
        "version": 3
      },
      "file_extension": ".py",
      "mimetype": "text/x-python",
      "name": "python",
      "nbconvert_exporter": "python",
      "pygments_lexer": "ipython3",
      "version": "3.12.5"
    },
    "colab": {
      "provenance": []
    }
  },
  "nbformat": 4,
  "nbformat_minor": 0
}